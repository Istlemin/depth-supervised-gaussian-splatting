{
 "cells": [
  {
   "cell_type": "code",
   "execution_count": 7,
   "metadata": {},
   "outputs": [
    {
     "name": "stdout",
     "output_type": "stream",
     "text": [
      "Reading camera 14/192"
     ]
    },
    {
     "name": "stdout",
     "output_type": "stream",
     "text": [
      "Reading camera 192/192\n",
      "Converting point3d.bin to .ply, will happen only the first time you open the scene.\n",
      "Loading Training Cameras\n",
      "Loading Test Cameras\n",
      "Number of points at initialisation :  3355\n",
      "2.8093648193931666 -0.33844559854187223\n"
     ]
    }
   ],
   "source": [
    "from arguments import ModelParams, ArgumentParser\n",
    "from depth_images import calibrate_depth\n",
    "from gaussian_renderer import GaussianModel\n",
    "from scene import Scene\n",
    "import matplotlib.pyplot as plt\n",
    "\n",
    "parser = ArgumentParser()\n",
    "dataset = ModelParams(parser)\n",
    "dataset.model_path = \"\"\n",
    "dataset.source_path = \"../data/redwood_proc/00002/\"\n",
    "dataset.images = \"images\"\n",
    "dataset.resolution = -1\n",
    "dataset.white_background = False\n",
    "dataset.eval=True\n",
    "dataset.num_train_images = 6\n",
    "gaussians = GaussianModel(dataset.sh_degree)\n",
    "scene = Scene(dataset, gaussians,shuffle=False)\n",
    "\n",
    "calibrate_depth(scene)"
   ]
  },
  {
   "cell_type": "code",
   "execution_count": 8,
   "metadata": {},
   "outputs": [],
   "source": [
    "import open3d as o3d\n",
    "import numpy as np\n",
    "from utils.graphics_utils import fov2focal"
   ]
  },
  {
   "cell_type": "code",
   "execution_count": 9,
   "metadata": {},
   "outputs": [],
   "source": [
    "def camera_to_pcd(camera):\n",
    "    intrinics = o3d.camera.PinholeCameraIntrinsic(\n",
    "        camera.image_width,\n",
    "        camera.image_height,\n",
    "        500,\n",
    "        500,\n",
    "        camera.image_width/2,\n",
    "        camera.image_height/2,\n",
    "    )\n",
    "\n",
    "    depth_image_o3d = o3d.geometry.Image(2.5/2.6*camera.depth.numpy()[0].astype(np.float32))\n",
    "    pcd = o3d.geometry.PointCloud.create_from_depth_image(depth_image_o3d,intrinics,camera.world_view_transform.cpu().numpy().T)\n",
    "    pcd.estimate_normals(search_param=o3d.geometry.KDTreeSearchParamHybrid(radius=10, max_nn=30))\n",
    "    return pcd\n",
    "\n",
    "all_pcds = []\n",
    "for i,camera in enumerate(scene.getTrainCameras()):\n",
    "    pcd = camera_to_pcd(camera)\n",
    "    all_pcds.append(pcd)"
   ]
  },
  {
   "cell_type": "code",
   "execution_count": 10,
   "metadata": {},
   "outputs": [],
   "source": [
    "def pairwise_registration(source, target,max_correspondence_distance_coarse,\n",
    "                      max_correspondence_distance_fine):\n",
    "    print(\"Apply point-to-plane ICP\")\n",
    "    icp_coarse = o3d.registration.registration_icp(\n",
    "        source, target, max_correspondence_distance_coarse, np.identity(4),\n",
    "        o3d.registration.TransformationEstimationPointToPlane())\n",
    "    icp_fine = o3d.registration.registration_icp(\n",
    "        source, target, max_correspondence_distance_fine,\n",
    "        icp_coarse.transformation,\n",
    "        o3d.registration.TransformationEstimationPointToPlane())\n",
    "    transformation_icp = icp_fine.transformation\n",
    "    information_icp = o3d.registration.get_information_matrix_from_point_clouds(\n",
    "        source, target, max_correspondence_distance_fine,\n",
    "        icp_fine.transformation)\n",
    "    return transformation_icp, information_icp\n",
    "\n",
    "\n",
    "def full_registration(pcds, max_correspondence_distance_coarse,\n",
    "                      max_correspondence_distance_fine):\n",
    "    pose_graph = o3d.registration.PoseGraph()\n",
    "    odometry = np.identity(4)\n",
    "    pose_graph.nodes.append(o3d.registration.PoseGraphNode(odometry))\n",
    "    n_pcds = len(pcds)\n",
    "    for source_id in range(n_pcds):\n",
    "        for target_id in range(source_id + 1, n_pcds):\n",
    "            transformation_icp, information_icp = pairwise_registration(\n",
    "                pcds[source_id], pcds[target_id],max_correspondence_distance_coarse,\n",
    "                      max_correspondence_distance_fine)\n",
    "            print(\"Build o3d.registration.PoseGraph\")\n",
    "            if target_id == source_id + 1:  # odometry case\n",
    "                odometry = np.dot(transformation_icp, odometry)\n",
    "                pose_graph.nodes.append(\n",
    "                    o3d.registration.PoseGraphNode(\n",
    "                        np.linalg.inv(odometry)))\n",
    "                pose_graph.edges.append(\n",
    "                    o3d.registration.PoseGraphEdge(source_id,\n",
    "                                                             target_id,\n",
    "                                                             transformation_icp,\n",
    "                                                             information_icp,\n",
    "                                                             uncertain=False))\n",
    "            else:  # loop closure case\n",
    "                pose_graph.edges.append(\n",
    "                    o3d.registration.PoseGraphEdge(source_id,\n",
    "                                                             target_id,\n",
    "                                                             transformation_icp,\n",
    "                                                             information_icp,\n",
    "                                                             uncertain=True))\n",
    "    return pose_graph\n",
    "\n",
    "def register_pointclouds(all_pcds):\n",
    "    print(\"Full registration ...\")\n",
    "    voxel_size = 1\n",
    "    max_correspondence_distance_coarse = voxel_size * 15\n",
    "    max_correspondence_distance_fine = voxel_size * 1.5\n",
    "    #with o3d.utility.VerbosityContextManager(\n",
    "    #        o3d.utility.VerbosityLevel.Debug) as cm:\n",
    "    pose_graph = full_registration(all_pcds,\n",
    "                                    max_correspondence_distance_coarse,\n",
    "                                    max_correspondence_distance_fine)\n",
    "\n",
    "    print(\"Optimizing PoseGraph ...\")\n",
    "    option = o3d.registration.GlobalOptimizationOption(\n",
    "        max_correspondence_distance=max_correspondence_distance_fine,\n",
    "        edge_prune_threshold=0.25,\n",
    "        reference_node=0)\n",
    "    # with o3d.utility.VerbosityContextManager(o3d.utility.VerbosityLevel.Debug) as cm:\n",
    "    o3d.registration.global_optimization(\n",
    "        pose_graph, o3d.registration.GlobalOptimizationLevenbergMarquardt(),\n",
    "        o3d.registration.GlobalOptimizationConvergenceCriteria(), option)\n",
    "\n",
    "    for point_id in range(len(all_pcds)):\n",
    "        print(pose_graph.nodes[point_id].pose)\n",
    "        print(pose_graph.nodes[point_id].pose)\n",
    "        all_pcds[point_id].transform(pose_graph.nodes[point_id].pose)"
   ]
  },
  {
   "cell_type": "code",
   "execution_count": 11,
   "metadata": {},
   "outputs": [
    {
     "data": {
      "text/plain": [
       "True"
      ]
     },
     "execution_count": 11,
     "metadata": {},
     "output_type": "execute_result"
    }
   ],
   "source": [
    "all_points = []\n",
    "all_colors = []\n",
    "for i,pcd in enumerate(all_pcds):\n",
    "    points = np.array(pcd.points)\n",
    "    colors = np.zeros_like(points)\n",
    "    colors[:,i%3] = 1.0\n",
    "    if i>=3:\n",
    "        colors[:,(i+1)%3] = 1.0\n",
    "    all_points.append(points)\n",
    "    all_colors.append(colors)\n",
    "\n",
    "pcd = o3d.geometry.PointCloud()\n",
    "pcd.points = o3d.utility.Vector3dVector(np.concatenate(all_points))\n",
    "pcd.colors = o3d.utility.Vector3dVector(np.concatenate(all_colors))\n",
    "o3d.io.write_point_cloud(\"test.ply\", pcd)"
   ]
  }
 ],
 "metadata": {
  "kernelspec": {
   "display_name": "gaussian_splatting",
   "language": "python",
   "name": "python3"
  },
  "language_info": {
   "codemirror_mode": {
    "name": "ipython",
    "version": 3
   },
   "file_extension": ".py",
   "mimetype": "text/x-python",
   "name": "python",
   "nbconvert_exporter": "python",
   "pygments_lexer": "ipython3",
   "version": "3.7.12"
  }
 },
 "nbformat": 4,
 "nbformat_minor": 2
}
