{
 "cells": [
  {
   "cell_type": "code",
   "execution_count": 2,
   "metadata": {},
   "outputs": [],
   "source": [
    "from argparse import Namespace\n",
    "from pathlib import Path\n",
    "from glob import glob\n",
    "import json\n",
    "import plotly.express as px\n",
    "\n",
    "scenes = []\n",
    "for path in glob(\"../output/*\"):\n",
    "    try:\n",
    "        namespace = eval((Path(path) / \"cfg_args\").read_text())\n",
    "        results = None\n",
    "        if (Path(path) / \"results.json\").exists():\n",
    "            results = json.loads((Path(path) / \"results.json\").read_text())\n",
    "            scenes.append((namespace,results))\n",
    "    except FileNotFoundError as e:\n",
    "        print(e)"
   ]
  },
  {
   "cell_type": "code",
   "execution_count": 3,
   "metadata": {},
   "outputs": [
    {
     "name": "stdout",
     "output_type": "stream",
     "text": [
      "mic\n",
      "normal_alpha_7000\n",
      "normal_alpha_7000\n",
      "multitexture_alpha_30000\n",
      "multitexture_alpha_30000\n",
      "multitexture_alpha_2000\n",
      "multitexture_alpha_2000\n",
      "normal_alpha_10000\n",
      "normal_alpha_10000\n",
      "multitexture_alpha_4000\n",
      "multitexture_alpha_4000\n",
      "normal_alpha_25000\n",
      "normal_alpha_25000\n",
      "texture_alpha_4000\n",
      "texture_alpha_4000\n",
      "texture_alpha_10000\n",
      "texture_alpha_10000\n",
      "texture_alpha_13000\n",
      "texture_alpha_13000\n",
      "texture_alpha_16000\n",
      "texture_alpha_16000\n",
      "normal_alpha_5000\n",
      "normal_alpha_5000\n",
      "multitexture_alpha_10000\n",
      "multitexture_alpha_10000\n",
      "texture_alpha_5000\n",
      "texture_alpha_5000\n",
      "multitexture_alpha_3000\n",
      "multitexture_alpha_3000\n",
      "texture_alpha_20000\n",
      "texture_alpha_20000\n",
      "multitexture_alpha_25000\n",
      "multitexture_alpha_25000\n",
      "texture_alpha_1000\n",
      "texture_alpha_1000\n",
      "multitexture_alpha_5000\n",
      "multitexture_alpha_5000\n",
      "normal_alpha_20000\n",
      "normal_alpha_20000\n",
      "texture_alpha_3000\n",
      "texture_alpha_3000\n",
      "normal_alpha_13000\n",
      "normal_alpha_13000\n",
      "texture_alpha_25000\n",
      "texture_alpha_25000\n",
      "multitexture_alpha_1000\n",
      "multitexture_alpha_1000\n",
      "normal_alpha_4000\n",
      "normal_alpha_4000\n",
      "normal_alpha_30000\n",
      "normal_alpha_30000\n",
      "normal_alpha_1000\n",
      "normal_alpha_1000\n",
      "texture_alpha_2000\n",
      "texture_alpha_2000\n",
      "normal_alpha_2000\n",
      "normal_alpha_2000\n",
      "texture_alpha_7000\n",
      "texture_alpha_7000\n",
      "normal_alpha_16000\n",
      "normal_alpha_16000\n",
      "multitexture_alpha_20000\n",
      "multitexture_alpha_20000\n",
      "multitexture_alpha_16000\n",
      "multitexture_alpha_16000\n",
      "normal_alpha_3000\n",
      "normal_alpha_3000\n",
      "multitexture_alpha_13000\n",
      "multitexture_alpha_13000\n",
      "multitexture_alpha_7000\n",
      "multitexture_alpha_7000\n",
      "texture_alpha_30000\n",
      "texture_alpha_30000\n",
      "mic\n",
      "texture_alpha_30000_50\n",
      "texture_alpha_30000\n",
      "texture_alpha_20000_50\n",
      "texture_alpha_20000\n",
      "texture_alpha_2000_50\n",
      "texture_alpha_2000\n",
      "multitexture_alpha_30000\n",
      "multitexture_alpha_30000\n",
      "multitexture_alpha_2000\n",
      "multitexture_alpha_2000\n",
      "multitexture_alpha_4000\n",
      "multitexture_alpha_4000\n",
      "texture_alpha_30000_20\n",
      "texture_alpha_30000\n",
      "texture_alpha_13000_50\n",
      "texture_alpha_13000\n",
      "texture_alpha_30000_40\n",
      "texture_alpha_30000\n",
      "texture_alpha_4000\n",
      "texture_alpha_4000\n",
      "texture_alpha_3000_50\n",
      "texture_alpha_3000\n",
      "texture_alpha_30000_5\n",
      "texture_alpha_30000\n",
      "texture_alpha_10000\n",
      "texture_alpha_10000\n",
      "texture_alpha_13000\n",
      "texture_alpha_13000\n",
      "texture_alpha_1000_50\n",
      "texture_alpha_1000\n",
      "texture_alpha_16000\n",
      "texture_alpha_16000\n",
      "texture_alpha_30000_1\n",
      "texture_alpha_30000\n",
      "multitexture_alpha_10000\n",
      "multitexture_alpha_10000\n",
      "texture_alpha_5000\n",
      "texture_alpha_5000\n",
      "multitexture_alpha_3000\n",
      "multitexture_alpha_3000\n",
      "texture_alpha_20000\n",
      "texture_alpha_20000\n",
      "multitexture_alpha_25000\n",
      "multitexture_alpha_25000\n",
      "texture_alpha_1000\n",
      "texture_alpha_1000\n",
      "multitexture_alpha_5000\n",
      "multitexture_alpha_5000\n",
      "texture_alpha_3000\n",
      "texture_alpha_3000\n",
      "texture_alpha_25000\n",
      "texture_alpha_25000\n",
      "texture_alpha_4000_50\n",
      "texture_alpha_4000\n",
      "multitexture_alpha_1000\n",
      "multitexture_alpha_1000\n",
      "texture_alpha_16000_50\n",
      "texture_alpha_16000\n",
      "texture_alpha_10000_50\n",
      "texture_alpha_10000\n",
      "texture_alpha_2000\n",
      "texture_alpha_2000\n",
      "texture_alpha_7000\n",
      "texture_alpha_7000\n",
      "texture_alpha_25000_50\n",
      "texture_alpha_25000\n",
      "texture_alpha_5000_50\n",
      "texture_alpha_5000\n",
      "multitexture_alpha_20000\n",
      "multitexture_alpha_20000\n",
      "multitexture_alpha_16000\n",
      "multitexture_alpha_16000\n",
      "texture_alpha_7000_50\n",
      "texture_alpha_7000\n",
      "texture_alpha_30000_10\n",
      "texture_alpha_30000\n",
      "multitexture_alpha_13000\n",
      "multitexture_alpha_13000\n",
      "texture_alpha_30000_30\n",
      "texture_alpha_30000\n",
      "multitexture_alpha_7000\n",
      "multitexture_alpha_7000\n",
      "texture_alpha_30000\n",
      "texture_alpha_30000\n",
      "chair_background2\n",
      "texture_alpha_30000_50\n",
      "texture_alpha_30000\n",
      "texture_alpha_20000_50\n",
      "texture_alpha_20000\n",
      "texture_alpha_2000_50\n",
      "texture_alpha_2000\n",
      "multitexture_alpha_30000\n",
      "multitexture_alpha_30000\n",
      "multitexture_alpha_2000\n",
      "multitexture_alpha_2000\n",
      "multitexture_alpha_4000\n",
      "multitexture_alpha_4000\n",
      "texture_alpha_30000_20\n",
      "texture_alpha_30000\n",
      "texture_alpha_13000_50\n",
      "texture_alpha_13000\n",
      "texture_alpha_30000_40\n",
      "texture_alpha_30000\n",
      "texture_alpha_4000\n",
      "texture_alpha_4000\n",
      "texture_alpha_3000_50\n",
      "texture_alpha_3000\n",
      "texture_alpha_30000_5\n",
      "texture_alpha_30000\n",
      "texture_alpha_10000\n",
      "texture_alpha_10000\n",
      "texture_alpha_13000\n",
      "texture_alpha_13000\n",
      "texture_alpha_1000_50\n",
      "texture_alpha_1000\n",
      "texture_alpha_16000\n",
      "texture_alpha_16000\n",
      "texture_alpha_30000_1\n",
      "texture_alpha_30000\n",
      "multitexture_alpha_10000\n",
      "multitexture_alpha_10000\n",
      "texture_alpha_5000\n",
      "texture_alpha_5000\n",
      "multitexture_alpha_3000\n",
      "multitexture_alpha_3000\n",
      "texture_alpha_20000\n",
      "texture_alpha_20000\n",
      "multitexture_alpha_25000\n",
      "multitexture_alpha_25000\n",
      "texture_alpha_1000\n",
      "texture_alpha_1000\n",
      "multitexture_alpha_5000\n",
      "multitexture_alpha_5000\n",
      "texture_alpha_3000\n",
      "texture_alpha_3000\n",
      "texture_alpha_25000\n",
      "texture_alpha_25000\n",
      "texture_alpha_4000_50\n",
      "texture_alpha_4000\n",
      "multitexture_alpha_1000\n",
      "multitexture_alpha_1000\n",
      "texture_alpha_16000_50\n",
      "texture_alpha_16000\n",
      "texture_alpha_10000_50\n",
      "texture_alpha_10000\n",
      "texture_alpha_2000\n",
      "texture_alpha_2000\n",
      "texture_alpha_7000\n",
      "texture_alpha_7000\n",
      "texture_alpha_25000_50\n",
      "texture_alpha_25000\n",
      "texture_alpha_5000_50\n",
      "texture_alpha_5000\n",
      "multitexture_alpha_20000\n",
      "multitexture_alpha_20000\n",
      "multitexture_alpha_16000\n",
      "multitexture_alpha_16000\n",
      "texture_alpha_7000_50\n",
      "texture_alpha_7000\n",
      "texture_alpha_30000_10\n",
      "texture_alpha_30000\n",
      "multitexture_alpha_13000\n",
      "multitexture_alpha_13000\n",
      "texture_alpha_30000_30\n",
      "texture_alpha_30000\n",
      "multitexture_alpha_7000\n",
      "multitexture_alpha_7000\n",
      "texture_alpha_30000\n",
      "texture_alpha_30000\n",
      "ship\n",
      "normal_alpha_7000\n",
      "normal_alpha_7000\n",
      "multitexture_alpha_30000\n",
      "multitexture_alpha_30000\n",
      "multitexture_alpha_2000\n",
      "multitexture_alpha_2000\n",
      "normal_alpha_10000\n",
      "normal_alpha_10000\n",
      "multitexture_alpha_4000\n",
      "multitexture_alpha_4000\n",
      "normal_alpha_25000\n",
      "normal_alpha_25000\n",
      "texture_alpha_4000\n",
      "texture_alpha_4000\n",
      "texture_alpha_10000\n",
      "texture_alpha_10000\n",
      "texture_alpha_13000\n",
      "texture_alpha_13000\n",
      "texture_alpha_16000\n",
      "texture_alpha_16000\n",
      "normal_alpha_5000\n",
      "normal_alpha_5000\n",
      "multitexture_alpha_10000\n",
      "multitexture_alpha_10000\n",
      "texture_alpha_5000\n",
      "texture_alpha_5000\n",
      "multitexture_alpha_3000\n",
      "multitexture_alpha_3000\n",
      "texture_alpha_20000\n",
      "texture_alpha_20000\n",
      "multitexture_alpha_25000\n",
      "multitexture_alpha_25000\n",
      "texture_alpha_1000\n",
      "texture_alpha_1000\n",
      "multitexture_alpha_5000\n",
      "multitexture_alpha_5000\n",
      "normal_alpha_20000\n",
      "normal_alpha_20000\n",
      "texture_alpha_3000\n",
      "texture_alpha_3000\n",
      "normal_alpha_13000\n",
      "normal_alpha_13000\n",
      "texture_alpha_25000\n",
      "texture_alpha_25000\n",
      "multitexture_alpha_1000\n",
      "multitexture_alpha_1000\n",
      "normal_alpha_4000\n",
      "normal_alpha_4000\n",
      "normal_alpha_30000\n",
      "normal_alpha_30000\n",
      "normal_alpha_1000\n",
      "normal_alpha_1000\n",
      "texture_alpha_2000\n",
      "texture_alpha_2000\n",
      "normal_alpha_2000\n",
      "normal_alpha_2000\n",
      "texture_alpha_7000\n",
      "texture_alpha_7000\n",
      "normal_alpha_16000\n",
      "normal_alpha_16000\n",
      "multitexture_alpha_20000\n",
      "multitexture_alpha_20000\n",
      "multitexture_alpha_16000\n",
      "multitexture_alpha_16000\n",
      "normal_alpha_3000\n",
      "normal_alpha_3000\n",
      "multitexture_alpha_13000\n",
      "multitexture_alpha_13000\n",
      "multitexture_alpha_7000\n",
      "multitexture_alpha_7000\n",
      "texture_alpha_30000\n",
      "texture_alpha_30000\n",
      "livingroom\n",
      "texture_alpha_25000_100\n",
      "texture_alpha_25000\n",
      "texture_alpha_13000_100\n",
      "texture_alpha_13000\n",
      "texture_alpha_37000\n",
      "texture_alpha_37000\n",
      "multitexture_alpha_30000\n",
      "multitexture_alpha_30000\n",
      "multitexture_alpha_2000\n",
      "multitexture_alpha_2000\n",
      "multitexture_alpha_4000\n",
      "multitexture_alpha_4000\n",
      "texture_alpha_45000_100\n",
      "texture_alpha_45000\n",
      "texture_alpha_3000_100\n",
      "texture_alpha_3000\n",
      "texture_alpha_4000\n",
      "texture_alpha_4000\n",
      "texture_alpha_10000\n",
      "texture_alpha_10000\n",
      "texture_alpha_7000_100\n",
      "texture_alpha_7000\n",
      "texture_alpha_13000\n",
      "texture_alpha_13000\n",
      "texture_alpha_20000_100\n",
      "texture_alpha_20000\n",
      "texture_alpha_55000\n",
      "texture_alpha_55000\n",
      "texture_alpha_70000_1\n",
      "texture_alpha_70000\n",
      "texture_alpha_16000\n",
      "texture_alpha_16000\n",
      "multitexture_alpha_55000\n",
      "multitexture_alpha_55000\n",
      "texture_alpha_37000_100\n",
      "texture_alpha_37000\n",
      "multitexture_alpha_10000\n",
      "multitexture_alpha_10000\n",
      "texture_alpha_70000_70\n",
      "texture_alpha_70000\n",
      "texture_alpha_5000\n",
      "texture_alpha_5000\n",
      "multitexture_alpha_3000\n",
      "multitexture_alpha_3000\n",
      "texture_alpha_70000_40\n",
      "texture_alpha_70000\n",
      "texture_alpha_20000\n",
      "texture_alpha_20000\n",
      "multitexture_alpha_25000\n",
      "multitexture_alpha_25000\n",
      "multitexture_alpha_37000\n",
      "multitexture_alpha_37000\n",
      "texture_alpha_5000_100\n",
      "texture_alpha_5000\n",
      "texture_alpha_70000\n",
      "texture_alpha_70000\n",
      "texture_alpha_45000\n",
      "texture_alpha_45000\n",
      "texture_alpha_1000\n",
      "texture_alpha_1000\n",
      "multitexture_alpha_5000\n",
      "multitexture_alpha_5000\n",
      "texture_alpha_1000_100\n",
      "texture_alpha_1000\n",
      "texture_alpha_3000\n",
      "texture_alpha_3000\n",
      "texture_alpha_70000_5\n",
      "texture_alpha_70000\n",
      "texture_alpha_70000_100\n",
      "texture_alpha_70000\n",
      "multitexture_alpha_70000\n",
      "multitexture_alpha_70000\n",
      "texture_alpha_16000_100\n",
      "texture_alpha_16000\n",
      "texture_alpha_25000\n",
      "texture_alpha_25000\n",
      "texture_alpha_70000_50\n",
      "texture_alpha_70000\n",
      "multitexture_alpha_1000\n",
      "multitexture_alpha_1000\n",
      "texture_alpha_70000_20\n",
      "texture_alpha_70000\n",
      "texture_alpha_2000_100\n",
      "texture_alpha_2000\n",
      "texture_alpha_30000_100\n",
      "texture_alpha_30000\n",
      "texture_alpha_4000_100\n",
      "texture_alpha_4000\n",
      "texture_alpha_70000_10\n",
      "texture_alpha_70000\n",
      "multitexture_alpha_45000\n",
      "multitexture_alpha_45000\n",
      "texture_alpha_10000_100\n",
      "texture_alpha_10000\n",
      "texture_alpha_2000\n",
      "texture_alpha_2000\n",
      "texture_alpha_70000_30\n",
      "texture_alpha_70000\n",
      "texture_alpha_7000\n",
      "texture_alpha_7000\n",
      "multitexture_alpha_20000\n",
      "multitexture_alpha_20000\n",
      "multitexture_alpha_16000\n",
      "multitexture_alpha_16000\n",
      "multitexture_alpha_13000\n",
      "multitexture_alpha_13000\n",
      "texture_alpha_55000_100\n",
      "texture_alpha_55000\n",
      "multitexture_alpha_7000\n",
      "multitexture_alpha_7000\n",
      "texture_alpha_30000\n",
      "texture_alpha_30000\n",
      "ship\n",
      "texture_alpha_30000_50\n",
      "texture_alpha_30000\n",
      "texture_alpha_20000_50\n",
      "texture_alpha_20000\n",
      "texture_alpha_2000_50\n",
      "texture_alpha_2000\n",
      "multitexture_alpha_30000\n",
      "multitexture_alpha_30000\n",
      "multitexture_alpha_2000\n",
      "multitexture_alpha_2000\n",
      "multitexture_alpha_4000\n",
      "multitexture_alpha_4000\n",
      "texture_alpha_30000_20\n",
      "texture_alpha_30000\n",
      "texture_alpha_13000_50\n",
      "texture_alpha_13000\n",
      "texture_alpha_30000_40\n",
      "texture_alpha_30000\n",
      "texture_alpha_4000\n",
      "texture_alpha_4000\n",
      "texture_alpha_3000_50\n",
      "texture_alpha_3000\n",
      "texture_alpha_30000_5\n",
      "texture_alpha_30000\n",
      "texture_alpha_10000\n",
      "texture_alpha_10000\n",
      "texture_alpha_13000\n",
      "texture_alpha_13000\n",
      "texture_alpha_1000_50\n",
      "texture_alpha_1000\n",
      "texture_alpha_16000\n",
      "texture_alpha_16000\n",
      "texture_alpha_30000_1\n",
      "texture_alpha_30000\n",
      "multitexture_alpha_10000\n",
      "multitexture_alpha_10000\n",
      "texture_alpha_5000\n",
      "texture_alpha_5000\n",
      "multitexture_alpha_3000\n",
      "multitexture_alpha_3000\n",
      "texture_alpha_20000\n",
      "texture_alpha_20000\n",
      "multitexture_alpha_25000\n",
      "multitexture_alpha_25000\n",
      "texture_alpha_1000\n",
      "texture_alpha_1000\n",
      "multitexture_alpha_5000\n",
      "multitexture_alpha_5000\n",
      "texture_alpha_3000\n",
      "texture_alpha_3000\n",
      "texture_alpha_25000\n",
      "texture_alpha_25000\n",
      "texture_alpha_4000_50\n",
      "texture_alpha_4000\n",
      "multitexture_alpha_1000\n",
      "multitexture_alpha_1000\n",
      "texture_alpha_16000_50\n",
      "texture_alpha_16000\n",
      "texture_alpha_10000_50\n",
      "texture_alpha_10000\n",
      "texture_alpha_2000\n",
      "texture_alpha_2000\n",
      "texture_alpha_7000\n",
      "texture_alpha_7000\n",
      "texture_alpha_25000_50\n",
      "texture_alpha_25000\n",
      "texture_alpha_5000_50\n",
      "texture_alpha_5000\n",
      "multitexture_alpha_20000\n",
      "multitexture_alpha_20000\n",
      "multitexture_alpha_16000\n",
      "multitexture_alpha_16000\n",
      "texture_alpha_7000_50\n",
      "texture_alpha_7000\n",
      "texture_alpha_30000_10\n",
      "texture_alpha_30000\n",
      "multitexture_alpha_13000\n",
      "multitexture_alpha_13000\n",
      "texture_alpha_30000_30\n",
      "texture_alpha_30000\n",
      "multitexture_alpha_7000\n",
      "multitexture_alpha_7000\n",
      "texture_alpha_30000\n",
      "texture_alpha_30000\n",
      "livingroom\n",
      "normal_alpha_70000\n",
      "normal_alpha_70000\n",
      "texture_alpha_37000\n",
      "texture_alpha_37000\n",
      "normal_alpha_7000\n",
      "normal_alpha_7000\n",
      "multitexture_alpha_30000\n",
      "multitexture_alpha_30000\n",
      "multitexture_alpha_2000\n",
      "multitexture_alpha_2000\n",
      "normal_alpha_10000\n",
      "normal_alpha_10000\n",
      "multitexture_alpha_4000\n",
      "multitexture_alpha_4000\n",
      "normal_alpha_25000\n",
      "normal_alpha_25000\n",
      "texture_alpha_4000\n",
      "texture_alpha_4000\n",
      "normal_alpha_45000\n",
      "normal_alpha_45000\n",
      "normal_alpha_55000\n",
      "normal_alpha_55000\n",
      "texture_alpha_10000\n",
      "texture_alpha_10000\n",
      "texture_alpha_13000\n",
      "texture_alpha_13000\n",
      "texture_alpha_55000\n",
      "texture_alpha_55000\n",
      "texture_alpha_16000\n",
      "texture_alpha_16000\n",
      "multitexture_alpha_55000\n",
      "multitexture_alpha_55000\n",
      "normal_alpha_5000\n",
      "normal_alpha_5000\n",
      "multitexture_alpha_10000\n",
      "multitexture_alpha_10000\n",
      "texture_alpha_5000\n",
      "texture_alpha_5000\n",
      "multitexture_alpha_3000\n",
      "multitexture_alpha_3000\n",
      "texture_alpha_20000\n",
      "texture_alpha_20000\n",
      "multitexture_alpha_25000\n",
      "multitexture_alpha_25000\n",
      "multitexture_alpha_37000\n",
      "multitexture_alpha_37000\n",
      "texture_alpha_70000\n",
      "texture_alpha_70000\n",
      "texture_alpha_45000\n",
      "texture_alpha_45000\n",
      "texture_alpha_1000\n",
      "texture_alpha_1000\n",
      "multitexture_alpha_5000\n",
      "multitexture_alpha_5000\n",
      "normal_alpha_20000\n",
      "normal_alpha_20000\n",
      "texture_alpha_3000\n",
      "texture_alpha_3000\n",
      "normal_alpha_13000\n",
      "normal_alpha_13000\n",
      "normal_alpha_37000\n",
      "normal_alpha_37000\n",
      "multitexture_alpha_70000\n",
      "multitexture_alpha_70000\n",
      "texture_alpha_25000\n",
      "texture_alpha_25000\n",
      "multitexture_alpha_1000\n",
      "multitexture_alpha_1000\n",
      "normal_alpha_4000\n",
      "normal_alpha_4000\n",
      "normal_alpha_30000\n",
      "normal_alpha_30000\n",
      "normal_alpha_1000\n",
      "normal_alpha_1000\n",
      "multitexture_alpha_45000\n",
      "multitexture_alpha_45000\n",
      "texture_alpha_2000\n",
      "texture_alpha_2000\n",
      "normal_alpha_2000\n",
      "normal_alpha_2000\n",
      "texture_alpha_7000\n",
      "texture_alpha_7000\n",
      "normal_alpha_16000\n",
      "normal_alpha_16000\n",
      "multitexture_alpha_20000\n",
      "multitexture_alpha_20000\n",
      "multitexture_alpha_16000\n",
      "multitexture_alpha_16000\n",
      "normal_alpha_3000\n",
      "normal_alpha_3000\n",
      "multitexture_alpha_13000\n",
      "multitexture_alpha_13000\n",
      "multitexture_alpha_7000\n",
      "multitexture_alpha_7000\n",
      "texture_alpha_30000\n",
      "texture_alpha_30000\n",
      "chair_background2\n",
      "normal_alpha_7000\n",
      "normal_alpha_7000\n",
      "multitexture_alpha_30000\n",
      "multitexture_alpha_30000\n",
      "multitexture_alpha_2000\n",
      "multitexture_alpha_2000\n",
      "normal_alpha_10000\n",
      "normal_alpha_10000\n",
      "multitexture_alpha_4000\n",
      "multitexture_alpha_4000\n",
      "normal_alpha_25000\n",
      "normal_alpha_25000\n",
      "texture_alpha_4000\n",
      "texture_alpha_4000\n",
      "texture_alpha_10000\n",
      "texture_alpha_10000\n",
      "texture_alpha_13000\n",
      "texture_alpha_13000\n",
      "texture_alpha_16000\n",
      "texture_alpha_16000\n",
      "normal_alpha_5000\n",
      "normal_alpha_5000\n",
      "multitexture_alpha_10000\n",
      "multitexture_alpha_10000\n",
      "texture_alpha_5000\n",
      "texture_alpha_5000\n",
      "multitexture_alpha_3000\n",
      "multitexture_alpha_3000\n",
      "texture_alpha_20000\n",
      "texture_alpha_20000\n",
      "multitexture_alpha_25000\n",
      "multitexture_alpha_25000\n",
      "texture_alpha_1000\n",
      "texture_alpha_1000\n",
      "multitexture_alpha_5000\n",
      "multitexture_alpha_5000\n",
      "normal_alpha_20000\n",
      "normal_alpha_20000\n",
      "texture_alpha_3000\n",
      "texture_alpha_3000\n",
      "normal_alpha_13000\n",
      "normal_alpha_13000\n",
      "texture_alpha_25000\n",
      "texture_alpha_25000\n",
      "multitexture_alpha_1000\n",
      "multitexture_alpha_1000\n",
      "normal_alpha_4000\n",
      "normal_alpha_4000\n",
      "normal_alpha_30000\n",
      "normal_alpha_30000\n",
      "normal_alpha_1000\n",
      "normal_alpha_1000\n",
      "texture_alpha_2000\n",
      "texture_alpha_2000\n",
      "normal_alpha_2000\n",
      "normal_alpha_2000\n",
      "texture_alpha_7000\n",
      "texture_alpha_7000\n",
      "normal_alpha_16000\n",
      "normal_alpha_16000\n",
      "multitexture_alpha_20000\n",
      "multitexture_alpha_20000\n",
      "multitexture_alpha_16000\n",
      "multitexture_alpha_16000\n",
      "normal_alpha_3000\n",
      "normal_alpha_3000\n",
      "multitexture_alpha_13000\n",
      "multitexture_alpha_13000\n",
      "multitexture_alpha_7000\n",
      "multitexture_alpha_7000\n",
      "texture_alpha_30000\n",
      "texture_alpha_30000\n"
     ]
    }
   ],
   "source": [
    "import pandas as pd\n",
    "\n",
    "results_df = []\n",
    "for namespace, results in scenes:\n",
    "    print(namespace.source_path.split(\"/\")[-1])\n",
    "    if namespace.source_path.split(\"/\")[-1] in [\"ship\",\"livingroom\",\"mic\",\"chair_background2\",]:\n",
    "        for name,res in results.items():\n",
    "            name = name.replace(\"texture_per_gaussian\",\"multitexture\")\n",
    "            scene_name = namespace.source_path.split(\"/\")[-1]\n",
    "            print(name)\n",
    "            if len(name.split(\"_\"))==3:\n",
    "                num_render_images = 100 if scene_name==\"livingroom\" else 50\n",
    "            else:\n",
    "                num_render_images = int(name.split(\"_\")[-1])\n",
    "                name = \"_\".join(name.split(\"_\")[:-1])\n",
    "            print(name)\n",
    "            r = {\n",
    "                \"scene_name\": scene_name,\n",
    "                \"train_run\": namespace.model_path.split(\"/\")[-1],\n",
    "                \"train_mode\": \"depth\" if \"depth\" in namespace.model_path else \"normal\",\n",
    "                \"render_mode\": (\"texture_per_gaussian\" if \"per\" in name else \"texture\") if \"texture\" in name else \"normal\",\n",
    "                \"method_name\":\"_\".join(name.split(\"_\")[:-1]),\n",
    "                \"iteration\":int(name.split(\"_\")[-1]),\n",
    "                \"num_render_images\": num_render_images,\n",
    "                **res\n",
    "            }\n",
    "            if r[\"iteration\"] in [2000, 3000, 4000, 5000, 7000, 10000, 13000, 16000, 20000, 25000, 30000, 35000, 40000, 47000, 55000, 70000]:\n",
    "                results_df.append(r)\n",
    "\n",
    "\n",
    "results_df = pd.DataFrame(results_df)"
   ]
  },
  {
   "cell_type": "code",
   "execution_count": 4,
   "metadata": {},
   "outputs": [
    {
     "data": {
      "text/plain": [
       "array(['mic', 'chair_background2', 'ship', 'livingroom'], dtype=object)"
      ]
     },
     "execution_count": 4,
     "metadata": {},
     "output_type": "execute_result"
    }
   ],
   "source": [
    "results_df[\"scene_name\"].unique()"
   ]
  },
  {
   "cell_type": "code",
   "execution_count": 5,
   "metadata": {},
   "outputs": [],
   "source": [
    "results_df = results_df.sort_values(\"num_gaussians\")\n",
    "results_df[\"run\"] = results_df[\"train_mode\"] + results_df[\"render_mode\"]\n",
    "is_texture = (results_df[\"render_mode\"]==\"texture\")\n",
    "\n",
    "results_df[\"memory_per_image\"] = results_df[\"scene_name\"].apply(lambda x: 151000 if x==\"livingroom\" else 312000)\n",
    "results_df[\"num_training_images\"] = results_df[\"scene_name\"].apply(lambda x: 100 if x==\"livingroom\" else 50)\n",
    "results_df[\"memory_needed\"] = results_df[\"num_gaussians\"]*(48*(~is_texture)+11)*4 + results_df[\"memory_per_image\"]*results_df[\"num_training_images\"]*is_texture"
   ]
  },
  {
   "cell_type": "code",
   "execution_count": 6,
   "metadata": {},
   "outputs": [
    {
     "data": {
      "text/plain": [
       "array(['depthtexture', 'normalnormal', 'normaltexture'], dtype=object)"
      ]
     },
     "execution_count": 6,
     "metadata": {},
     "output_type": "execute_result"
    }
   ],
   "source": [
    "df = results_df[results_df[\"num_gaussians\"]>=5000]\n",
    "df = df[df[\"scene_name\"]==\"mic\"]\n",
    "df[\"run\"].unique()"
   ]
  },
  {
   "cell_type": "code",
   "execution_count": 7,
   "metadata": {},
   "outputs": [],
   "source": [
    "# \n",
    "\n",
    "# def pareto_line(df,x,y,color,fn=\"max\"):\n",
    "#     df = df.copy()\n",
    "#     if fn==\"max\":\n",
    "#         df = df[df[y]==df.groupby(color)[y].cummax()]\n",
    "#     else:\n",
    "#         df = df[df[y]==df.groupby(color)[y].cummin()]\n",
    "    \n",
    "#     df = df[df[\"num_gaussians\"] != df.groupby(color)[\"num_gaussians\"].shift(-1)]\n",
    "    \n",
    "#     return px.line(df, x=x, y=y, color=color, log_x=True,markers=True)\n",
    "\n",
    "# df = results_df[results_df[\"num_gaussians\"]>=5000]\n",
    "# #df = df[df[\"scene_name\"]==\"mic\"]\n",
    "# df = df[(df[\"run\"]==\"normalnormal\") | (df[\"run\"]==\"depthtexture\") | (df[\"run\"]==\"normaltexture\") | (df[\"run\"]==\"normaltexture_per_gaussian\") | (df[\"run\"]==\"depthtexture_per_gaussian\")]\n",
    "\n",
    "# display(df)\n",
    "\n",
    "# fig = pareto_line(df,\"num_gaussians\",\"PSNR\",\"run\")\n",
    "# fig.show()\n",
    "# fig = pareto_line(df,\"num_gaussians\",\"LPIPS\",\"run\",fn=\"min\")\n",
    "# fig.show()\n",
    "# fig = pareto_line(df,\"num_gaussians\",\"SSIM\",\"run\")\n",
    "# fig.show()"
   ]
  },
  {
   "cell_type": "code",
   "execution_count": 8,
   "metadata": {},
   "outputs": [],
   "source": [
    "# pareto_line(df,\"memory_needed\",\"PSNR\",\"run\").show()\n",
    "# pareto_line(df,\"memory_needed\",\"LPIPS\",\"run\",fn=\"min\").show()\n",
    "# pareto_line(df,\"memory_needed\",\"SSIM\",\"run\").show()"
   ]
  },
  {
   "cell_type": "code",
   "execution_count": 9,
   "metadata": {},
   "outputs": [
    {
     "data": {
      "text/html": [
       "<div>\n",
       "<style scoped>\n",
       "    .dataframe tbody tr th:only-of-type {\n",
       "        vertical-align: middle;\n",
       "    }\n",
       "\n",
       "    .dataframe tbody tr th {\n",
       "        vertical-align: top;\n",
       "    }\n",
       "\n",
       "    .dataframe thead th {\n",
       "        text-align: right;\n",
       "    }\n",
       "</style>\n",
       "<table border=\"1\" class=\"dataframe\">\n",
       "  <thead>\n",
       "    <tr style=\"text-align: right;\">\n",
       "      <th></th>\n",
       "      <th>scene_name</th>\n",
       "      <th>train_run</th>\n",
       "      <th>train_mode</th>\n",
       "      <th>render_mode</th>\n",
       "      <th>method_name</th>\n",
       "      <th>iteration</th>\n",
       "      <th>num_render_images</th>\n",
       "      <th>SSIM</th>\n",
       "      <th>PSNR</th>\n",
       "      <th>LPIPS</th>\n",
       "      <th>num_gaussians</th>\n",
       "      <th>run</th>\n",
       "      <th>memory_per_image</th>\n",
       "      <th>num_training_images</th>\n",
       "      <th>memory_needed</th>\n",
       "    </tr>\n",
       "  </thead>\n",
       "  <tbody>\n",
       "    <tr>\n",
       "      <th>195</th>\n",
       "      <td>ship</td>\n",
       "      <td>ship_slow_depth</td>\n",
       "      <td>depth</td>\n",
       "      <td>texture</td>\n",
       "      <td>multitexture_alpha</td>\n",
       "      <td>2000</td>\n",
       "      <td>50</td>\n",
       "      <td>0.647448</td>\n",
       "      <td>21.509010</td>\n",
       "      <td>0.332145</td>\n",
       "      <td>3000</td>\n",
       "      <td>depthtexture</td>\n",
       "      <td>312000</td>\n",
       "      <td>50</td>\n",
       "      <td>15732000</td>\n",
       "    </tr>\n",
       "    <tr>\n",
       "      <th>193</th>\n",
       "      <td>ship</td>\n",
       "      <td>ship_slow_depth</td>\n",
       "      <td>depth</td>\n",
       "      <td>texture</td>\n",
       "      <td>texture_alpha</td>\n",
       "      <td>2000</td>\n",
       "      <td>50</td>\n",
       "      <td>0.657340</td>\n",
       "      <td>22.128166</td>\n",
       "      <td>0.280108</td>\n",
       "      <td>3000</td>\n",
       "      <td>depthtexture</td>\n",
       "      <td>312000</td>\n",
       "      <td>50</td>\n",
       "      <td>15732000</td>\n",
       "    </tr>\n",
       "    <tr>\n",
       "      <th>218</th>\n",
       "      <td>ship</td>\n",
       "      <td>ship_slow_depth</td>\n",
       "      <td>depth</td>\n",
       "      <td>texture</td>\n",
       "      <td>texture_alpha</td>\n",
       "      <td>2000</td>\n",
       "      <td>50</td>\n",
       "      <td>0.666160</td>\n",
       "      <td>21.645178</td>\n",
       "      <td>0.268527</td>\n",
       "      <td>3000</td>\n",
       "      <td>depthtexture</td>\n",
       "      <td>312000</td>\n",
       "      <td>50</td>\n",
       "      <td>15732000</td>\n",
       "    </tr>\n",
       "    <tr>\n",
       "      <th>209</th>\n",
       "      <td>ship</td>\n",
       "      <td>ship_slow_depth</td>\n",
       "      <td>depth</td>\n",
       "      <td>texture</td>\n",
       "      <td>multitexture_alpha</td>\n",
       "      <td>3000</td>\n",
       "      <td>50</td>\n",
       "      <td>0.665785</td>\n",
       "      <td>22.673340</td>\n",
       "      <td>0.307607</td>\n",
       "      <td>5733</td>\n",
       "      <td>depthtexture</td>\n",
       "      <td>312000</td>\n",
       "      <td>50</td>\n",
       "      <td>15852252</td>\n",
       "    </tr>\n",
       "    <tr>\n",
       "      <th>215</th>\n",
       "      <td>ship</td>\n",
       "      <td>ship_slow_depth</td>\n",
       "      <td>depth</td>\n",
       "      <td>texture</td>\n",
       "      <td>texture_alpha</td>\n",
       "      <td>4000</td>\n",
       "      <td>50</td>\n",
       "      <td>0.698561</td>\n",
       "      <td>23.512659</td>\n",
       "      <td>0.246406</td>\n",
       "      <td>5733</td>\n",
       "      <td>depthtexture</td>\n",
       "      <td>312000</td>\n",
       "      <td>50</td>\n",
       "      <td>15852252</td>\n",
       "    </tr>\n",
       "    <tr>\n",
       "      <th>213</th>\n",
       "      <td>ship</td>\n",
       "      <td>ship_slow_depth</td>\n",
       "      <td>depth</td>\n",
       "      <td>texture</td>\n",
       "      <td>texture_alpha</td>\n",
       "      <td>3000</td>\n",
       "      <td>50</td>\n",
       "      <td>0.703813</td>\n",
       "      <td>23.259089</td>\n",
       "      <td>0.238823</td>\n",
       "      <td>5733</td>\n",
       "      <td>depthtexture</td>\n",
       "      <td>312000</td>\n",
       "      <td>50</td>\n",
       "      <td>15852252</td>\n",
       "    </tr>\n",
       "    <tr>\n",
       "      <th>196</th>\n",
       "      <td>ship</td>\n",
       "      <td>ship_slow_depth</td>\n",
       "      <td>depth</td>\n",
       "      <td>texture</td>\n",
       "      <td>multitexture_alpha</td>\n",
       "      <td>4000</td>\n",
       "      <td>50</td>\n",
       "      <td>0.665235</td>\n",
       "      <td>22.696308</td>\n",
       "      <td>0.308765</td>\n",
       "      <td>5733</td>\n",
       "      <td>depthtexture</td>\n",
       "      <td>312000</td>\n",
       "      <td>50</td>\n",
       "      <td>15852252</td>\n",
       "    </tr>\n",
       "    <tr>\n",
       "      <th>200</th>\n",
       "      <td>ship</td>\n",
       "      <td>ship_slow_depth</td>\n",
       "      <td>depth</td>\n",
       "      <td>texture</td>\n",
       "      <td>texture_alpha</td>\n",
       "      <td>4000</td>\n",
       "      <td>50</td>\n",
       "      <td>0.707289</td>\n",
       "      <td>23.413555</td>\n",
       "      <td>0.237160</td>\n",
       "      <td>5733</td>\n",
       "      <td>depthtexture</td>\n",
       "      <td>312000</td>\n",
       "      <td>50</td>\n",
       "      <td>15852252</td>\n",
       "    </tr>\n",
       "    <tr>\n",
       "      <th>201</th>\n",
       "      <td>ship</td>\n",
       "      <td>ship_slow_depth</td>\n",
       "      <td>depth</td>\n",
       "      <td>texture</td>\n",
       "      <td>texture_alpha</td>\n",
       "      <td>3000</td>\n",
       "      <td>50</td>\n",
       "      <td>0.695638</td>\n",
       "      <td>23.422983</td>\n",
       "      <td>0.248080</td>\n",
       "      <td>5733</td>\n",
       "      <td>depthtexture</td>\n",
       "      <td>312000</td>\n",
       "      <td>50</td>\n",
       "      <td>15852252</td>\n",
       "    </tr>\n",
       "    <tr>\n",
       "      <th>212</th>\n",
       "      <td>ship</td>\n",
       "      <td>ship_slow_depth</td>\n",
       "      <td>depth</td>\n",
       "      <td>texture</td>\n",
       "      <td>multitexture_alpha</td>\n",
       "      <td>5000</td>\n",
       "      <td>50</td>\n",
       "      <td>0.700048</td>\n",
       "      <td>23.866165</td>\n",
       "      <td>0.269765</td>\n",
       "      <td>8641</td>\n",
       "      <td>depthtexture</td>\n",
       "      <td>312000</td>\n",
       "      <td>50</td>\n",
       "      <td>15980204</td>\n",
       "    </tr>\n",
       "    <tr>\n",
       "      <th>221</th>\n",
       "      <td>ship</td>\n",
       "      <td>ship_slow_depth</td>\n",
       "      <td>depth</td>\n",
       "      <td>texture</td>\n",
       "      <td>texture_alpha</td>\n",
       "      <td>5000</td>\n",
       "      <td>50</td>\n",
       "      <td>0.724301</td>\n",
       "      <td>24.501862</td>\n",
       "      <td>0.219821</td>\n",
       "      <td>8641</td>\n",
       "      <td>depthtexture</td>\n",
       "      <td>312000</td>\n",
       "      <td>50</td>\n",
       "      <td>15980204</td>\n",
       "    </tr>\n",
       "    <tr>\n",
       "      <th>208</th>\n",
       "      <td>ship</td>\n",
       "      <td>ship_slow_depth</td>\n",
       "      <td>depth</td>\n",
       "      <td>texture</td>\n",
       "      <td>texture_alpha</td>\n",
       "      <td>5000</td>\n",
       "      <td>50</td>\n",
       "      <td>0.730864</td>\n",
       "      <td>24.309214</td>\n",
       "      <td>0.212923</td>\n",
       "      <td>8641</td>\n",
       "      <td>depthtexture</td>\n",
       "      <td>312000</td>\n",
       "      <td>50</td>\n",
       "      <td>15980204</td>\n",
       "    </tr>\n",
       "    <tr>\n",
       "      <th>228</th>\n",
       "      <td>ship</td>\n",
       "      <td>ship_slow_depth</td>\n",
       "      <td>depth</td>\n",
       "      <td>texture</td>\n",
       "      <td>multitexture_alpha</td>\n",
       "      <td>7000</td>\n",
       "      <td>50</td>\n",
       "      <td>0.704271</td>\n",
       "      <td>23.746592</td>\n",
       "      <td>0.264545</td>\n",
       "      <td>12108</td>\n",
       "      <td>depthtexture</td>\n",
       "      <td>312000</td>\n",
       "      <td>50</td>\n",
       "      <td>16132752</td>\n",
       "    </tr>\n",
       "    <tr>\n",
       "      <th>224</th>\n",
       "      <td>ship</td>\n",
       "      <td>ship_slow_depth</td>\n",
       "      <td>depth</td>\n",
       "      <td>texture</td>\n",
       "      <td>texture_alpha</td>\n",
       "      <td>7000</td>\n",
       "      <td>50</td>\n",
       "      <td>0.737329</td>\n",
       "      <td>25.034189</td>\n",
       "      <td>0.204467</td>\n",
       "      <td>12108</td>\n",
       "      <td>depthtexture</td>\n",
       "      <td>312000</td>\n",
       "      <td>50</td>\n",
       "      <td>16132752</td>\n",
       "    </tr>\n",
       "    <tr>\n",
       "      <th>219</th>\n",
       "      <td>ship</td>\n",
       "      <td>ship_slow_depth</td>\n",
       "      <td>depth</td>\n",
       "      <td>texture</td>\n",
       "      <td>texture_alpha</td>\n",
       "      <td>7000</td>\n",
       "      <td>50</td>\n",
       "      <td>0.741540</td>\n",
       "      <td>24.640882</td>\n",
       "      <td>0.198996</td>\n",
       "      <td>12108</td>\n",
       "      <td>depthtexture</td>\n",
       "      <td>312000</td>\n",
       "      <td>50</td>\n",
       "      <td>16132752</td>\n",
       "    </tr>\n",
       "    <tr>\n",
       "      <th>217</th>\n",
       "      <td>ship</td>\n",
       "      <td>ship_slow_depth</td>\n",
       "      <td>depth</td>\n",
       "      <td>texture</td>\n",
       "      <td>texture_alpha</td>\n",
       "      <td>10000</td>\n",
       "      <td>50</td>\n",
       "      <td>0.746594</td>\n",
       "      <td>25.368235</td>\n",
       "      <td>0.194784</td>\n",
       "      <td>15176</td>\n",
       "      <td>depthtexture</td>\n",
       "      <td>312000</td>\n",
       "      <td>50</td>\n",
       "      <td>16267744</td>\n",
       "    </tr>\n",
       "    <tr>\n",
       "      <th>203</th>\n",
       "      <td>ship</td>\n",
       "      <td>ship_slow_depth</td>\n",
       "      <td>depth</td>\n",
       "      <td>texture</td>\n",
       "      <td>texture_alpha</td>\n",
       "      <td>10000</td>\n",
       "      <td>50</td>\n",
       "      <td>0.750325</td>\n",
       "      <td>24.905764</td>\n",
       "      <td>0.189179</td>\n",
       "      <td>15176</td>\n",
       "      <td>depthtexture</td>\n",
       "      <td>312000</td>\n",
       "      <td>50</td>\n",
       "      <td>16267744</td>\n",
       "    </tr>\n",
       "    <tr>\n",
       "      <th>207</th>\n",
       "      <td>ship</td>\n",
       "      <td>ship_slow_depth</td>\n",
       "      <td>depth</td>\n",
       "      <td>texture</td>\n",
       "      <td>multitexture_alpha</td>\n",
       "      <td>10000</td>\n",
       "      <td>50</td>\n",
       "      <td>0.715871</td>\n",
       "      <td>23.720974</td>\n",
       "      <td>0.246383</td>\n",
       "      <td>15176</td>\n",
       "      <td>depthtexture</td>\n",
       "      <td>312000</td>\n",
       "      <td>50</td>\n",
       "      <td>16267744</td>\n",
       "    </tr>\n",
       "    <tr>\n",
       "      <th>226</th>\n",
       "      <td>ship</td>\n",
       "      <td>ship_slow_depth</td>\n",
       "      <td>depth</td>\n",
       "      <td>texture</td>\n",
       "      <td>multitexture_alpha</td>\n",
       "      <td>13000</td>\n",
       "      <td>50</td>\n",
       "      <td>0.739437</td>\n",
       "      <td>24.794641</td>\n",
       "      <td>0.221698</td>\n",
       "      <td>20073</td>\n",
       "      <td>depthtexture</td>\n",
       "      <td>312000</td>\n",
       "      <td>50</td>\n",
       "      <td>16483212</td>\n",
       "    </tr>\n",
       "    <tr>\n",
       "      <th>198</th>\n",
       "      <td>ship</td>\n",
       "      <td>ship_slow_depth</td>\n",
       "      <td>depth</td>\n",
       "      <td>texture</td>\n",
       "      <td>texture_alpha</td>\n",
       "      <td>13000</td>\n",
       "      <td>50</td>\n",
       "      <td>0.761659</td>\n",
       "      <td>26.020935</td>\n",
       "      <td>0.181497</td>\n",
       "      <td>20073</td>\n",
       "      <td>depthtexture</td>\n",
       "      <td>312000</td>\n",
       "      <td>50</td>\n",
       "      <td>16483212</td>\n",
       "    </tr>\n",
       "    <tr>\n",
       "      <th>204</th>\n",
       "      <td>ship</td>\n",
       "      <td>ship_slow_depth</td>\n",
       "      <td>depth</td>\n",
       "      <td>texture</td>\n",
       "      <td>texture_alpha</td>\n",
       "      <td>13000</td>\n",
       "      <td>50</td>\n",
       "      <td>0.763340</td>\n",
       "      <td>25.330414</td>\n",
       "      <td>0.177985</td>\n",
       "      <td>20073</td>\n",
       "      <td>depthtexture</td>\n",
       "      <td>312000</td>\n",
       "      <td>50</td>\n",
       "      <td>16483212</td>\n",
       "    </tr>\n",
       "    <tr>\n",
       "      <th>223</th>\n",
       "      <td>ship</td>\n",
       "      <td>ship_slow_depth</td>\n",
       "      <td>depth</td>\n",
       "      <td>texture</td>\n",
       "      <td>multitexture_alpha</td>\n",
       "      <td>16000</td>\n",
       "      <td>50</td>\n",
       "      <td>0.741888</td>\n",
       "      <td>24.917913</td>\n",
       "      <td>0.218512</td>\n",
       "      <td>22165</td>\n",
       "      <td>depthtexture</td>\n",
       "      <td>312000</td>\n",
       "      <td>50</td>\n",
       "      <td>16575260</td>\n",
       "    </tr>\n",
       "    <tr>\n",
       "      <th>205</th>\n",
       "      <td>ship</td>\n",
       "      <td>ship_slow_depth</td>\n",
       "      <td>depth</td>\n",
       "      <td>texture</td>\n",
       "      <td>texture_alpha</td>\n",
       "      <td>16000</td>\n",
       "      <td>50</td>\n",
       "      <td>0.766503</td>\n",
       "      <td>25.551130</td>\n",
       "      <td>0.175226</td>\n",
       "      <td>22165</td>\n",
       "      <td>depthtexture</td>\n",
       "      <td>312000</td>\n",
       "      <td>50</td>\n",
       "      <td>16575260</td>\n",
       "    </tr>\n",
       "    <tr>\n",
       "      <th>216</th>\n",
       "      <td>ship</td>\n",
       "      <td>ship_slow_depth</td>\n",
       "      <td>depth</td>\n",
       "      <td>texture</td>\n",
       "      <td>texture_alpha</td>\n",
       "      <td>16000</td>\n",
       "      <td>50</td>\n",
       "      <td>0.765025</td>\n",
       "      <td>26.300867</td>\n",
       "      <td>0.178893</td>\n",
       "      <td>22165</td>\n",
       "      <td>depthtexture</td>\n",
       "      <td>312000</td>\n",
       "      <td>50</td>\n",
       "      <td>16575260</td>\n",
       "    </tr>\n",
       "    <tr>\n",
       "      <th>192</th>\n",
       "      <td>ship</td>\n",
       "      <td>ship_slow_depth</td>\n",
       "      <td>depth</td>\n",
       "      <td>texture</td>\n",
       "      <td>texture_alpha</td>\n",
       "      <td>20000</td>\n",
       "      <td>50</td>\n",
       "      <td>0.767433</td>\n",
       "      <td>26.559555</td>\n",
       "      <td>0.176326</td>\n",
       "      <td>26536</td>\n",
       "      <td>depthtexture</td>\n",
       "      <td>312000</td>\n",
       "      <td>50</td>\n",
       "      <td>16767584</td>\n",
       "    </tr>\n",
       "    <tr>\n",
       "      <th>210</th>\n",
       "      <td>ship</td>\n",
       "      <td>ship_slow_depth</td>\n",
       "      <td>depth</td>\n",
       "      <td>texture</td>\n",
       "      <td>texture_alpha</td>\n",
       "      <td>20000</td>\n",
       "      <td>50</td>\n",
       "      <td>0.768764</td>\n",
       "      <td>25.841232</td>\n",
       "      <td>0.172920</td>\n",
       "      <td>26536</td>\n",
       "      <td>depthtexture</td>\n",
       "      <td>312000</td>\n",
       "      <td>50</td>\n",
       "      <td>16767584</td>\n",
       "    </tr>\n",
       "    <tr>\n",
       "      <th>222</th>\n",
       "      <td>ship</td>\n",
       "      <td>ship_slow_depth</td>\n",
       "      <td>depth</td>\n",
       "      <td>texture</td>\n",
       "      <td>multitexture_alpha</td>\n",
       "      <td>20000</td>\n",
       "      <td>50</td>\n",
       "      <td>0.734226</td>\n",
       "      <td>23.530470</td>\n",
       "      <td>0.223644</td>\n",
       "      <td>26536</td>\n",
       "      <td>depthtexture</td>\n",
       "      <td>312000</td>\n",
       "      <td>50</td>\n",
       "      <td>16767584</td>\n",
       "    </tr>\n",
       "    <tr>\n",
       "      <th>220</th>\n",
       "      <td>ship</td>\n",
       "      <td>ship_slow_depth</td>\n",
       "      <td>depth</td>\n",
       "      <td>texture</td>\n",
       "      <td>texture_alpha</td>\n",
       "      <td>25000</td>\n",
       "      <td>50</td>\n",
       "      <td>0.758741</td>\n",
       "      <td>26.088909</td>\n",
       "      <td>0.183511</td>\n",
       "      <td>32779</td>\n",
       "      <td>depthtexture</td>\n",
       "      <td>312000</td>\n",
       "      <td>50</td>\n",
       "      <td>17042276</td>\n",
       "    </tr>\n",
       "    <tr>\n",
       "      <th>211</th>\n",
       "      <td>ship</td>\n",
       "      <td>ship_slow_depth</td>\n",
       "      <td>depth</td>\n",
       "      <td>texture</td>\n",
       "      <td>multitexture_alpha</td>\n",
       "      <td>25000</td>\n",
       "      <td>50</td>\n",
       "      <td>0.721458</td>\n",
       "      <td>22.392368</td>\n",
       "      <td>0.230499</td>\n",
       "      <td>32779</td>\n",
       "      <td>depthtexture</td>\n",
       "      <td>312000</td>\n",
       "      <td>50</td>\n",
       "      <td>17042276</td>\n",
       "    </tr>\n",
       "    <tr>\n",
       "      <th>214</th>\n",
       "      <td>ship</td>\n",
       "      <td>ship_slow_depth</td>\n",
       "      <td>depth</td>\n",
       "      <td>texture</td>\n",
       "      <td>texture_alpha</td>\n",
       "      <td>25000</td>\n",
       "      <td>50</td>\n",
       "      <td>0.760595</td>\n",
       "      <td>25.245104</td>\n",
       "      <td>0.178173</td>\n",
       "      <td>32779</td>\n",
       "      <td>depthtexture</td>\n",
       "      <td>312000</td>\n",
       "      <td>50</td>\n",
       "      <td>17042276</td>\n",
       "    </tr>\n",
       "    <tr>\n",
       "      <th>199</th>\n",
       "      <td>ship</td>\n",
       "      <td>ship_slow_depth</td>\n",
       "      <td>depth</td>\n",
       "      <td>texture</td>\n",
       "      <td>texture_alpha</td>\n",
       "      <td>30000</td>\n",
       "      <td>40</td>\n",
       "      <td>0.742964</td>\n",
       "      <td>25.550959</td>\n",
       "      <td>0.191906</td>\n",
       "      <td>36595</td>\n",
       "      <td>depthtexture</td>\n",
       "      <td>312000</td>\n",
       "      <td>50</td>\n",
       "      <td>17210180</td>\n",
       "    </tr>\n",
       "    <tr>\n",
       "      <th>194</th>\n",
       "      <td>ship</td>\n",
       "      <td>ship_slow_depth</td>\n",
       "      <td>depth</td>\n",
       "      <td>texture</td>\n",
       "      <td>multitexture_alpha</td>\n",
       "      <td>30000</td>\n",
       "      <td>50</td>\n",
       "      <td>0.732509</td>\n",
       "      <td>23.682611</td>\n",
       "      <td>0.223172</td>\n",
       "      <td>36595</td>\n",
       "      <td>depthtexture</td>\n",
       "      <td>312000</td>\n",
       "      <td>50</td>\n",
       "      <td>17210180</td>\n",
       "    </tr>\n",
       "    <tr>\n",
       "      <th>229</th>\n",
       "      <td>ship</td>\n",
       "      <td>ship_slow_depth</td>\n",
       "      <td>depth</td>\n",
       "      <td>texture</td>\n",
       "      <td>texture_alpha</td>\n",
       "      <td>30000</td>\n",
       "      <td>50</td>\n",
       "      <td>0.767816</td>\n",
       "      <td>25.771132</td>\n",
       "      <td>0.173712</td>\n",
       "      <td>36595</td>\n",
       "      <td>depthtexture</td>\n",
       "      <td>312000</td>\n",
       "      <td>50</td>\n",
       "      <td>17210180</td>\n",
       "    </tr>\n",
       "    <tr>\n",
       "      <th>191</th>\n",
       "      <td>ship</td>\n",
       "      <td>ship_slow_depth</td>\n",
       "      <td>depth</td>\n",
       "      <td>texture</td>\n",
       "      <td>texture_alpha</td>\n",
       "      <td>30000</td>\n",
       "      <td>50</td>\n",
       "      <td>0.765279</td>\n",
       "      <td>26.316235</td>\n",
       "      <td>0.179187</td>\n",
       "      <td>36595</td>\n",
       "      <td>depthtexture</td>\n",
       "      <td>312000</td>\n",
       "      <td>50</td>\n",
       "      <td>17210180</td>\n",
       "    </tr>\n",
       "    <tr>\n",
       "      <th>202</th>\n",
       "      <td>ship</td>\n",
       "      <td>ship_slow_depth</td>\n",
       "      <td>depth</td>\n",
       "      <td>texture</td>\n",
       "      <td>texture_alpha</td>\n",
       "      <td>30000</td>\n",
       "      <td>5</td>\n",
       "      <td>0.458854</td>\n",
       "      <td>15.986426</td>\n",
       "      <td>0.436222</td>\n",
       "      <td>36595</td>\n",
       "      <td>depthtexture</td>\n",
       "      <td>312000</td>\n",
       "      <td>50</td>\n",
       "      <td>17210180</td>\n",
       "    </tr>\n",
       "    <tr>\n",
       "      <th>225</th>\n",
       "      <td>ship</td>\n",
       "      <td>ship_slow_depth</td>\n",
       "      <td>depth</td>\n",
       "      <td>texture</td>\n",
       "      <td>texture_alpha</td>\n",
       "      <td>30000</td>\n",
       "      <td>10</td>\n",
       "      <td>0.595413</td>\n",
       "      <td>20.247639</td>\n",
       "      <td>0.327470</td>\n",
       "      <td>36595</td>\n",
       "      <td>depthtexture</td>\n",
       "      <td>312000</td>\n",
       "      <td>50</td>\n",
       "      <td>17210180</td>\n",
       "    </tr>\n",
       "    <tr>\n",
       "      <th>206</th>\n",
       "      <td>ship</td>\n",
       "      <td>ship_slow_depth</td>\n",
       "      <td>depth</td>\n",
       "      <td>texture</td>\n",
       "      <td>texture_alpha</td>\n",
       "      <td>30000</td>\n",
       "      <td>1</td>\n",
       "      <td>0.351770</td>\n",
       "      <td>12.994673</td>\n",
       "      <td>0.511480</td>\n",
       "      <td>36595</td>\n",
       "      <td>depthtexture</td>\n",
       "      <td>312000</td>\n",
       "      <td>50</td>\n",
       "      <td>17210180</td>\n",
       "    </tr>\n",
       "    <tr>\n",
       "      <th>197</th>\n",
       "      <td>ship</td>\n",
       "      <td>ship_slow_depth</td>\n",
       "      <td>depth</td>\n",
       "      <td>texture</td>\n",
       "      <td>texture_alpha</td>\n",
       "      <td>30000</td>\n",
       "      <td>20</td>\n",
       "      <td>0.681601</td>\n",
       "      <td>23.155594</td>\n",
       "      <td>0.242460</td>\n",
       "      <td>36595</td>\n",
       "      <td>depthtexture</td>\n",
       "      <td>312000</td>\n",
       "      <td>50</td>\n",
       "      <td>17210180</td>\n",
       "    </tr>\n",
       "    <tr>\n",
       "      <th>227</th>\n",
       "      <td>ship</td>\n",
       "      <td>ship_slow_depth</td>\n",
       "      <td>depth</td>\n",
       "      <td>texture</td>\n",
       "      <td>texture_alpha</td>\n",
       "      <td>30000</td>\n",
       "      <td>30</td>\n",
       "      <td>0.712637</td>\n",
       "      <td>24.336554</td>\n",
       "      <td>0.217186</td>\n",
       "      <td>36595</td>\n",
       "      <td>depthtexture</td>\n",
       "      <td>312000</td>\n",
       "      <td>50</td>\n",
       "      <td>17210180</td>\n",
       "    </tr>\n",
       "  </tbody>\n",
       "</table>\n",
       "</div>"
      ],
      "text/plain": [
       "    scene_name        train_run train_mode render_mode         method_name  \\\n",
       "195       ship  ship_slow_depth      depth     texture  multitexture_alpha   \n",
       "193       ship  ship_slow_depth      depth     texture       texture_alpha   \n",
       "218       ship  ship_slow_depth      depth     texture       texture_alpha   \n",
       "209       ship  ship_slow_depth      depth     texture  multitexture_alpha   \n",
       "215       ship  ship_slow_depth      depth     texture       texture_alpha   \n",
       "213       ship  ship_slow_depth      depth     texture       texture_alpha   \n",
       "196       ship  ship_slow_depth      depth     texture  multitexture_alpha   \n",
       "200       ship  ship_slow_depth      depth     texture       texture_alpha   \n",
       "201       ship  ship_slow_depth      depth     texture       texture_alpha   \n",
       "212       ship  ship_slow_depth      depth     texture  multitexture_alpha   \n",
       "221       ship  ship_slow_depth      depth     texture       texture_alpha   \n",
       "208       ship  ship_slow_depth      depth     texture       texture_alpha   \n",
       "228       ship  ship_slow_depth      depth     texture  multitexture_alpha   \n",
       "224       ship  ship_slow_depth      depth     texture       texture_alpha   \n",
       "219       ship  ship_slow_depth      depth     texture       texture_alpha   \n",
       "217       ship  ship_slow_depth      depth     texture       texture_alpha   \n",
       "203       ship  ship_slow_depth      depth     texture       texture_alpha   \n",
       "207       ship  ship_slow_depth      depth     texture  multitexture_alpha   \n",
       "226       ship  ship_slow_depth      depth     texture  multitexture_alpha   \n",
       "198       ship  ship_slow_depth      depth     texture       texture_alpha   \n",
       "204       ship  ship_slow_depth      depth     texture       texture_alpha   \n",
       "223       ship  ship_slow_depth      depth     texture  multitexture_alpha   \n",
       "205       ship  ship_slow_depth      depth     texture       texture_alpha   \n",
       "216       ship  ship_slow_depth      depth     texture       texture_alpha   \n",
       "192       ship  ship_slow_depth      depth     texture       texture_alpha   \n",
       "210       ship  ship_slow_depth      depth     texture       texture_alpha   \n",
       "222       ship  ship_slow_depth      depth     texture  multitexture_alpha   \n",
       "220       ship  ship_slow_depth      depth     texture       texture_alpha   \n",
       "211       ship  ship_slow_depth      depth     texture  multitexture_alpha   \n",
       "214       ship  ship_slow_depth      depth     texture       texture_alpha   \n",
       "199       ship  ship_slow_depth      depth     texture       texture_alpha   \n",
       "194       ship  ship_slow_depth      depth     texture  multitexture_alpha   \n",
       "229       ship  ship_slow_depth      depth     texture       texture_alpha   \n",
       "191       ship  ship_slow_depth      depth     texture       texture_alpha   \n",
       "202       ship  ship_slow_depth      depth     texture       texture_alpha   \n",
       "225       ship  ship_slow_depth      depth     texture       texture_alpha   \n",
       "206       ship  ship_slow_depth      depth     texture       texture_alpha   \n",
       "197       ship  ship_slow_depth      depth     texture       texture_alpha   \n",
       "227       ship  ship_slow_depth      depth     texture       texture_alpha   \n",
       "\n",
       "     iteration  num_render_images      SSIM       PSNR     LPIPS  \\\n",
       "195       2000                 50  0.647448  21.509010  0.332145   \n",
       "193       2000                 50  0.657340  22.128166  0.280108   \n",
       "218       2000                 50  0.666160  21.645178  0.268527   \n",
       "209       3000                 50  0.665785  22.673340  0.307607   \n",
       "215       4000                 50  0.698561  23.512659  0.246406   \n",
       "213       3000                 50  0.703813  23.259089  0.238823   \n",
       "196       4000                 50  0.665235  22.696308  0.308765   \n",
       "200       4000                 50  0.707289  23.413555  0.237160   \n",
       "201       3000                 50  0.695638  23.422983  0.248080   \n",
       "212       5000                 50  0.700048  23.866165  0.269765   \n",
       "221       5000                 50  0.724301  24.501862  0.219821   \n",
       "208       5000                 50  0.730864  24.309214  0.212923   \n",
       "228       7000                 50  0.704271  23.746592  0.264545   \n",
       "224       7000                 50  0.737329  25.034189  0.204467   \n",
       "219       7000                 50  0.741540  24.640882  0.198996   \n",
       "217      10000                 50  0.746594  25.368235  0.194784   \n",
       "203      10000                 50  0.750325  24.905764  0.189179   \n",
       "207      10000                 50  0.715871  23.720974  0.246383   \n",
       "226      13000                 50  0.739437  24.794641  0.221698   \n",
       "198      13000                 50  0.761659  26.020935  0.181497   \n",
       "204      13000                 50  0.763340  25.330414  0.177985   \n",
       "223      16000                 50  0.741888  24.917913  0.218512   \n",
       "205      16000                 50  0.766503  25.551130  0.175226   \n",
       "216      16000                 50  0.765025  26.300867  0.178893   \n",
       "192      20000                 50  0.767433  26.559555  0.176326   \n",
       "210      20000                 50  0.768764  25.841232  0.172920   \n",
       "222      20000                 50  0.734226  23.530470  0.223644   \n",
       "220      25000                 50  0.758741  26.088909  0.183511   \n",
       "211      25000                 50  0.721458  22.392368  0.230499   \n",
       "214      25000                 50  0.760595  25.245104  0.178173   \n",
       "199      30000                 40  0.742964  25.550959  0.191906   \n",
       "194      30000                 50  0.732509  23.682611  0.223172   \n",
       "229      30000                 50  0.767816  25.771132  0.173712   \n",
       "191      30000                 50  0.765279  26.316235  0.179187   \n",
       "202      30000                  5  0.458854  15.986426  0.436222   \n",
       "225      30000                 10  0.595413  20.247639  0.327470   \n",
       "206      30000                  1  0.351770  12.994673  0.511480   \n",
       "197      30000                 20  0.681601  23.155594  0.242460   \n",
       "227      30000                 30  0.712637  24.336554  0.217186   \n",
       "\n",
       "     num_gaussians           run  memory_per_image  num_training_images  \\\n",
       "195           3000  depthtexture            312000                   50   \n",
       "193           3000  depthtexture            312000                   50   \n",
       "218           3000  depthtexture            312000                   50   \n",
       "209           5733  depthtexture            312000                   50   \n",
       "215           5733  depthtexture            312000                   50   \n",
       "213           5733  depthtexture            312000                   50   \n",
       "196           5733  depthtexture            312000                   50   \n",
       "200           5733  depthtexture            312000                   50   \n",
       "201           5733  depthtexture            312000                   50   \n",
       "212           8641  depthtexture            312000                   50   \n",
       "221           8641  depthtexture            312000                   50   \n",
       "208           8641  depthtexture            312000                   50   \n",
       "228          12108  depthtexture            312000                   50   \n",
       "224          12108  depthtexture            312000                   50   \n",
       "219          12108  depthtexture            312000                   50   \n",
       "217          15176  depthtexture            312000                   50   \n",
       "203          15176  depthtexture            312000                   50   \n",
       "207          15176  depthtexture            312000                   50   \n",
       "226          20073  depthtexture            312000                   50   \n",
       "198          20073  depthtexture            312000                   50   \n",
       "204          20073  depthtexture            312000                   50   \n",
       "223          22165  depthtexture            312000                   50   \n",
       "205          22165  depthtexture            312000                   50   \n",
       "216          22165  depthtexture            312000                   50   \n",
       "192          26536  depthtexture            312000                   50   \n",
       "210          26536  depthtexture            312000                   50   \n",
       "222          26536  depthtexture            312000                   50   \n",
       "220          32779  depthtexture            312000                   50   \n",
       "211          32779  depthtexture            312000                   50   \n",
       "214          32779  depthtexture            312000                   50   \n",
       "199          36595  depthtexture            312000                   50   \n",
       "194          36595  depthtexture            312000                   50   \n",
       "229          36595  depthtexture            312000                   50   \n",
       "191          36595  depthtexture            312000                   50   \n",
       "202          36595  depthtexture            312000                   50   \n",
       "225          36595  depthtexture            312000                   50   \n",
       "206          36595  depthtexture            312000                   50   \n",
       "197          36595  depthtexture            312000                   50   \n",
       "227          36595  depthtexture            312000                   50   \n",
       "\n",
       "     memory_needed  \n",
       "195       15732000  \n",
       "193       15732000  \n",
       "218       15732000  \n",
       "209       15852252  \n",
       "215       15852252  \n",
       "213       15852252  \n",
       "196       15852252  \n",
       "200       15852252  \n",
       "201       15852252  \n",
       "212       15980204  \n",
       "221       15980204  \n",
       "208       15980204  \n",
       "228       16132752  \n",
       "224       16132752  \n",
       "219       16132752  \n",
       "217       16267744  \n",
       "203       16267744  \n",
       "207       16267744  \n",
       "226       16483212  \n",
       "198       16483212  \n",
       "204       16483212  \n",
       "223       16575260  \n",
       "205       16575260  \n",
       "216       16575260  \n",
       "192       16767584  \n",
       "210       16767584  \n",
       "222       16767584  \n",
       "220       17042276  \n",
       "211       17042276  \n",
       "214       17042276  \n",
       "199       17210180  \n",
       "194       17210180  \n",
       "229       17210180  \n",
       "191       17210180  \n",
       "202       17210180  \n",
       "225       17210180  \n",
       "206       17210180  \n",
       "197       17210180  \n",
       "227       17210180  "
      ]
     },
     "metadata": {},
     "output_type": "display_data"
    }
   ],
   "source": [
    "with pd.option_context('display.max_rows', None, 'display.max_columns', None):\n",
    "    display(results_df[(results_df[\"train_run\"]==\"ship_slow_depth\")])"
   ]
  },
  {
   "cell_type": "code",
   "execution_count": 16,
   "metadata": {},
   "outputs": [
    {
     "data": {
      "application/vnd.plotly.v1+json": {
       "config": {
        "plotlyServerURL": "https://plot.ly"
       },
       "data": [
        {
         "hovertemplate": "Method=Textured Rendering + Depth Supervision<br>level_1=PSNR<br>Num. Primitives=%{x}<br>Score=%{y}<extra></extra>",
         "legendgroup": "Textured Rendering + Depth Supervision",
         "line": {
          "color": "#636efa",
          "dash": "solid"
         },
         "marker": {
          "symbol": "circle"
         },
         "mode": "lines+markers",
         "name": "Textured Rendering + Depth Supervision",
         "orientation": "v",
         "showlegend": true,
         "type": "scatter",
         "x": [
          3000,
          6000,
          9000,
          10000,
          20000,
          30000,
          40000,
          50000,
          60000,
          70000
         ],
         "xaxis": "x",
         "y": [
          23.363216876983643,
          24.3780255317688,
          24.62532615661621,
          25.322064876556396,
          26.369915008544922,
          27.715079307556152,
          28.91629981994629,
          29.948543071746826,
          30.05842161178589,
          30.063228607177734
         ],
         "yaxis": "y"
        },
        {
         "hovertemplate": "Method=Textured Rendering + Depth Supervision<br>level_1=SSIM<br>Num. Primitives=%{x}<br>Score=%{y}<extra></extra>",
         "legendgroup": "Textured Rendering + Depth Supervision",
         "line": {
          "color": "#636efa",
          "dash": "solid"
         },
         "marker": {
          "symbol": "circle"
         },
         "mode": "lines+markers",
         "name": "Textured Rendering + Depth Supervision",
         "orientation": "v",
         "showlegend": false,
         "type": "scatter",
         "x": [
          3000,
          6000,
          9000,
          10000,
          20000,
          30000,
          40000,
          50000,
          60000,
          70000
         ],
         "xaxis": "x2",
         "y": [
          0.7599268704652786,
          0.7941825836896896,
          0.8006177097558975,
          0.8134252578020096,
          0.8350049704313278,
          0.8618153482675552,
          0.8809485137462616,
          0.8890738487243652,
          0.8900423347949982,
          0.8890586644411087
         ],
         "yaxis": "y2"
        },
        {
         "hovertemplate": "Method=Textured Rendering + Depth Supervision<br>level_1=LPIPS<br>Num. Primitives=%{x}<br>Score=%{y}<extra></extra>",
         "legendgroup": "Textured Rendering + Depth Supervision",
         "line": {
          "color": "#636efa",
          "dash": "solid"
         },
         "marker": {
          "symbol": "circle"
         },
         "mode": "lines+markers",
         "name": "Textured Rendering + Depth Supervision",
         "orientation": "v",
         "showlegend": false,
         "type": "scatter",
         "x": [
          3000,
          6000,
          9000,
          10000,
          20000,
          30000,
          40000,
          50000,
          60000,
          70000
         ],
         "xaxis": "x3",
         "y": [
          0.2267075553536415,
          0.18385865166783333,
          0.17721232026815414,
          0.16675035282969475,
          0.14711674116551876,
          0.12510446086525917,
          0.10559407901018858,
          0.0963123394176364,
          0.09520915243774652,
          0.10006828512996435
         ],
         "yaxis": "y3"
        },
        {
         "hovertemplate": "Method=3DGS<br>level_1=PSNR<br>Num. Primitives=%{x}<br>Score=%{y}<extra></extra>",
         "legendgroup": "3DGS",
         "line": {
          "color": "#EF553B",
          "dash": "solid"
         },
         "marker": {
          "symbol": "circle"
         },
         "mode": "lines+markers",
         "name": "3DGS",
         "orientation": "v",
         "showlegend": true,
         "type": "scatter",
         "x": [
          4000,
          5000,
          6000,
          7000,
          9000,
          10000,
          20000,
          30000,
          40000,
          60000,
          70000,
          90000,
          200000,
          300000,
          400000,
          500000
         ],
         "xaxis": "x",
         "y": [
          22.013708114624023,
          22.660960515340168,
          22.82325490315755,
          23.864724159240723,
          24.19434642791748,
          24.36525869369507,
          25.28900671005249,
          25.535515308380127,
          25.723800659179688,
          26.623329162597656,
          27.232072830200195,
          27.3555588722229,
          29.06645965576172,
          29.73635959625244,
          30.669249534606934,
          31.401026725769043
         ],
         "yaxis": "y"
        },
        {
         "hovertemplate": "Method=3DGS<br>level_1=SSIM<br>Num. Primitives=%{x}<br>Score=%{y}<extra></extra>",
         "legendgroup": "3DGS",
         "line": {
          "color": "#EF553B",
          "dash": "solid"
         },
         "marker": {
          "symbol": "circle"
         },
         "mode": "lines+markers",
         "name": "3DGS",
         "orientation": "v",
         "showlegend": false,
         "type": "scatter",
         "x": [
          4000,
          5000,
          6000,
          7000,
          9000,
          10000,
          20000,
          30000,
          40000,
          60000,
          70000,
          90000,
          200000,
          300000,
          400000,
          500000
         ],
         "xaxis": "x2",
         "y": [
          0.4234960973262787,
          0.46067442496617633,
          0.47326191266377765,
          0.5696834921836853,
          0.573243722319603,
          0.5805130153894424,
          0.6380536556243896,
          0.6412578076124191,
          0.6512836217880249,
          0.7012713104486465,
          0.7462145239114761,
          0.747826412320137,
          0.8215045183897018,
          0.8425363153219223,
          0.8684547543525696,
          0.8798738867044449
         ],
         "yaxis": "y2"
        },
        {
         "hovertemplate": "Method=3DGS<br>level_1=LPIPS<br>Num. Primitives=%{x}<br>Score=%{y}<extra></extra>",
         "legendgroup": "3DGS",
         "line": {
          "color": "#EF553B",
          "dash": "solid"
         },
         "marker": {
          "symbol": "circle"
         },
         "mode": "lines+markers",
         "name": "3DGS",
         "orientation": "v",
         "showlegend": false,
         "type": "scatter",
         "x": [
          4000,
          5000,
          6000,
          7000,
          9000,
          10000,
          20000,
          30000,
          40000,
          60000,
          70000,
          90000,
          200000,
          300000,
          400000,
          500000
         ],
         "xaxis": "x3",
         "y": [
          0.6237969597180685,
          0.5821191072463989,
          0.5719304084777832,
          0.5293406024575233,
          0.5221694260835648,
          0.5134152472019196,
          0.4669613242149353,
          0.4606216251850128,
          0.45036862790584564,
          0.413717657327652,
          0.37501393258571625,
          0.371014729142189,
          0.29285070300102234,
          0.25980623811483383,
          0.21909631974995136,
          0.20259234122931957
         ],
         "yaxis": "y3"
        },
        {
         "hovertemplate": "Method=Textured Rendering<br>level_1=PSNR<br>Num. Primitives=%{x}<br>Score=%{y}<extra></extra>",
         "legendgroup": "Textured Rendering",
         "line": {
          "color": "#00cc96",
          "dash": "solid"
         },
         "marker": {
          "symbol": "circle"
         },
         "mode": "lines+markers",
         "name": "Textured Rendering",
         "orientation": "v",
         "showlegend": true,
         "type": "scatter",
         "x": [
          4000,
          5000,
          6000,
          7000,
          9000,
          10000,
          20000,
          60000,
          70000,
          200000,
          300000,
          400000,
          500000
         ],
         "xaxis": "x",
         "y": [
          20.29814847310384,
          21.10162417093913,
          21.433434804280598,
          22.822818756103516,
          22.878862380981445,
          23.018320560455322,
          23.207136154174805,
          23.24714994430542,
          23.599717140197754,
          24.773064613342285,
          24.880433082580566,
          25.058687686920166,
          25.256637573242188
         ],
         "yaxis": "y"
        },
        {
         "hovertemplate": "Method=Textured Rendering<br>level_1=SSIM<br>Num. Primitives=%{x}<br>Score=%{y}<extra></extra>",
         "legendgroup": "Textured Rendering",
         "line": {
          "color": "#00cc96",
          "dash": "solid"
         },
         "marker": {
          "symbol": "circle"
         },
         "mode": "lines+markers",
         "name": "Textured Rendering",
         "orientation": "v",
         "showlegend": false,
         "type": "scatter",
         "x": [
          4000,
          5000,
          6000,
          7000,
          9000,
          10000,
          20000,
          60000,
          70000,
          200000,
          300000,
          400000,
          500000
         ],
         "xaxis": "x2",
         "y": [
          0.4029374917348226,
          0.47752911845843,
          0.49880215525627136,
          0.6132181957364082,
          0.6144850477576256,
          0.6207191646099091,
          0.6047431528568268,
          0.5890451818704605,
          0.641058936715126,
          0.7260508835315704,
          0.7282892167568207,
          0.7362355142831802,
          0.7424336671829224
         ],
         "yaxis": "y2"
        },
        {
         "hovertemplate": "Method=Textured Rendering<br>level_1=LPIPS<br>Num. Primitives=%{x}<br>Score=%{y}<extra></extra>",
         "legendgroup": "Textured Rendering",
         "line": {
          "color": "#00cc96",
          "dash": "solid"
         },
         "marker": {
          "symbol": "circle"
         },
         "mode": "lines+markers",
         "name": "Textured Rendering",
         "orientation": "v",
         "showlegend": false,
         "type": "scatter",
         "x": [
          4000,
          5000,
          6000,
          7000,
          9000,
          10000,
          20000,
          60000,
          70000,
          200000,
          300000,
          400000,
          500000
         ],
         "xaxis": "x3",
         "y": [
          0.39137377341588336,
          0.3478782077630361,
          0.336370845635732,
          0.26602261140942574,
          0.2654486820101738,
          0.25734294205904007,
          0.26665662229061127,
          0.2733820527791977,
          0.2423904687166214,
          0.19650795310735703,
          0.19805121794342995,
          0.1935199312865734,
          0.19040245562791824
         ],
         "yaxis": "y3"
        }
       ],
       "layout": {
        "annotations": [
         {
          "font": {},
          "showarrow": false,
          "text": "PSNR",
          "x": 0.15,
          "xanchor": "center",
          "xref": "paper",
          "y": 1,
          "yanchor": "bottom",
          "yref": "paper"
         },
         {
          "font": {},
          "showarrow": false,
          "text": "SSIM",
          "x": 0.49999999999999994,
          "xanchor": "center",
          "xref": "paper",
          "y": 1,
          "yanchor": "bottom",
          "yref": "paper"
         },
         {
          "font": {},
          "showarrow": false,
          "text": "LPIPS",
          "x": 0.85,
          "xanchor": "center",
          "xref": "paper",
          "y": 1,
          "yanchor": "bottom",
          "yref": "paper"
         }
        ],
        "autosize": false,
        "height": 400,
        "legend": {
         "title": {
          "text": "Method"
         },
         "tracegroupgap": 0,
         "x": 0.5,
         "xanchor": "center",
         "y": -0.4,
         "yanchor": "middle"
        },
        "margin": {
         "t": 60
        },
        "template": {
         "data": {
          "bar": [
           {
            "error_x": {
             "color": "#2a3f5f"
            },
            "error_y": {
             "color": "#2a3f5f"
            },
            "marker": {
             "line": {
              "color": "#E5ECF6",
              "width": 0.5
             },
             "pattern": {
              "fillmode": "overlay",
              "size": 10,
              "solidity": 0.2
             }
            },
            "type": "bar"
           }
          ],
          "barpolar": [
           {
            "marker": {
             "line": {
              "color": "#E5ECF6",
              "width": 0.5
             },
             "pattern": {
              "fillmode": "overlay",
              "size": 10,
              "solidity": 0.2
             }
            },
            "type": "barpolar"
           }
          ],
          "carpet": [
           {
            "aaxis": {
             "endlinecolor": "#2a3f5f",
             "gridcolor": "white",
             "linecolor": "white",
             "minorgridcolor": "white",
             "startlinecolor": "#2a3f5f"
            },
            "baxis": {
             "endlinecolor": "#2a3f5f",
             "gridcolor": "white",
             "linecolor": "white",
             "minorgridcolor": "white",
             "startlinecolor": "#2a3f5f"
            },
            "type": "carpet"
           }
          ],
          "choropleth": [
           {
            "colorbar": {
             "outlinewidth": 0,
             "ticks": ""
            },
            "type": "choropleth"
           }
          ],
          "contour": [
           {
            "colorbar": {
             "outlinewidth": 0,
             "ticks": ""
            },
            "colorscale": [
             [
              0,
              "#0d0887"
             ],
             [
              0.1111111111111111,
              "#46039f"
             ],
             [
              0.2222222222222222,
              "#7201a8"
             ],
             [
              0.3333333333333333,
              "#9c179e"
             ],
             [
              0.4444444444444444,
              "#bd3786"
             ],
             [
              0.5555555555555556,
              "#d8576b"
             ],
             [
              0.6666666666666666,
              "#ed7953"
             ],
             [
              0.7777777777777778,
              "#fb9f3a"
             ],
             [
              0.8888888888888888,
              "#fdca26"
             ],
             [
              1,
              "#f0f921"
             ]
            ],
            "type": "contour"
           }
          ],
          "contourcarpet": [
           {
            "colorbar": {
             "outlinewidth": 0,
             "ticks": ""
            },
            "type": "contourcarpet"
           }
          ],
          "heatmap": [
           {
            "colorbar": {
             "outlinewidth": 0,
             "ticks": ""
            },
            "colorscale": [
             [
              0,
              "#0d0887"
             ],
             [
              0.1111111111111111,
              "#46039f"
             ],
             [
              0.2222222222222222,
              "#7201a8"
             ],
             [
              0.3333333333333333,
              "#9c179e"
             ],
             [
              0.4444444444444444,
              "#bd3786"
             ],
             [
              0.5555555555555556,
              "#d8576b"
             ],
             [
              0.6666666666666666,
              "#ed7953"
             ],
             [
              0.7777777777777778,
              "#fb9f3a"
             ],
             [
              0.8888888888888888,
              "#fdca26"
             ],
             [
              1,
              "#f0f921"
             ]
            ],
            "type": "heatmap"
           }
          ],
          "heatmapgl": [
           {
            "colorbar": {
             "outlinewidth": 0,
             "ticks": ""
            },
            "colorscale": [
             [
              0,
              "#0d0887"
             ],
             [
              0.1111111111111111,
              "#46039f"
             ],
             [
              0.2222222222222222,
              "#7201a8"
             ],
             [
              0.3333333333333333,
              "#9c179e"
             ],
             [
              0.4444444444444444,
              "#bd3786"
             ],
             [
              0.5555555555555556,
              "#d8576b"
             ],
             [
              0.6666666666666666,
              "#ed7953"
             ],
             [
              0.7777777777777778,
              "#fb9f3a"
             ],
             [
              0.8888888888888888,
              "#fdca26"
             ],
             [
              1,
              "#f0f921"
             ]
            ],
            "type": "heatmapgl"
           }
          ],
          "histogram": [
           {
            "marker": {
             "pattern": {
              "fillmode": "overlay",
              "size": 10,
              "solidity": 0.2
             }
            },
            "type": "histogram"
           }
          ],
          "histogram2d": [
           {
            "colorbar": {
             "outlinewidth": 0,
             "ticks": ""
            },
            "colorscale": [
             [
              0,
              "#0d0887"
             ],
             [
              0.1111111111111111,
              "#46039f"
             ],
             [
              0.2222222222222222,
              "#7201a8"
             ],
             [
              0.3333333333333333,
              "#9c179e"
             ],
             [
              0.4444444444444444,
              "#bd3786"
             ],
             [
              0.5555555555555556,
              "#d8576b"
             ],
             [
              0.6666666666666666,
              "#ed7953"
             ],
             [
              0.7777777777777778,
              "#fb9f3a"
             ],
             [
              0.8888888888888888,
              "#fdca26"
             ],
             [
              1,
              "#f0f921"
             ]
            ],
            "type": "histogram2d"
           }
          ],
          "histogram2dcontour": [
           {
            "colorbar": {
             "outlinewidth": 0,
             "ticks": ""
            },
            "colorscale": [
             [
              0,
              "#0d0887"
             ],
             [
              0.1111111111111111,
              "#46039f"
             ],
             [
              0.2222222222222222,
              "#7201a8"
             ],
             [
              0.3333333333333333,
              "#9c179e"
             ],
             [
              0.4444444444444444,
              "#bd3786"
             ],
             [
              0.5555555555555556,
              "#d8576b"
             ],
             [
              0.6666666666666666,
              "#ed7953"
             ],
             [
              0.7777777777777778,
              "#fb9f3a"
             ],
             [
              0.8888888888888888,
              "#fdca26"
             ],
             [
              1,
              "#f0f921"
             ]
            ],
            "type": "histogram2dcontour"
           }
          ],
          "mesh3d": [
           {
            "colorbar": {
             "outlinewidth": 0,
             "ticks": ""
            },
            "type": "mesh3d"
           }
          ],
          "parcoords": [
           {
            "line": {
             "colorbar": {
              "outlinewidth": 0,
              "ticks": ""
             }
            },
            "type": "parcoords"
           }
          ],
          "pie": [
           {
            "automargin": true,
            "type": "pie"
           }
          ],
          "scatter": [
           {
            "fillpattern": {
             "fillmode": "overlay",
             "size": 10,
             "solidity": 0.2
            },
            "type": "scatter"
           }
          ],
          "scatter3d": [
           {
            "line": {
             "colorbar": {
              "outlinewidth": 0,
              "ticks": ""
             }
            },
            "marker": {
             "colorbar": {
              "outlinewidth": 0,
              "ticks": ""
             }
            },
            "type": "scatter3d"
           }
          ],
          "scattercarpet": [
           {
            "marker": {
             "colorbar": {
              "outlinewidth": 0,
              "ticks": ""
             }
            },
            "type": "scattercarpet"
           }
          ],
          "scattergeo": [
           {
            "marker": {
             "colorbar": {
              "outlinewidth": 0,
              "ticks": ""
             }
            },
            "type": "scattergeo"
           }
          ],
          "scattergl": [
           {
            "marker": {
             "colorbar": {
              "outlinewidth": 0,
              "ticks": ""
             }
            },
            "type": "scattergl"
           }
          ],
          "scattermapbox": [
           {
            "marker": {
             "colorbar": {
              "outlinewidth": 0,
              "ticks": ""
             }
            },
            "type": "scattermapbox"
           }
          ],
          "scatterpolar": [
           {
            "marker": {
             "colorbar": {
              "outlinewidth": 0,
              "ticks": ""
             }
            },
            "type": "scatterpolar"
           }
          ],
          "scatterpolargl": [
           {
            "marker": {
             "colorbar": {
              "outlinewidth": 0,
              "ticks": ""
             }
            },
            "type": "scatterpolargl"
           }
          ],
          "scatterternary": [
           {
            "marker": {
             "colorbar": {
              "outlinewidth": 0,
              "ticks": ""
             }
            },
            "type": "scatterternary"
           }
          ],
          "surface": [
           {
            "colorbar": {
             "outlinewidth": 0,
             "ticks": ""
            },
            "colorscale": [
             [
              0,
              "#0d0887"
             ],
             [
              0.1111111111111111,
              "#46039f"
             ],
             [
              0.2222222222222222,
              "#7201a8"
             ],
             [
              0.3333333333333333,
              "#9c179e"
             ],
             [
              0.4444444444444444,
              "#bd3786"
             ],
             [
              0.5555555555555556,
              "#d8576b"
             ],
             [
              0.6666666666666666,
              "#ed7953"
             ],
             [
              0.7777777777777778,
              "#fb9f3a"
             ],
             [
              0.8888888888888888,
              "#fdca26"
             ],
             [
              1,
              "#f0f921"
             ]
            ],
            "type": "surface"
           }
          ],
          "table": [
           {
            "cells": {
             "fill": {
              "color": "#EBF0F8"
             },
             "line": {
              "color": "white"
             }
            },
            "header": {
             "fill": {
              "color": "#C8D4E3"
             },
             "line": {
              "color": "white"
             }
            },
            "type": "table"
           }
          ]
         },
         "layout": {
          "annotationdefaults": {
           "arrowcolor": "#2a3f5f",
           "arrowhead": 0,
           "arrowwidth": 1
          },
          "autotypenumbers": "strict",
          "coloraxis": {
           "colorbar": {
            "outlinewidth": 0,
            "ticks": ""
           }
          },
          "colorscale": {
           "diverging": [
            [
             0,
             "#8e0152"
            ],
            [
             0.1,
             "#c51b7d"
            ],
            [
             0.2,
             "#de77ae"
            ],
            [
             0.3,
             "#f1b6da"
            ],
            [
             0.4,
             "#fde0ef"
            ],
            [
             0.5,
             "#f7f7f7"
            ],
            [
             0.6,
             "#e6f5d0"
            ],
            [
             0.7,
             "#b8e186"
            ],
            [
             0.8,
             "#7fbc41"
            ],
            [
             0.9,
             "#4d9221"
            ],
            [
             1,
             "#276419"
            ]
           ],
           "sequential": [
            [
             0,
             "#0d0887"
            ],
            [
             0.1111111111111111,
             "#46039f"
            ],
            [
             0.2222222222222222,
             "#7201a8"
            ],
            [
             0.3333333333333333,
             "#9c179e"
            ],
            [
             0.4444444444444444,
             "#bd3786"
            ],
            [
             0.5555555555555556,
             "#d8576b"
            ],
            [
             0.6666666666666666,
             "#ed7953"
            ],
            [
             0.7777777777777778,
             "#fb9f3a"
            ],
            [
             0.8888888888888888,
             "#fdca26"
            ],
            [
             1,
             "#f0f921"
            ]
           ],
           "sequentialminus": [
            [
             0,
             "#0d0887"
            ],
            [
             0.1111111111111111,
             "#46039f"
            ],
            [
             0.2222222222222222,
             "#7201a8"
            ],
            [
             0.3333333333333333,
             "#9c179e"
            ],
            [
             0.4444444444444444,
             "#bd3786"
            ],
            [
             0.5555555555555556,
             "#d8576b"
            ],
            [
             0.6666666666666666,
             "#ed7953"
            ],
            [
             0.7777777777777778,
             "#fb9f3a"
            ],
            [
             0.8888888888888888,
             "#fdca26"
            ],
            [
             1,
             "#f0f921"
            ]
           ]
          },
          "colorway": [
           "#636efa",
           "#EF553B",
           "#00cc96",
           "#ab63fa",
           "#FFA15A",
           "#19d3f3",
           "#FF6692",
           "#B6E880",
           "#FF97FF",
           "#FECB52"
          ],
          "font": {
           "color": "#2a3f5f"
          },
          "geo": {
           "bgcolor": "white",
           "lakecolor": "white",
           "landcolor": "#E5ECF6",
           "showlakes": true,
           "showland": true,
           "subunitcolor": "white"
          },
          "hoverlabel": {
           "align": "left"
          },
          "hovermode": "closest",
          "mapbox": {
           "style": "light"
          },
          "paper_bgcolor": "white",
          "plot_bgcolor": "#E5ECF6",
          "polar": {
           "angularaxis": {
            "gridcolor": "white",
            "linecolor": "white",
            "ticks": ""
           },
           "bgcolor": "#E5ECF6",
           "radialaxis": {
            "gridcolor": "white",
            "linecolor": "white",
            "ticks": ""
           }
          },
          "scene": {
           "xaxis": {
            "backgroundcolor": "#E5ECF6",
            "gridcolor": "white",
            "gridwidth": 2,
            "linecolor": "white",
            "showbackground": true,
            "ticks": "",
            "zerolinecolor": "white"
           },
           "yaxis": {
            "backgroundcolor": "#E5ECF6",
            "gridcolor": "white",
            "gridwidth": 2,
            "linecolor": "white",
            "showbackground": true,
            "ticks": "",
            "zerolinecolor": "white"
           },
           "zaxis": {
            "backgroundcolor": "#E5ECF6",
            "gridcolor": "white",
            "gridwidth": 2,
            "linecolor": "white",
            "showbackground": true,
            "ticks": "",
            "zerolinecolor": "white"
           }
          },
          "shapedefaults": {
           "line": {
            "color": "#2a3f5f"
           }
          },
          "ternary": {
           "aaxis": {
            "gridcolor": "white",
            "linecolor": "white",
            "ticks": ""
           },
           "baxis": {
            "gridcolor": "white",
            "linecolor": "white",
            "ticks": ""
           },
           "bgcolor": "#E5ECF6",
           "caxis": {
            "gridcolor": "white",
            "linecolor": "white",
            "ticks": ""
           }
          },
          "title": {
           "x": 0.05
          },
          "xaxis": {
           "automargin": true,
           "gridcolor": "white",
           "linecolor": "white",
           "ticks": "",
           "title": {
            "standoff": 15
           },
           "zerolinecolor": "white",
           "zerolinewidth": 2
          },
          "yaxis": {
           "automargin": true,
           "gridcolor": "white",
           "linecolor": "white",
           "ticks": "",
           "title": {
            "standoff": 15
           },
           "zerolinecolor": "white",
           "zerolinewidth": 2
          }
         }
        },
        "width": 1000,
        "xaxis": {
         "anchor": "y",
         "domain": [
          0,
          0.3
         ],
         "title": {
          "text": "Num. Primitives"
         },
         "type": "log"
        },
        "xaxis2": {
         "anchor": "y2",
         "domain": [
          0.35,
          0.6499999999999999
         ],
         "matches": "x",
         "title": {
          "text": "Num. Primitives"
         },
         "type": "log"
        },
        "xaxis3": {
         "anchor": "y3",
         "domain": [
          0.7,
          1
         ],
         "matches": "x",
         "title": {
          "text": "Num. Primitives"
         },
         "type": "log"
        },
        "yaxis": {
         "anchor": "x",
         "domain": [
          0,
          1
         ],
         "showticklabels": true,
         "title": {
          "text": "Score"
         }
        },
        "yaxis2": {
         "anchor": "x2",
         "domain": [
          0,
          1
         ],
         "showticklabels": true
        },
        "yaxis3": {
         "anchor": "x3",
         "domain": [
          0,
          1
         ],
         "showticklabels": true
        }
       }
      },
      "text/html": [
       "<div>                            <div id=\"31a66fed-95be-43ce-bfb1-1b7b749fadb5\" class=\"plotly-graph-div\" style=\"height:400px; width:1000px;\"></div>            <script type=\"text/javascript\">                require([\"plotly\"], function(Plotly) {                    window.PLOTLYENV=window.PLOTLYENV || {};                                    if (document.getElementById(\"31a66fed-95be-43ce-bfb1-1b7b749fadb5\")) {                    Plotly.newPlot(                        \"31a66fed-95be-43ce-bfb1-1b7b749fadb5\",                        [{\"hovertemplate\":\"Method=Textured Rendering + Depth Supervision\\u003cbr\\u003elevel_1=PSNR\\u003cbr\\u003eNum. Primitives=%{x}\\u003cbr\\u003eScore=%{y}\\u003cextra\\u003e\\u003c\\u002fextra\\u003e\",\"legendgroup\":\"Textured Rendering + Depth Supervision\",\"line\":{\"color\":\"#636efa\",\"dash\":\"solid\"},\"marker\":{\"symbol\":\"circle\"},\"mode\":\"lines+markers\",\"name\":\"Textured Rendering + Depth Supervision\",\"orientation\":\"v\",\"showlegend\":true,\"x\":[3000,6000,9000,10000,20000,30000,40000,50000,60000,70000],\"xaxis\":\"x\",\"y\":[23.363216876983643,24.3780255317688,24.62532615661621,25.322064876556396,26.369915008544922,27.715079307556152,28.91629981994629,29.948543071746826,30.05842161178589,30.063228607177734],\"yaxis\":\"y\",\"type\":\"scatter\"},{\"hovertemplate\":\"Method=Textured Rendering + Depth Supervision\\u003cbr\\u003elevel_1=SSIM\\u003cbr\\u003eNum. Primitives=%{x}\\u003cbr\\u003eScore=%{y}\\u003cextra\\u003e\\u003c\\u002fextra\\u003e\",\"legendgroup\":\"Textured Rendering + Depth Supervision\",\"line\":{\"color\":\"#636efa\",\"dash\":\"solid\"},\"marker\":{\"symbol\":\"circle\"},\"mode\":\"lines+markers\",\"name\":\"Textured Rendering + Depth Supervision\",\"orientation\":\"v\",\"showlegend\":false,\"x\":[3000,6000,9000,10000,20000,30000,40000,50000,60000,70000],\"xaxis\":\"x2\",\"y\":[0.7599268704652786,0.7941825836896896,0.8006177097558975,0.8134252578020096,0.8350049704313278,0.8618153482675552,0.8809485137462616,0.8890738487243652,0.8900423347949982,0.8890586644411087],\"yaxis\":\"y2\",\"type\":\"scatter\"},{\"hovertemplate\":\"Method=Textured Rendering + Depth Supervision\\u003cbr\\u003elevel_1=LPIPS\\u003cbr\\u003eNum. Primitives=%{x}\\u003cbr\\u003eScore=%{y}\\u003cextra\\u003e\\u003c\\u002fextra\\u003e\",\"legendgroup\":\"Textured Rendering + Depth Supervision\",\"line\":{\"color\":\"#636efa\",\"dash\":\"solid\"},\"marker\":{\"symbol\":\"circle\"},\"mode\":\"lines+markers\",\"name\":\"Textured Rendering + Depth Supervision\",\"orientation\":\"v\",\"showlegend\":false,\"x\":[3000,6000,9000,10000,20000,30000,40000,50000,60000,70000],\"xaxis\":\"x3\",\"y\":[0.2267075553536415,0.18385865166783333,0.17721232026815414,0.16675035282969475,0.14711674116551876,0.12510446086525917,0.10559407901018858,0.0963123394176364,0.09520915243774652,0.10006828512996435],\"yaxis\":\"y3\",\"type\":\"scatter\"},{\"hovertemplate\":\"Method=3DGS\\u003cbr\\u003elevel_1=PSNR\\u003cbr\\u003eNum. Primitives=%{x}\\u003cbr\\u003eScore=%{y}\\u003cextra\\u003e\\u003c\\u002fextra\\u003e\",\"legendgroup\":\"3DGS\",\"line\":{\"color\":\"#EF553B\",\"dash\":\"solid\"},\"marker\":{\"symbol\":\"circle\"},\"mode\":\"lines+markers\",\"name\":\"3DGS\",\"orientation\":\"v\",\"showlegend\":true,\"x\":[4000,5000,6000,7000,9000,10000,20000,30000,40000,60000,70000,90000,200000,300000,400000,500000],\"xaxis\":\"x\",\"y\":[22.013708114624023,22.660960515340168,22.82325490315755,23.864724159240723,24.19434642791748,24.36525869369507,25.28900671005249,25.535515308380127,25.723800659179688,26.623329162597656,27.232072830200195,27.3555588722229,29.06645965576172,29.73635959625244,30.669249534606934,31.401026725769043],\"yaxis\":\"y\",\"type\":\"scatter\"},{\"hovertemplate\":\"Method=3DGS\\u003cbr\\u003elevel_1=SSIM\\u003cbr\\u003eNum. Primitives=%{x}\\u003cbr\\u003eScore=%{y}\\u003cextra\\u003e\\u003c\\u002fextra\\u003e\",\"legendgroup\":\"3DGS\",\"line\":{\"color\":\"#EF553B\",\"dash\":\"solid\"},\"marker\":{\"symbol\":\"circle\"},\"mode\":\"lines+markers\",\"name\":\"3DGS\",\"orientation\":\"v\",\"showlegend\":false,\"x\":[4000,5000,6000,7000,9000,10000,20000,30000,40000,60000,70000,90000,200000,300000,400000,500000],\"xaxis\":\"x2\",\"y\":[0.4234960973262787,0.46067442496617633,0.47326191266377765,0.5696834921836853,0.573243722319603,0.5805130153894424,0.6380536556243896,0.6412578076124191,0.6512836217880249,0.7012713104486465,0.7462145239114761,0.747826412320137,0.8215045183897018,0.8425363153219223,0.8684547543525696,0.8798738867044449],\"yaxis\":\"y2\",\"type\":\"scatter\"},{\"hovertemplate\":\"Method=3DGS\\u003cbr\\u003elevel_1=LPIPS\\u003cbr\\u003eNum. Primitives=%{x}\\u003cbr\\u003eScore=%{y}\\u003cextra\\u003e\\u003c\\u002fextra\\u003e\",\"legendgroup\":\"3DGS\",\"line\":{\"color\":\"#EF553B\",\"dash\":\"solid\"},\"marker\":{\"symbol\":\"circle\"},\"mode\":\"lines+markers\",\"name\":\"3DGS\",\"orientation\":\"v\",\"showlegend\":false,\"x\":[4000,5000,6000,7000,9000,10000,20000,30000,40000,60000,70000,90000,200000,300000,400000,500000],\"xaxis\":\"x3\",\"y\":[0.6237969597180685,0.5821191072463989,0.5719304084777832,0.5293406024575233,0.5221694260835648,0.5134152472019196,0.4669613242149353,0.4606216251850128,0.45036862790584564,0.413717657327652,0.37501393258571625,0.371014729142189,0.29285070300102234,0.25980623811483383,0.21909631974995136,0.20259234122931957],\"yaxis\":\"y3\",\"type\":\"scatter\"},{\"hovertemplate\":\"Method=Textured Rendering\\u003cbr\\u003elevel_1=PSNR\\u003cbr\\u003eNum. Primitives=%{x}\\u003cbr\\u003eScore=%{y}\\u003cextra\\u003e\\u003c\\u002fextra\\u003e\",\"legendgroup\":\"Textured Rendering\",\"line\":{\"color\":\"#00cc96\",\"dash\":\"solid\"},\"marker\":{\"symbol\":\"circle\"},\"mode\":\"lines+markers\",\"name\":\"Textured Rendering\",\"orientation\":\"v\",\"showlegend\":true,\"x\":[4000,5000,6000,7000,9000,10000,20000,60000,70000,200000,300000,400000,500000],\"xaxis\":\"x\",\"y\":[20.29814847310384,21.10162417093913,21.433434804280598,22.822818756103516,22.878862380981445,23.018320560455322,23.207136154174805,23.24714994430542,23.599717140197754,24.773064613342285,24.880433082580566,25.058687686920166,25.256637573242188],\"yaxis\":\"y\",\"type\":\"scatter\"},{\"hovertemplate\":\"Method=Textured Rendering\\u003cbr\\u003elevel_1=SSIM\\u003cbr\\u003eNum. Primitives=%{x}\\u003cbr\\u003eScore=%{y}\\u003cextra\\u003e\\u003c\\u002fextra\\u003e\",\"legendgroup\":\"Textured Rendering\",\"line\":{\"color\":\"#00cc96\",\"dash\":\"solid\"},\"marker\":{\"symbol\":\"circle\"},\"mode\":\"lines+markers\",\"name\":\"Textured Rendering\",\"orientation\":\"v\",\"showlegend\":false,\"x\":[4000,5000,6000,7000,9000,10000,20000,60000,70000,200000,300000,400000,500000],\"xaxis\":\"x2\",\"y\":[0.4029374917348226,0.47752911845843,0.49880215525627136,0.6132181957364082,0.6144850477576256,0.6207191646099091,0.6047431528568268,0.5890451818704605,0.641058936715126,0.7260508835315704,0.7282892167568207,0.7362355142831802,0.7424336671829224],\"yaxis\":\"y2\",\"type\":\"scatter\"},{\"hovertemplate\":\"Method=Textured Rendering\\u003cbr\\u003elevel_1=LPIPS\\u003cbr\\u003eNum. Primitives=%{x}\\u003cbr\\u003eScore=%{y}\\u003cextra\\u003e\\u003c\\u002fextra\\u003e\",\"legendgroup\":\"Textured Rendering\",\"line\":{\"color\":\"#00cc96\",\"dash\":\"solid\"},\"marker\":{\"symbol\":\"circle\"},\"mode\":\"lines+markers\",\"name\":\"Textured Rendering\",\"orientation\":\"v\",\"showlegend\":false,\"x\":[4000,5000,6000,7000,9000,10000,20000,60000,70000,200000,300000,400000,500000],\"xaxis\":\"x3\",\"y\":[0.39137377341588336,0.3478782077630361,0.336370845635732,0.26602261140942574,0.2654486820101738,0.25734294205904007,0.26665662229061127,0.2733820527791977,0.2423904687166214,0.19650795310735703,0.19805121794342995,0.1935199312865734,0.19040245562791824],\"yaxis\":\"y3\",\"type\":\"scatter\"}],                        {\"template\":{\"data\":{\"histogram2dcontour\":[{\"type\":\"histogram2dcontour\",\"colorbar\":{\"outlinewidth\":0,\"ticks\":\"\"},\"colorscale\":[[0.0,\"#0d0887\"],[0.1111111111111111,\"#46039f\"],[0.2222222222222222,\"#7201a8\"],[0.3333333333333333,\"#9c179e\"],[0.4444444444444444,\"#bd3786\"],[0.5555555555555556,\"#d8576b\"],[0.6666666666666666,\"#ed7953\"],[0.7777777777777778,\"#fb9f3a\"],[0.8888888888888888,\"#fdca26\"],[1.0,\"#f0f921\"]]}],\"choropleth\":[{\"type\":\"choropleth\",\"colorbar\":{\"outlinewidth\":0,\"ticks\":\"\"}}],\"histogram2d\":[{\"type\":\"histogram2d\",\"colorbar\":{\"outlinewidth\":0,\"ticks\":\"\"},\"colorscale\":[[0.0,\"#0d0887\"],[0.1111111111111111,\"#46039f\"],[0.2222222222222222,\"#7201a8\"],[0.3333333333333333,\"#9c179e\"],[0.4444444444444444,\"#bd3786\"],[0.5555555555555556,\"#d8576b\"],[0.6666666666666666,\"#ed7953\"],[0.7777777777777778,\"#fb9f3a\"],[0.8888888888888888,\"#fdca26\"],[1.0,\"#f0f921\"]]}],\"heatmap\":[{\"type\":\"heatmap\",\"colorbar\":{\"outlinewidth\":0,\"ticks\":\"\"},\"colorscale\":[[0.0,\"#0d0887\"],[0.1111111111111111,\"#46039f\"],[0.2222222222222222,\"#7201a8\"],[0.3333333333333333,\"#9c179e\"],[0.4444444444444444,\"#bd3786\"],[0.5555555555555556,\"#d8576b\"],[0.6666666666666666,\"#ed7953\"],[0.7777777777777778,\"#fb9f3a\"],[0.8888888888888888,\"#fdca26\"],[1.0,\"#f0f921\"]]}],\"heatmapgl\":[{\"type\":\"heatmapgl\",\"colorbar\":{\"outlinewidth\":0,\"ticks\":\"\"},\"colorscale\":[[0.0,\"#0d0887\"],[0.1111111111111111,\"#46039f\"],[0.2222222222222222,\"#7201a8\"],[0.3333333333333333,\"#9c179e\"],[0.4444444444444444,\"#bd3786\"],[0.5555555555555556,\"#d8576b\"],[0.6666666666666666,\"#ed7953\"],[0.7777777777777778,\"#fb9f3a\"],[0.8888888888888888,\"#fdca26\"],[1.0,\"#f0f921\"]]}],\"contourcarpet\":[{\"type\":\"contourcarpet\",\"colorbar\":{\"outlinewidth\":0,\"ticks\":\"\"}}],\"contour\":[{\"type\":\"contour\",\"colorbar\":{\"outlinewidth\":0,\"ticks\":\"\"},\"colorscale\":[[0.0,\"#0d0887\"],[0.1111111111111111,\"#46039f\"],[0.2222222222222222,\"#7201a8\"],[0.3333333333333333,\"#9c179e\"],[0.4444444444444444,\"#bd3786\"],[0.5555555555555556,\"#d8576b\"],[0.6666666666666666,\"#ed7953\"],[0.7777777777777778,\"#fb9f3a\"],[0.8888888888888888,\"#fdca26\"],[1.0,\"#f0f921\"]]}],\"surface\":[{\"type\":\"surface\",\"colorbar\":{\"outlinewidth\":0,\"ticks\":\"\"},\"colorscale\":[[0.0,\"#0d0887\"],[0.1111111111111111,\"#46039f\"],[0.2222222222222222,\"#7201a8\"],[0.3333333333333333,\"#9c179e\"],[0.4444444444444444,\"#bd3786\"],[0.5555555555555556,\"#d8576b\"],[0.6666666666666666,\"#ed7953\"],[0.7777777777777778,\"#fb9f3a\"],[0.8888888888888888,\"#fdca26\"],[1.0,\"#f0f921\"]]}],\"mesh3d\":[{\"type\":\"mesh3d\",\"colorbar\":{\"outlinewidth\":0,\"ticks\":\"\"}}],\"scatter\":[{\"fillpattern\":{\"fillmode\":\"overlay\",\"size\":10,\"solidity\":0.2},\"type\":\"scatter\"}],\"parcoords\":[{\"type\":\"parcoords\",\"line\":{\"colorbar\":{\"outlinewidth\":0,\"ticks\":\"\"}}}],\"scatterpolargl\":[{\"type\":\"scatterpolargl\",\"marker\":{\"colorbar\":{\"outlinewidth\":0,\"ticks\":\"\"}}}],\"bar\":[{\"error_x\":{\"color\":\"#2a3f5f\"},\"error_y\":{\"color\":\"#2a3f5f\"},\"marker\":{\"line\":{\"color\":\"#E5ECF6\",\"width\":0.5},\"pattern\":{\"fillmode\":\"overlay\",\"size\":10,\"solidity\":0.2}},\"type\":\"bar\"}],\"scattergeo\":[{\"type\":\"scattergeo\",\"marker\":{\"colorbar\":{\"outlinewidth\":0,\"ticks\":\"\"}}}],\"scatterpolar\":[{\"type\":\"scatterpolar\",\"marker\":{\"colorbar\":{\"outlinewidth\":0,\"ticks\":\"\"}}}],\"histogram\":[{\"marker\":{\"pattern\":{\"fillmode\":\"overlay\",\"size\":10,\"solidity\":0.2}},\"type\":\"histogram\"}],\"scattergl\":[{\"type\":\"scattergl\",\"marker\":{\"colorbar\":{\"outlinewidth\":0,\"ticks\":\"\"}}}],\"scatter3d\":[{\"type\":\"scatter3d\",\"line\":{\"colorbar\":{\"outlinewidth\":0,\"ticks\":\"\"}},\"marker\":{\"colorbar\":{\"outlinewidth\":0,\"ticks\":\"\"}}}],\"scattermapbox\":[{\"type\":\"scattermapbox\",\"marker\":{\"colorbar\":{\"outlinewidth\":0,\"ticks\":\"\"}}}],\"scatterternary\":[{\"type\":\"scatterternary\",\"marker\":{\"colorbar\":{\"outlinewidth\":0,\"ticks\":\"\"}}}],\"scattercarpet\":[{\"type\":\"scattercarpet\",\"marker\":{\"colorbar\":{\"outlinewidth\":0,\"ticks\":\"\"}}}],\"carpet\":[{\"aaxis\":{\"endlinecolor\":\"#2a3f5f\",\"gridcolor\":\"white\",\"linecolor\":\"white\",\"minorgridcolor\":\"white\",\"startlinecolor\":\"#2a3f5f\"},\"baxis\":{\"endlinecolor\":\"#2a3f5f\",\"gridcolor\":\"white\",\"linecolor\":\"white\",\"minorgridcolor\":\"white\",\"startlinecolor\":\"#2a3f5f\"},\"type\":\"carpet\"}],\"table\":[{\"cells\":{\"fill\":{\"color\":\"#EBF0F8\"},\"line\":{\"color\":\"white\"}},\"header\":{\"fill\":{\"color\":\"#C8D4E3\"},\"line\":{\"color\":\"white\"}},\"type\":\"table\"}],\"barpolar\":[{\"marker\":{\"line\":{\"color\":\"#E5ECF6\",\"width\":0.5},\"pattern\":{\"fillmode\":\"overlay\",\"size\":10,\"solidity\":0.2}},\"type\":\"barpolar\"}],\"pie\":[{\"automargin\":true,\"type\":\"pie\"}]},\"layout\":{\"autotypenumbers\":\"strict\",\"colorway\":[\"#636efa\",\"#EF553B\",\"#00cc96\",\"#ab63fa\",\"#FFA15A\",\"#19d3f3\",\"#FF6692\",\"#B6E880\",\"#FF97FF\",\"#FECB52\"],\"font\":{\"color\":\"#2a3f5f\"},\"hovermode\":\"closest\",\"hoverlabel\":{\"align\":\"left\"},\"paper_bgcolor\":\"white\",\"plot_bgcolor\":\"#E5ECF6\",\"polar\":{\"bgcolor\":\"#E5ECF6\",\"angularaxis\":{\"gridcolor\":\"white\",\"linecolor\":\"white\",\"ticks\":\"\"},\"radialaxis\":{\"gridcolor\":\"white\",\"linecolor\":\"white\",\"ticks\":\"\"}},\"ternary\":{\"bgcolor\":\"#E5ECF6\",\"aaxis\":{\"gridcolor\":\"white\",\"linecolor\":\"white\",\"ticks\":\"\"},\"baxis\":{\"gridcolor\":\"white\",\"linecolor\":\"white\",\"ticks\":\"\"},\"caxis\":{\"gridcolor\":\"white\",\"linecolor\":\"white\",\"ticks\":\"\"}},\"coloraxis\":{\"colorbar\":{\"outlinewidth\":0,\"ticks\":\"\"}},\"colorscale\":{\"sequential\":[[0.0,\"#0d0887\"],[0.1111111111111111,\"#46039f\"],[0.2222222222222222,\"#7201a8\"],[0.3333333333333333,\"#9c179e\"],[0.4444444444444444,\"#bd3786\"],[0.5555555555555556,\"#d8576b\"],[0.6666666666666666,\"#ed7953\"],[0.7777777777777778,\"#fb9f3a\"],[0.8888888888888888,\"#fdca26\"],[1.0,\"#f0f921\"]],\"sequentialminus\":[[0.0,\"#0d0887\"],[0.1111111111111111,\"#46039f\"],[0.2222222222222222,\"#7201a8\"],[0.3333333333333333,\"#9c179e\"],[0.4444444444444444,\"#bd3786\"],[0.5555555555555556,\"#d8576b\"],[0.6666666666666666,\"#ed7953\"],[0.7777777777777778,\"#fb9f3a\"],[0.8888888888888888,\"#fdca26\"],[1.0,\"#f0f921\"]],\"diverging\":[[0,\"#8e0152\"],[0.1,\"#c51b7d\"],[0.2,\"#de77ae\"],[0.3,\"#f1b6da\"],[0.4,\"#fde0ef\"],[0.5,\"#f7f7f7\"],[0.6,\"#e6f5d0\"],[0.7,\"#b8e186\"],[0.8,\"#7fbc41\"],[0.9,\"#4d9221\"],[1,\"#276419\"]]},\"xaxis\":{\"gridcolor\":\"white\",\"linecolor\":\"white\",\"ticks\":\"\",\"title\":{\"standoff\":15},\"zerolinecolor\":\"white\",\"automargin\":true,\"zerolinewidth\":2},\"yaxis\":{\"gridcolor\":\"white\",\"linecolor\":\"white\",\"ticks\":\"\",\"title\":{\"standoff\":15},\"zerolinecolor\":\"white\",\"automargin\":true,\"zerolinewidth\":2},\"scene\":{\"xaxis\":{\"backgroundcolor\":\"#E5ECF6\",\"gridcolor\":\"white\",\"linecolor\":\"white\",\"showbackground\":true,\"ticks\":\"\",\"zerolinecolor\":\"white\",\"gridwidth\":2},\"yaxis\":{\"backgroundcolor\":\"#E5ECF6\",\"gridcolor\":\"white\",\"linecolor\":\"white\",\"showbackground\":true,\"ticks\":\"\",\"zerolinecolor\":\"white\",\"gridwidth\":2},\"zaxis\":{\"backgroundcolor\":\"#E5ECF6\",\"gridcolor\":\"white\",\"linecolor\":\"white\",\"showbackground\":true,\"ticks\":\"\",\"zerolinecolor\":\"white\",\"gridwidth\":2}},\"shapedefaults\":{\"line\":{\"color\":\"#2a3f5f\"}},\"annotationdefaults\":{\"arrowcolor\":\"#2a3f5f\",\"arrowhead\":0,\"arrowwidth\":1},\"geo\":{\"bgcolor\":\"white\",\"landcolor\":\"#E5ECF6\",\"subunitcolor\":\"white\",\"showland\":true,\"showlakes\":true,\"lakecolor\":\"white\"},\"title\":{\"x\":0.05},\"mapbox\":{\"style\":\"light\"}}},\"xaxis\":{\"anchor\":\"y\",\"domain\":[0.0,0.3],\"title\":{\"text\":\"Num. Primitives\"},\"type\":\"log\"},\"yaxis\":{\"anchor\":\"x\",\"domain\":[0.0,1.0],\"title\":{\"text\":\"Score\"},\"showticklabels\":true},\"xaxis2\":{\"anchor\":\"y2\",\"domain\":[0.35,0.6499999999999999],\"matches\":\"x\",\"title\":{\"text\":\"Num. Primitives\"},\"type\":\"log\"},\"yaxis2\":{\"anchor\":\"x2\",\"domain\":[0.0,1.0],\"showticklabels\":true},\"xaxis3\":{\"anchor\":\"y3\",\"domain\":[0.7,1.0],\"matches\":\"x\",\"title\":{\"text\":\"Num. Primitives\"},\"type\":\"log\"},\"yaxis3\":{\"anchor\":\"x3\",\"domain\":[0.0,1.0],\"showticklabels\":true},\"annotations\":[{\"font\":{},\"showarrow\":false,\"text\":\"PSNR\",\"x\":0.15,\"xanchor\":\"center\",\"xref\":\"paper\",\"y\":1.0,\"yanchor\":\"bottom\",\"yref\":\"paper\"},{\"font\":{},\"showarrow\":false,\"text\":\"SSIM\",\"x\":0.49999999999999994,\"xanchor\":\"center\",\"xref\":\"paper\",\"y\":1.0,\"yanchor\":\"bottom\",\"yref\":\"paper\"},{\"font\":{},\"showarrow\":false,\"text\":\"LPIPS\",\"x\":0.85,\"xanchor\":\"center\",\"xref\":\"paper\",\"y\":1.0,\"yanchor\":\"bottom\",\"yref\":\"paper\"}],\"legend\":{\"title\":{\"text\":\"Method\"},\"tracegroupgap\":0,\"yanchor\":\"middle\",\"y\":-0.4,\"xanchor\":\"center\",\"x\":0.5},\"margin\":{\"t\":60},\"autosize\":false,\"width\":1000,\"height\":400},                        {\"responsive\": true}                    ).then(function(){\n",
       "                            \n",
       "var gd = document.getElementById('31a66fed-95be-43ce-bfb1-1b7b749fadb5');\n",
       "var x = new MutationObserver(function (mutations, observer) {{\n",
       "        var display = window.getComputedStyle(gd).display;\n",
       "        if (!display || display === 'none') {{\n",
       "            console.log([gd, 'removed!']);\n",
       "            Plotly.purge(gd);\n",
       "            observer.disconnect();\n",
       "        }}\n",
       "}});\n",
       "\n",
       "// Listen for the removal of the full notebook cells\n",
       "var notebookContainer = gd.closest('#notebook-container');\n",
       "if (notebookContainer) {{\n",
       "    x.observe(notebookContainer, {childList: true});\n",
       "}}\n",
       "\n",
       "// Listen for the clearing of the current output cell\n",
       "var outputEl = gd.closest('.output');\n",
       "if (outputEl) {{\n",
       "    x.observe(outputEl, {childList: true});\n",
       "}}\n",
       "\n",
       "                        })                };                });            </script>        </div>"
      ]
     },
     "metadata": {},
     "output_type": "display_data"
    },
    {
     "data": {
      "application/vnd.plotly.v1+json": {
       "config": {
        "plotlyServerURL": "https://plot.ly"
       },
       "data": [
        {
         "hovertemplate": "Method=Textured Rendering + Depth Supervision<br>level_1=PSNR<br>memory_needed=%{x}<br>Score=%{y}<extra></extra>",
         "legendgroup": "Textured Rendering + Depth Supervision",
         "line": {
          "color": "#636efa",
          "dash": "solid"
         },
         "marker": {
          "symbol": "circle"
         },
         "mode": "lines+markers",
         "name": "Textured Rendering + Depth Supervision",
         "orientation": "v",
         "showlegend": true,
         "type": "scatter",
         "x": [
          15607000,
          15727945,
          15759933,
          15869867,
          16206335,
          16600333,
          16894869,
          17225441,
          17327642,
          17445001
         ],
         "xaxis": "x",
         "y": [
          23.363216876983643,
          24.3780255317688,
          24.62532615661621,
          25.322064876556396,
          26.369915008544922,
          27.715079307556152,
          28.91629981994629,
          29.948543071746826,
          30.05842161178589,
          30.063228607177734
         ],
         "yaxis": "y"
        },
        {
         "hovertemplate": "Method=Textured Rendering + Depth Supervision<br>level_1=SSIM<br>memory_needed=%{x}<br>Score=%{y}<extra></extra>",
         "legendgroup": "Textured Rendering + Depth Supervision",
         "line": {
          "color": "#636efa",
          "dash": "solid"
         },
         "marker": {
          "symbol": "circle"
         },
         "mode": "lines+markers",
         "name": "Textured Rendering + Depth Supervision",
         "orientation": "v",
         "showlegend": false,
         "type": "scatter",
         "x": [
          15607000,
          15727945,
          15759933,
          15869867,
          16206335,
          16600333,
          16894869,
          17225441,
          17327642,
          17445001
         ],
         "xaxis": "x2",
         "y": [
          0.7599268704652786,
          0.7941825836896896,
          0.8006177097558975,
          0.8134252578020096,
          0.8350049704313278,
          0.8618153482675552,
          0.8809485137462616,
          0.8890738487243652,
          0.8900423347949982,
          0.8890586644411087
         ],
         "yaxis": "y2"
        },
        {
         "hovertemplate": "Method=Textured Rendering + Depth Supervision<br>level_1=LPIPS<br>memory_needed=%{x}<br>Score=%{y}<extra></extra>",
         "legendgroup": "Textured Rendering + Depth Supervision",
         "line": {
          "color": "#636efa",
          "dash": "solid"
         },
         "marker": {
          "symbol": "circle"
         },
         "mode": "lines+markers",
         "name": "Textured Rendering + Depth Supervision",
         "orientation": "v",
         "showlegend": false,
         "type": "scatter",
         "x": [
          15607000,
          15727945,
          15759933,
          15869867,
          16206335,
          16600333,
          16894869,
          17225441,
          17327642,
          17445001
         ],
         "xaxis": "x3",
         "y": [
          0.2267075553536415,
          0.18385865166783333,
          0.17721232026815414,
          0.16675035282969475,
          0.14711674116551876,
          0.12510446086525917,
          0.10559407901018858,
          0.0963123394176364,
          0.09520915243774652,
          0.10006828512996435
         ],
         "yaxis": "y3"
        },
        {
         "hovertemplate": "Method=3DGS<br>level_1=PSNR<br>memory_needed=%{x}<br>Score=%{y}<extra></extra>",
         "legendgroup": "3DGS",
         "line": {
          "color": "#EF553B",
          "dash": "solid"
         },
         "marker": {
          "symbol": "circle"
         },
         "mode": "lines+markers",
         "name": "3DGS",
         "orientation": "v",
         "showlegend": true,
         "type": "scatter",
         "x": [
          830877.3333333334,
          1109121.3333333333,
          1175830.6666666667,
          1364139,
          1485738,
          1786697,
          3225884,
          3971644,
          5677393,
          9741962,
          12509416,
          14460015,
          36112720,
          55493984,
          79058643,
          95265648
         ],
         "xaxis": "x",
         "y": [
          22.013708114624023,
          22.660960515340168,
          22.82325490315755,
          23.864724159240723,
          24.19434642791748,
          24.36525869369507,
          25.28900671005249,
          25.535515308380127,
          25.723800659179688,
          26.623329162597656,
          27.232072830200195,
          27.3555588722229,
          29.06645965576172,
          29.73635959625244,
          30.669249534606934,
          31.401026725769043
         ],
         "yaxis": "y"
        },
        {
         "hovertemplate": "Method=3DGS<br>level_1=SSIM<br>memory_needed=%{x}<br>Score=%{y}<extra></extra>",
         "legendgroup": "3DGS",
         "line": {
          "color": "#EF553B",
          "dash": "solid"
         },
         "marker": {
          "symbol": "circle"
         },
         "mode": "lines+markers",
         "name": "3DGS",
         "orientation": "v",
         "showlegend": false,
         "type": "scatter",
         "x": [
          830877.3333333334,
          1109121.3333333333,
          1175830.6666666667,
          1364139,
          1485738,
          1786697,
          3225884,
          3971644,
          5677393,
          9741962,
          12509416,
          14460015,
          36112720,
          55493984,
          79058643,
          95265648
         ],
         "xaxis": "x2",
         "y": [
          0.4234960973262787,
          0.46067442496617633,
          0.47326191266377765,
          0.5696834921836853,
          0.573243722319603,
          0.5805130153894424,
          0.6380536556243896,
          0.6412578076124191,
          0.6512836217880249,
          0.7012713104486465,
          0.7462145239114761,
          0.747826412320137,
          0.8215045183897018,
          0.8425363153219223,
          0.8684547543525696,
          0.8798738867044449
         ],
         "yaxis": "y2"
        },
        {
         "hovertemplate": "Method=3DGS<br>level_1=LPIPS<br>memory_needed=%{x}<br>Score=%{y}<extra></extra>",
         "legendgroup": "3DGS",
         "line": {
          "color": "#EF553B",
          "dash": "solid"
         },
         "marker": {
          "symbol": "circle"
         },
         "mode": "lines+markers",
         "name": "3DGS",
         "orientation": "v",
         "showlegend": false,
         "type": "scatter",
         "x": [
          830877.3333333334,
          1109121.3333333333,
          1175830.6666666667,
          1364139,
          1485738,
          1786697,
          3225884,
          3971644,
          5677393,
          9741962,
          12509416,
          14460015,
          36112720,
          55493984,
          79058643,
          95265648
         ],
         "xaxis": "x3",
         "y": [
          0.6237969597180685,
          0.5821191072463989,
          0.5719304084777832,
          0.5293406024575233,
          0.5221694260835648,
          0.5134152472019196,
          0.4669613242149353,
          0.4606216251850128,
          0.45036862790584564,
          0.413717657327652,
          0.37501393258571625,
          0.371014729142189,
          0.29285070300102234,
          0.25980623811483383,
          0.21909631974995136,
          0.20259234122931957
         ],
         "yaxis": "y3"
        },
        {
         "hovertemplate": "Method=Textured Rendering<br>level_1=PSNR<br>memory_needed=%{x}<br>Score=%{y}<extra></extra>",
         "legendgroup": "Textured Rendering",
         "line": {
          "color": "#00cc96",
          "dash": "solid"
         },
         "marker": {
          "symbol": "circle"
         },
         "mode": "lines+markers",
         "name": "Textured Rendering",
         "orientation": "v",
         "showlegend": true,
         "type": "scatter",
         "x": [
          15754909.333333334,
          15806785.333333334,
          15819222.666666666,
          15729331,
          15752002,
          15808113,
          16006091,
          16473514,
          16989480,
          19471531,
          23253023,
          24364386,
          25575563
         ],
         "xaxis": "x",
         "y": [
          20.29814847310384,
          21.10162417093913,
          21.433434804280598,
          22.822818756103516,
          22.878862380981445,
          23.018320560455322,
          23.207136154174805,
          23.24714994430542,
          23.599717140197754,
          24.773064613342285,
          24.880433082580566,
          25.058687686920166,
          25.256637573242188
         ],
         "yaxis": "y"
        },
        {
         "hovertemplate": "Method=Textured Rendering<br>level_1=SSIM<br>memory_needed=%{x}<br>Score=%{y}<extra></extra>",
         "legendgroup": "Textured Rendering",
         "line": {
          "color": "#00cc96",
          "dash": "solid"
         },
         "marker": {
          "symbol": "circle"
         },
         "mode": "lines+markers",
         "name": "Textured Rendering",
         "orientation": "v",
         "showlegend": false,
         "type": "scatter",
         "x": [
          15754909.333333334,
          15806785.333333334,
          15819222.666666666,
          15729331,
          15752002,
          15808113,
          16006091,
          16473514,
          16989480,
          19471531,
          23253023,
          24364386,
          25575563
         ],
         "xaxis": "x2",
         "y": [
          0.4029374917348226,
          0.47752911845843,
          0.49880215525627136,
          0.6132181957364082,
          0.6144850477576256,
          0.6207191646099091,
          0.6047431528568268,
          0.5890451818704605,
          0.641058936715126,
          0.7260508835315704,
          0.7282892167568207,
          0.7362355142831802,
          0.7424336671829224
         ],
         "yaxis": "y2"
        },
        {
         "hovertemplate": "Method=Textured Rendering<br>level_1=LPIPS<br>memory_needed=%{x}<br>Score=%{y}<extra></extra>",
         "legendgroup": "Textured Rendering",
         "line": {
          "color": "#00cc96",
          "dash": "solid"
         },
         "marker": {
          "symbol": "circle"
         },
         "mode": "lines+markers",
         "name": "Textured Rendering",
         "orientation": "v",
         "showlegend": false,
         "type": "scatter",
         "x": [
          15754909.333333334,
          15806785.333333334,
          15819222.666666666,
          15729331,
          15752002,
          15808113,
          16006091,
          16473514,
          16989480,
          19471531,
          23253023,
          24364386,
          25575563
         ],
         "xaxis": "x3",
         "y": [
          0.39137377341588336,
          0.3478782077630361,
          0.336370845635732,
          0.26602261140942574,
          0.2654486820101738,
          0.25734294205904007,
          0.26665662229061127,
          0.2733820527791977,
          0.2423904687166214,
          0.19650795310735703,
          0.19805121794342995,
          0.1935199312865734,
          0.19040245562791824
         ],
         "yaxis": "y3"
        }
       ],
       "layout": {
        "annotations": [
         {
          "font": {},
          "showarrow": false,
          "text": "PSNR",
          "x": 0.15,
          "xanchor": "center",
          "xref": "paper",
          "y": 1,
          "yanchor": "bottom",
          "yref": "paper"
         },
         {
          "font": {},
          "showarrow": false,
          "text": "SSIM",
          "x": 0.49999999999999994,
          "xanchor": "center",
          "xref": "paper",
          "y": 1,
          "yanchor": "bottom",
          "yref": "paper"
         },
         {
          "font": {},
          "showarrow": false,
          "text": "LPIPS",
          "x": 0.85,
          "xanchor": "center",
          "xref": "paper",
          "y": 1,
          "yanchor": "bottom",
          "yref": "paper"
         }
        ],
        "autosize": false,
        "height": 400,
        "legend": {
         "title": {
          "text": "Method"
         },
         "tracegroupgap": 0,
         "x": 0.5,
         "xanchor": "center",
         "y": -0.4,
         "yanchor": "middle"
        },
        "margin": {
         "t": 60
        },
        "template": {
         "data": {
          "bar": [
           {
            "error_x": {
             "color": "#2a3f5f"
            },
            "error_y": {
             "color": "#2a3f5f"
            },
            "marker": {
             "line": {
              "color": "#E5ECF6",
              "width": 0.5
             },
             "pattern": {
              "fillmode": "overlay",
              "size": 10,
              "solidity": 0.2
             }
            },
            "type": "bar"
           }
          ],
          "barpolar": [
           {
            "marker": {
             "line": {
              "color": "#E5ECF6",
              "width": 0.5
             },
             "pattern": {
              "fillmode": "overlay",
              "size": 10,
              "solidity": 0.2
             }
            },
            "type": "barpolar"
           }
          ],
          "carpet": [
           {
            "aaxis": {
             "endlinecolor": "#2a3f5f",
             "gridcolor": "white",
             "linecolor": "white",
             "minorgridcolor": "white",
             "startlinecolor": "#2a3f5f"
            },
            "baxis": {
             "endlinecolor": "#2a3f5f",
             "gridcolor": "white",
             "linecolor": "white",
             "minorgridcolor": "white",
             "startlinecolor": "#2a3f5f"
            },
            "type": "carpet"
           }
          ],
          "choropleth": [
           {
            "colorbar": {
             "outlinewidth": 0,
             "ticks": ""
            },
            "type": "choropleth"
           }
          ],
          "contour": [
           {
            "colorbar": {
             "outlinewidth": 0,
             "ticks": ""
            },
            "colorscale": [
             [
              0,
              "#0d0887"
             ],
             [
              0.1111111111111111,
              "#46039f"
             ],
             [
              0.2222222222222222,
              "#7201a8"
             ],
             [
              0.3333333333333333,
              "#9c179e"
             ],
             [
              0.4444444444444444,
              "#bd3786"
             ],
             [
              0.5555555555555556,
              "#d8576b"
             ],
             [
              0.6666666666666666,
              "#ed7953"
             ],
             [
              0.7777777777777778,
              "#fb9f3a"
             ],
             [
              0.8888888888888888,
              "#fdca26"
             ],
             [
              1,
              "#f0f921"
             ]
            ],
            "type": "contour"
           }
          ],
          "contourcarpet": [
           {
            "colorbar": {
             "outlinewidth": 0,
             "ticks": ""
            },
            "type": "contourcarpet"
           }
          ],
          "heatmap": [
           {
            "colorbar": {
             "outlinewidth": 0,
             "ticks": ""
            },
            "colorscale": [
             [
              0,
              "#0d0887"
             ],
             [
              0.1111111111111111,
              "#46039f"
             ],
             [
              0.2222222222222222,
              "#7201a8"
             ],
             [
              0.3333333333333333,
              "#9c179e"
             ],
             [
              0.4444444444444444,
              "#bd3786"
             ],
             [
              0.5555555555555556,
              "#d8576b"
             ],
             [
              0.6666666666666666,
              "#ed7953"
             ],
             [
              0.7777777777777778,
              "#fb9f3a"
             ],
             [
              0.8888888888888888,
              "#fdca26"
             ],
             [
              1,
              "#f0f921"
             ]
            ],
            "type": "heatmap"
           }
          ],
          "heatmapgl": [
           {
            "colorbar": {
             "outlinewidth": 0,
             "ticks": ""
            },
            "colorscale": [
             [
              0,
              "#0d0887"
             ],
             [
              0.1111111111111111,
              "#46039f"
             ],
             [
              0.2222222222222222,
              "#7201a8"
             ],
             [
              0.3333333333333333,
              "#9c179e"
             ],
             [
              0.4444444444444444,
              "#bd3786"
             ],
             [
              0.5555555555555556,
              "#d8576b"
             ],
             [
              0.6666666666666666,
              "#ed7953"
             ],
             [
              0.7777777777777778,
              "#fb9f3a"
             ],
             [
              0.8888888888888888,
              "#fdca26"
             ],
             [
              1,
              "#f0f921"
             ]
            ],
            "type": "heatmapgl"
           }
          ],
          "histogram": [
           {
            "marker": {
             "pattern": {
              "fillmode": "overlay",
              "size": 10,
              "solidity": 0.2
             }
            },
            "type": "histogram"
           }
          ],
          "histogram2d": [
           {
            "colorbar": {
             "outlinewidth": 0,
             "ticks": ""
            },
            "colorscale": [
             [
              0,
              "#0d0887"
             ],
             [
              0.1111111111111111,
              "#46039f"
             ],
             [
              0.2222222222222222,
              "#7201a8"
             ],
             [
              0.3333333333333333,
              "#9c179e"
             ],
             [
              0.4444444444444444,
              "#bd3786"
             ],
             [
              0.5555555555555556,
              "#d8576b"
             ],
             [
              0.6666666666666666,
              "#ed7953"
             ],
             [
              0.7777777777777778,
              "#fb9f3a"
             ],
             [
              0.8888888888888888,
              "#fdca26"
             ],
             [
              1,
              "#f0f921"
             ]
            ],
            "type": "histogram2d"
           }
          ],
          "histogram2dcontour": [
           {
            "colorbar": {
             "outlinewidth": 0,
             "ticks": ""
            },
            "colorscale": [
             [
              0,
              "#0d0887"
             ],
             [
              0.1111111111111111,
              "#46039f"
             ],
             [
              0.2222222222222222,
              "#7201a8"
             ],
             [
              0.3333333333333333,
              "#9c179e"
             ],
             [
              0.4444444444444444,
              "#bd3786"
             ],
             [
              0.5555555555555556,
              "#d8576b"
             ],
             [
              0.6666666666666666,
              "#ed7953"
             ],
             [
              0.7777777777777778,
              "#fb9f3a"
             ],
             [
              0.8888888888888888,
              "#fdca26"
             ],
             [
              1,
              "#f0f921"
             ]
            ],
            "type": "histogram2dcontour"
           }
          ],
          "mesh3d": [
           {
            "colorbar": {
             "outlinewidth": 0,
             "ticks": ""
            },
            "type": "mesh3d"
           }
          ],
          "parcoords": [
           {
            "line": {
             "colorbar": {
              "outlinewidth": 0,
              "ticks": ""
             }
            },
            "type": "parcoords"
           }
          ],
          "pie": [
           {
            "automargin": true,
            "type": "pie"
           }
          ],
          "scatter": [
           {
            "fillpattern": {
             "fillmode": "overlay",
             "size": 10,
             "solidity": 0.2
            },
            "type": "scatter"
           }
          ],
          "scatter3d": [
           {
            "line": {
             "colorbar": {
              "outlinewidth": 0,
              "ticks": ""
             }
            },
            "marker": {
             "colorbar": {
              "outlinewidth": 0,
              "ticks": ""
             }
            },
            "type": "scatter3d"
           }
          ],
          "scattercarpet": [
           {
            "marker": {
             "colorbar": {
              "outlinewidth": 0,
              "ticks": ""
             }
            },
            "type": "scattercarpet"
           }
          ],
          "scattergeo": [
           {
            "marker": {
             "colorbar": {
              "outlinewidth": 0,
              "ticks": ""
             }
            },
            "type": "scattergeo"
           }
          ],
          "scattergl": [
           {
            "marker": {
             "colorbar": {
              "outlinewidth": 0,
              "ticks": ""
             }
            },
            "type": "scattergl"
           }
          ],
          "scattermapbox": [
           {
            "marker": {
             "colorbar": {
              "outlinewidth": 0,
              "ticks": ""
             }
            },
            "type": "scattermapbox"
           }
          ],
          "scatterpolar": [
           {
            "marker": {
             "colorbar": {
              "outlinewidth": 0,
              "ticks": ""
             }
            },
            "type": "scatterpolar"
           }
          ],
          "scatterpolargl": [
           {
            "marker": {
             "colorbar": {
              "outlinewidth": 0,
              "ticks": ""
             }
            },
            "type": "scatterpolargl"
           }
          ],
          "scatterternary": [
           {
            "marker": {
             "colorbar": {
              "outlinewidth": 0,
              "ticks": ""
             }
            },
            "type": "scatterternary"
           }
          ],
          "surface": [
           {
            "colorbar": {
             "outlinewidth": 0,
             "ticks": ""
            },
            "colorscale": [
             [
              0,
              "#0d0887"
             ],
             [
              0.1111111111111111,
              "#46039f"
             ],
             [
              0.2222222222222222,
              "#7201a8"
             ],
             [
              0.3333333333333333,
              "#9c179e"
             ],
             [
              0.4444444444444444,
              "#bd3786"
             ],
             [
              0.5555555555555556,
              "#d8576b"
             ],
             [
              0.6666666666666666,
              "#ed7953"
             ],
             [
              0.7777777777777778,
              "#fb9f3a"
             ],
             [
              0.8888888888888888,
              "#fdca26"
             ],
             [
              1,
              "#f0f921"
             ]
            ],
            "type": "surface"
           }
          ],
          "table": [
           {
            "cells": {
             "fill": {
              "color": "#EBF0F8"
             },
             "line": {
              "color": "white"
             }
            },
            "header": {
             "fill": {
              "color": "#C8D4E3"
             },
             "line": {
              "color": "white"
             }
            },
            "type": "table"
           }
          ]
         },
         "layout": {
          "annotationdefaults": {
           "arrowcolor": "#2a3f5f",
           "arrowhead": 0,
           "arrowwidth": 1
          },
          "autotypenumbers": "strict",
          "coloraxis": {
           "colorbar": {
            "outlinewidth": 0,
            "ticks": ""
           }
          },
          "colorscale": {
           "diverging": [
            [
             0,
             "#8e0152"
            ],
            [
             0.1,
             "#c51b7d"
            ],
            [
             0.2,
             "#de77ae"
            ],
            [
             0.3,
             "#f1b6da"
            ],
            [
             0.4,
             "#fde0ef"
            ],
            [
             0.5,
             "#f7f7f7"
            ],
            [
             0.6,
             "#e6f5d0"
            ],
            [
             0.7,
             "#b8e186"
            ],
            [
             0.8,
             "#7fbc41"
            ],
            [
             0.9,
             "#4d9221"
            ],
            [
             1,
             "#276419"
            ]
           ],
           "sequential": [
            [
             0,
             "#0d0887"
            ],
            [
             0.1111111111111111,
             "#46039f"
            ],
            [
             0.2222222222222222,
             "#7201a8"
            ],
            [
             0.3333333333333333,
             "#9c179e"
            ],
            [
             0.4444444444444444,
             "#bd3786"
            ],
            [
             0.5555555555555556,
             "#d8576b"
            ],
            [
             0.6666666666666666,
             "#ed7953"
            ],
            [
             0.7777777777777778,
             "#fb9f3a"
            ],
            [
             0.8888888888888888,
             "#fdca26"
            ],
            [
             1,
             "#f0f921"
            ]
           ],
           "sequentialminus": [
            [
             0,
             "#0d0887"
            ],
            [
             0.1111111111111111,
             "#46039f"
            ],
            [
             0.2222222222222222,
             "#7201a8"
            ],
            [
             0.3333333333333333,
             "#9c179e"
            ],
            [
             0.4444444444444444,
             "#bd3786"
            ],
            [
             0.5555555555555556,
             "#d8576b"
            ],
            [
             0.6666666666666666,
             "#ed7953"
            ],
            [
             0.7777777777777778,
             "#fb9f3a"
            ],
            [
             0.8888888888888888,
             "#fdca26"
            ],
            [
             1,
             "#f0f921"
            ]
           ]
          },
          "colorway": [
           "#636efa",
           "#EF553B",
           "#00cc96",
           "#ab63fa",
           "#FFA15A",
           "#19d3f3",
           "#FF6692",
           "#B6E880",
           "#FF97FF",
           "#FECB52"
          ],
          "font": {
           "color": "#2a3f5f"
          },
          "geo": {
           "bgcolor": "white",
           "lakecolor": "white",
           "landcolor": "#E5ECF6",
           "showlakes": true,
           "showland": true,
           "subunitcolor": "white"
          },
          "hoverlabel": {
           "align": "left"
          },
          "hovermode": "closest",
          "mapbox": {
           "style": "light"
          },
          "paper_bgcolor": "white",
          "plot_bgcolor": "#E5ECF6",
          "polar": {
           "angularaxis": {
            "gridcolor": "white",
            "linecolor": "white",
            "ticks": ""
           },
           "bgcolor": "#E5ECF6",
           "radialaxis": {
            "gridcolor": "white",
            "linecolor": "white",
            "ticks": ""
           }
          },
          "scene": {
           "xaxis": {
            "backgroundcolor": "#E5ECF6",
            "gridcolor": "white",
            "gridwidth": 2,
            "linecolor": "white",
            "showbackground": true,
            "ticks": "",
            "zerolinecolor": "white"
           },
           "yaxis": {
            "backgroundcolor": "#E5ECF6",
            "gridcolor": "white",
            "gridwidth": 2,
            "linecolor": "white",
            "showbackground": true,
            "ticks": "",
            "zerolinecolor": "white"
           },
           "zaxis": {
            "backgroundcolor": "#E5ECF6",
            "gridcolor": "white",
            "gridwidth": 2,
            "linecolor": "white",
            "showbackground": true,
            "ticks": "",
            "zerolinecolor": "white"
           }
          },
          "shapedefaults": {
           "line": {
            "color": "#2a3f5f"
           }
          },
          "ternary": {
           "aaxis": {
            "gridcolor": "white",
            "linecolor": "white",
            "ticks": ""
           },
           "baxis": {
            "gridcolor": "white",
            "linecolor": "white",
            "ticks": ""
           },
           "bgcolor": "#E5ECF6",
           "caxis": {
            "gridcolor": "white",
            "linecolor": "white",
            "ticks": ""
           }
          },
          "title": {
           "x": 0.05
          },
          "xaxis": {
           "automargin": true,
           "gridcolor": "white",
           "linecolor": "white",
           "ticks": "",
           "title": {
            "standoff": 15
           },
           "zerolinecolor": "white",
           "zerolinewidth": 2
          },
          "yaxis": {
           "automargin": true,
           "gridcolor": "white",
           "linecolor": "white",
           "ticks": "",
           "title": {
            "standoff": 15
           },
           "zerolinecolor": "white",
           "zerolinewidth": 2
          }
         }
        },
        "width": 1000,
        "xaxis": {
         "anchor": "y",
         "domain": [
          0,
          0.3
         ],
         "title": {
          "text": "memory_needed"
         },
         "type": "log"
        },
        "xaxis2": {
         "anchor": "y2",
         "domain": [
          0.35,
          0.6499999999999999
         ],
         "matches": "x",
         "title": {
          "text": "memory_needed"
         },
         "type": "log"
        },
        "xaxis3": {
         "anchor": "y3",
         "domain": [
          0.7,
          1
         ],
         "matches": "x",
         "title": {
          "text": "memory_needed"
         },
         "type": "log"
        },
        "yaxis": {
         "anchor": "x",
         "domain": [
          0,
          1
         ],
         "showticklabels": true,
         "title": {
          "text": "Score"
         }
        },
        "yaxis2": {
         "anchor": "x2",
         "domain": [
          0,
          1
         ],
         "showticklabels": true
        },
        "yaxis3": {
         "anchor": "x3",
         "domain": [
          0,
          1
         ],
         "showticklabels": true
        }
       }
      },
      "text/html": [
       "<div>                            <div id=\"2c8ad643-4d39-4da8-b905-6349601a2954\" class=\"plotly-graph-div\" style=\"height:400px; width:1000px;\"></div>            <script type=\"text/javascript\">                require([\"plotly\"], function(Plotly) {                    window.PLOTLYENV=window.PLOTLYENV || {};                                    if (document.getElementById(\"2c8ad643-4d39-4da8-b905-6349601a2954\")) {                    Plotly.newPlot(                        \"2c8ad643-4d39-4da8-b905-6349601a2954\",                        [{\"hovertemplate\":\"Method=Textured Rendering + Depth Supervision\\u003cbr\\u003elevel_1=PSNR\\u003cbr\\u003ememory_needed=%{x}\\u003cbr\\u003eScore=%{y}\\u003cextra\\u003e\\u003c\\u002fextra\\u003e\",\"legendgroup\":\"Textured Rendering + Depth Supervision\",\"line\":{\"color\":\"#636efa\",\"dash\":\"solid\"},\"marker\":{\"symbol\":\"circle\"},\"mode\":\"lines+markers\",\"name\":\"Textured Rendering + Depth Supervision\",\"orientation\":\"v\",\"showlegend\":true,\"x\":[15607000.0,15727945.0,15759933.0,15869867.0,16206335.0,16600333.0,16894869.0,17225441.0,17327642.0,17445001.0],\"xaxis\":\"x\",\"y\":[23.363216876983643,24.3780255317688,24.62532615661621,25.322064876556396,26.369915008544922,27.715079307556152,28.91629981994629,29.948543071746826,30.05842161178589,30.063228607177734],\"yaxis\":\"y\",\"type\":\"scatter\"},{\"hovertemplate\":\"Method=Textured Rendering + Depth Supervision\\u003cbr\\u003elevel_1=SSIM\\u003cbr\\u003ememory_needed=%{x}\\u003cbr\\u003eScore=%{y}\\u003cextra\\u003e\\u003c\\u002fextra\\u003e\",\"legendgroup\":\"Textured Rendering + Depth Supervision\",\"line\":{\"color\":\"#636efa\",\"dash\":\"solid\"},\"marker\":{\"symbol\":\"circle\"},\"mode\":\"lines+markers\",\"name\":\"Textured Rendering + Depth Supervision\",\"orientation\":\"v\",\"showlegend\":false,\"x\":[15607000.0,15727945.0,15759933.0,15869867.0,16206335.0,16600333.0,16894869.0,17225441.0,17327642.0,17445001.0],\"xaxis\":\"x2\",\"y\":[0.7599268704652786,0.7941825836896896,0.8006177097558975,0.8134252578020096,0.8350049704313278,0.8618153482675552,0.8809485137462616,0.8890738487243652,0.8900423347949982,0.8890586644411087],\"yaxis\":\"y2\",\"type\":\"scatter\"},{\"hovertemplate\":\"Method=Textured Rendering + Depth Supervision\\u003cbr\\u003elevel_1=LPIPS\\u003cbr\\u003ememory_needed=%{x}\\u003cbr\\u003eScore=%{y}\\u003cextra\\u003e\\u003c\\u002fextra\\u003e\",\"legendgroup\":\"Textured Rendering + Depth Supervision\",\"line\":{\"color\":\"#636efa\",\"dash\":\"solid\"},\"marker\":{\"symbol\":\"circle\"},\"mode\":\"lines+markers\",\"name\":\"Textured Rendering + Depth Supervision\",\"orientation\":\"v\",\"showlegend\":false,\"x\":[15607000.0,15727945.0,15759933.0,15869867.0,16206335.0,16600333.0,16894869.0,17225441.0,17327642.0,17445001.0],\"xaxis\":\"x3\",\"y\":[0.2267075553536415,0.18385865166783333,0.17721232026815414,0.16675035282969475,0.14711674116551876,0.12510446086525917,0.10559407901018858,0.0963123394176364,0.09520915243774652,0.10006828512996435],\"yaxis\":\"y3\",\"type\":\"scatter\"},{\"hovertemplate\":\"Method=3DGS\\u003cbr\\u003elevel_1=PSNR\\u003cbr\\u003ememory_needed=%{x}\\u003cbr\\u003eScore=%{y}\\u003cextra\\u003e\\u003c\\u002fextra\\u003e\",\"legendgroup\":\"3DGS\",\"line\":{\"color\":\"#EF553B\",\"dash\":\"solid\"},\"marker\":{\"symbol\":\"circle\"},\"mode\":\"lines+markers\",\"name\":\"3DGS\",\"orientation\":\"v\",\"showlegend\":true,\"x\":[830877.3333333334,1109121.3333333333,1175830.6666666667,1364139.0,1485738.0,1786697.0,3225884.0,3971644.0,5677393.0,9741962.0,12509416.0,14460015.0,36112720.0,55493984.0,79058643.0,95265648.0],\"xaxis\":\"x\",\"y\":[22.013708114624023,22.660960515340168,22.82325490315755,23.864724159240723,24.19434642791748,24.36525869369507,25.28900671005249,25.535515308380127,25.723800659179688,26.623329162597656,27.232072830200195,27.3555588722229,29.06645965576172,29.73635959625244,30.669249534606934,31.401026725769043],\"yaxis\":\"y\",\"type\":\"scatter\"},{\"hovertemplate\":\"Method=3DGS\\u003cbr\\u003elevel_1=SSIM\\u003cbr\\u003ememory_needed=%{x}\\u003cbr\\u003eScore=%{y}\\u003cextra\\u003e\\u003c\\u002fextra\\u003e\",\"legendgroup\":\"3DGS\",\"line\":{\"color\":\"#EF553B\",\"dash\":\"solid\"},\"marker\":{\"symbol\":\"circle\"},\"mode\":\"lines+markers\",\"name\":\"3DGS\",\"orientation\":\"v\",\"showlegend\":false,\"x\":[830877.3333333334,1109121.3333333333,1175830.6666666667,1364139.0,1485738.0,1786697.0,3225884.0,3971644.0,5677393.0,9741962.0,12509416.0,14460015.0,36112720.0,55493984.0,79058643.0,95265648.0],\"xaxis\":\"x2\",\"y\":[0.4234960973262787,0.46067442496617633,0.47326191266377765,0.5696834921836853,0.573243722319603,0.5805130153894424,0.6380536556243896,0.6412578076124191,0.6512836217880249,0.7012713104486465,0.7462145239114761,0.747826412320137,0.8215045183897018,0.8425363153219223,0.8684547543525696,0.8798738867044449],\"yaxis\":\"y2\",\"type\":\"scatter\"},{\"hovertemplate\":\"Method=3DGS\\u003cbr\\u003elevel_1=LPIPS\\u003cbr\\u003ememory_needed=%{x}\\u003cbr\\u003eScore=%{y}\\u003cextra\\u003e\\u003c\\u002fextra\\u003e\",\"legendgroup\":\"3DGS\",\"line\":{\"color\":\"#EF553B\",\"dash\":\"solid\"},\"marker\":{\"symbol\":\"circle\"},\"mode\":\"lines+markers\",\"name\":\"3DGS\",\"orientation\":\"v\",\"showlegend\":false,\"x\":[830877.3333333334,1109121.3333333333,1175830.6666666667,1364139.0,1485738.0,1786697.0,3225884.0,3971644.0,5677393.0,9741962.0,12509416.0,14460015.0,36112720.0,55493984.0,79058643.0,95265648.0],\"xaxis\":\"x3\",\"y\":[0.6237969597180685,0.5821191072463989,0.5719304084777832,0.5293406024575233,0.5221694260835648,0.5134152472019196,0.4669613242149353,0.4606216251850128,0.45036862790584564,0.413717657327652,0.37501393258571625,0.371014729142189,0.29285070300102234,0.25980623811483383,0.21909631974995136,0.20259234122931957],\"yaxis\":\"y3\",\"type\":\"scatter\"},{\"hovertemplate\":\"Method=Textured Rendering\\u003cbr\\u003elevel_1=PSNR\\u003cbr\\u003ememory_needed=%{x}\\u003cbr\\u003eScore=%{y}\\u003cextra\\u003e\\u003c\\u002fextra\\u003e\",\"legendgroup\":\"Textured Rendering\",\"line\":{\"color\":\"#00cc96\",\"dash\":\"solid\"},\"marker\":{\"symbol\":\"circle\"},\"mode\":\"lines+markers\",\"name\":\"Textured Rendering\",\"orientation\":\"v\",\"showlegend\":true,\"x\":[15754909.333333334,15806785.333333334,15819222.666666666,15729331.0,15752002.0,15808113.0,16006091.0,16473514.0,16989480.0,19471531.0,23253023.0,24364386.0,25575563.0],\"xaxis\":\"x\",\"y\":[20.29814847310384,21.10162417093913,21.433434804280598,22.822818756103516,22.878862380981445,23.018320560455322,23.207136154174805,23.24714994430542,23.599717140197754,24.773064613342285,24.880433082580566,25.058687686920166,25.256637573242188],\"yaxis\":\"y\",\"type\":\"scatter\"},{\"hovertemplate\":\"Method=Textured Rendering\\u003cbr\\u003elevel_1=SSIM\\u003cbr\\u003ememory_needed=%{x}\\u003cbr\\u003eScore=%{y}\\u003cextra\\u003e\\u003c\\u002fextra\\u003e\",\"legendgroup\":\"Textured Rendering\",\"line\":{\"color\":\"#00cc96\",\"dash\":\"solid\"},\"marker\":{\"symbol\":\"circle\"},\"mode\":\"lines+markers\",\"name\":\"Textured Rendering\",\"orientation\":\"v\",\"showlegend\":false,\"x\":[15754909.333333334,15806785.333333334,15819222.666666666,15729331.0,15752002.0,15808113.0,16006091.0,16473514.0,16989480.0,19471531.0,23253023.0,24364386.0,25575563.0],\"xaxis\":\"x2\",\"y\":[0.4029374917348226,0.47752911845843,0.49880215525627136,0.6132181957364082,0.6144850477576256,0.6207191646099091,0.6047431528568268,0.5890451818704605,0.641058936715126,0.7260508835315704,0.7282892167568207,0.7362355142831802,0.7424336671829224],\"yaxis\":\"y2\",\"type\":\"scatter\"},{\"hovertemplate\":\"Method=Textured Rendering\\u003cbr\\u003elevel_1=LPIPS\\u003cbr\\u003ememory_needed=%{x}\\u003cbr\\u003eScore=%{y}\\u003cextra\\u003e\\u003c\\u002fextra\\u003e\",\"legendgroup\":\"Textured Rendering\",\"line\":{\"color\":\"#00cc96\",\"dash\":\"solid\"},\"marker\":{\"symbol\":\"circle\"},\"mode\":\"lines+markers\",\"name\":\"Textured Rendering\",\"orientation\":\"v\",\"showlegend\":false,\"x\":[15754909.333333334,15806785.333333334,15819222.666666666,15729331.0,15752002.0,15808113.0,16006091.0,16473514.0,16989480.0,19471531.0,23253023.0,24364386.0,25575563.0],\"xaxis\":\"x3\",\"y\":[0.39137377341588336,0.3478782077630361,0.336370845635732,0.26602261140942574,0.2654486820101738,0.25734294205904007,0.26665662229061127,0.2733820527791977,0.2423904687166214,0.19650795310735703,0.19805121794342995,0.1935199312865734,0.19040245562791824],\"yaxis\":\"y3\",\"type\":\"scatter\"}],                        {\"template\":{\"data\":{\"histogram2dcontour\":[{\"type\":\"histogram2dcontour\",\"colorbar\":{\"outlinewidth\":0,\"ticks\":\"\"},\"colorscale\":[[0.0,\"#0d0887\"],[0.1111111111111111,\"#46039f\"],[0.2222222222222222,\"#7201a8\"],[0.3333333333333333,\"#9c179e\"],[0.4444444444444444,\"#bd3786\"],[0.5555555555555556,\"#d8576b\"],[0.6666666666666666,\"#ed7953\"],[0.7777777777777778,\"#fb9f3a\"],[0.8888888888888888,\"#fdca26\"],[1.0,\"#f0f921\"]]}],\"choropleth\":[{\"type\":\"choropleth\",\"colorbar\":{\"outlinewidth\":0,\"ticks\":\"\"}}],\"histogram2d\":[{\"type\":\"histogram2d\",\"colorbar\":{\"outlinewidth\":0,\"ticks\":\"\"},\"colorscale\":[[0.0,\"#0d0887\"],[0.1111111111111111,\"#46039f\"],[0.2222222222222222,\"#7201a8\"],[0.3333333333333333,\"#9c179e\"],[0.4444444444444444,\"#bd3786\"],[0.5555555555555556,\"#d8576b\"],[0.6666666666666666,\"#ed7953\"],[0.7777777777777778,\"#fb9f3a\"],[0.8888888888888888,\"#fdca26\"],[1.0,\"#f0f921\"]]}],\"heatmap\":[{\"type\":\"heatmap\",\"colorbar\":{\"outlinewidth\":0,\"ticks\":\"\"},\"colorscale\":[[0.0,\"#0d0887\"],[0.1111111111111111,\"#46039f\"],[0.2222222222222222,\"#7201a8\"],[0.3333333333333333,\"#9c179e\"],[0.4444444444444444,\"#bd3786\"],[0.5555555555555556,\"#d8576b\"],[0.6666666666666666,\"#ed7953\"],[0.7777777777777778,\"#fb9f3a\"],[0.8888888888888888,\"#fdca26\"],[1.0,\"#f0f921\"]]}],\"heatmapgl\":[{\"type\":\"heatmapgl\",\"colorbar\":{\"outlinewidth\":0,\"ticks\":\"\"},\"colorscale\":[[0.0,\"#0d0887\"],[0.1111111111111111,\"#46039f\"],[0.2222222222222222,\"#7201a8\"],[0.3333333333333333,\"#9c179e\"],[0.4444444444444444,\"#bd3786\"],[0.5555555555555556,\"#d8576b\"],[0.6666666666666666,\"#ed7953\"],[0.7777777777777778,\"#fb9f3a\"],[0.8888888888888888,\"#fdca26\"],[1.0,\"#f0f921\"]]}],\"contourcarpet\":[{\"type\":\"contourcarpet\",\"colorbar\":{\"outlinewidth\":0,\"ticks\":\"\"}}],\"contour\":[{\"type\":\"contour\",\"colorbar\":{\"outlinewidth\":0,\"ticks\":\"\"},\"colorscale\":[[0.0,\"#0d0887\"],[0.1111111111111111,\"#46039f\"],[0.2222222222222222,\"#7201a8\"],[0.3333333333333333,\"#9c179e\"],[0.4444444444444444,\"#bd3786\"],[0.5555555555555556,\"#d8576b\"],[0.6666666666666666,\"#ed7953\"],[0.7777777777777778,\"#fb9f3a\"],[0.8888888888888888,\"#fdca26\"],[1.0,\"#f0f921\"]]}],\"surface\":[{\"type\":\"surface\",\"colorbar\":{\"outlinewidth\":0,\"ticks\":\"\"},\"colorscale\":[[0.0,\"#0d0887\"],[0.1111111111111111,\"#46039f\"],[0.2222222222222222,\"#7201a8\"],[0.3333333333333333,\"#9c179e\"],[0.4444444444444444,\"#bd3786\"],[0.5555555555555556,\"#d8576b\"],[0.6666666666666666,\"#ed7953\"],[0.7777777777777778,\"#fb9f3a\"],[0.8888888888888888,\"#fdca26\"],[1.0,\"#f0f921\"]]}],\"mesh3d\":[{\"type\":\"mesh3d\",\"colorbar\":{\"outlinewidth\":0,\"ticks\":\"\"}}],\"scatter\":[{\"fillpattern\":{\"fillmode\":\"overlay\",\"size\":10,\"solidity\":0.2},\"type\":\"scatter\"}],\"parcoords\":[{\"type\":\"parcoords\",\"line\":{\"colorbar\":{\"outlinewidth\":0,\"ticks\":\"\"}}}],\"scatterpolargl\":[{\"type\":\"scatterpolargl\",\"marker\":{\"colorbar\":{\"outlinewidth\":0,\"ticks\":\"\"}}}],\"bar\":[{\"error_x\":{\"color\":\"#2a3f5f\"},\"error_y\":{\"color\":\"#2a3f5f\"},\"marker\":{\"line\":{\"color\":\"#E5ECF6\",\"width\":0.5},\"pattern\":{\"fillmode\":\"overlay\",\"size\":10,\"solidity\":0.2}},\"type\":\"bar\"}],\"scattergeo\":[{\"type\":\"scattergeo\",\"marker\":{\"colorbar\":{\"outlinewidth\":0,\"ticks\":\"\"}}}],\"scatterpolar\":[{\"type\":\"scatterpolar\",\"marker\":{\"colorbar\":{\"outlinewidth\":0,\"ticks\":\"\"}}}],\"histogram\":[{\"marker\":{\"pattern\":{\"fillmode\":\"overlay\",\"size\":10,\"solidity\":0.2}},\"type\":\"histogram\"}],\"scattergl\":[{\"type\":\"scattergl\",\"marker\":{\"colorbar\":{\"outlinewidth\":0,\"ticks\":\"\"}}}],\"scatter3d\":[{\"type\":\"scatter3d\",\"line\":{\"colorbar\":{\"outlinewidth\":0,\"ticks\":\"\"}},\"marker\":{\"colorbar\":{\"outlinewidth\":0,\"ticks\":\"\"}}}],\"scattermapbox\":[{\"type\":\"scattermapbox\",\"marker\":{\"colorbar\":{\"outlinewidth\":0,\"ticks\":\"\"}}}],\"scatterternary\":[{\"type\":\"scatterternary\",\"marker\":{\"colorbar\":{\"outlinewidth\":0,\"ticks\":\"\"}}}],\"scattercarpet\":[{\"type\":\"scattercarpet\",\"marker\":{\"colorbar\":{\"outlinewidth\":0,\"ticks\":\"\"}}}],\"carpet\":[{\"aaxis\":{\"endlinecolor\":\"#2a3f5f\",\"gridcolor\":\"white\",\"linecolor\":\"white\",\"minorgridcolor\":\"white\",\"startlinecolor\":\"#2a3f5f\"},\"baxis\":{\"endlinecolor\":\"#2a3f5f\",\"gridcolor\":\"white\",\"linecolor\":\"white\",\"minorgridcolor\":\"white\",\"startlinecolor\":\"#2a3f5f\"},\"type\":\"carpet\"}],\"table\":[{\"cells\":{\"fill\":{\"color\":\"#EBF0F8\"},\"line\":{\"color\":\"white\"}},\"header\":{\"fill\":{\"color\":\"#C8D4E3\"},\"line\":{\"color\":\"white\"}},\"type\":\"table\"}],\"barpolar\":[{\"marker\":{\"line\":{\"color\":\"#E5ECF6\",\"width\":0.5},\"pattern\":{\"fillmode\":\"overlay\",\"size\":10,\"solidity\":0.2}},\"type\":\"barpolar\"}],\"pie\":[{\"automargin\":true,\"type\":\"pie\"}]},\"layout\":{\"autotypenumbers\":\"strict\",\"colorway\":[\"#636efa\",\"#EF553B\",\"#00cc96\",\"#ab63fa\",\"#FFA15A\",\"#19d3f3\",\"#FF6692\",\"#B6E880\",\"#FF97FF\",\"#FECB52\"],\"font\":{\"color\":\"#2a3f5f\"},\"hovermode\":\"closest\",\"hoverlabel\":{\"align\":\"left\"},\"paper_bgcolor\":\"white\",\"plot_bgcolor\":\"#E5ECF6\",\"polar\":{\"bgcolor\":\"#E5ECF6\",\"angularaxis\":{\"gridcolor\":\"white\",\"linecolor\":\"white\",\"ticks\":\"\"},\"radialaxis\":{\"gridcolor\":\"white\",\"linecolor\":\"white\",\"ticks\":\"\"}},\"ternary\":{\"bgcolor\":\"#E5ECF6\",\"aaxis\":{\"gridcolor\":\"white\",\"linecolor\":\"white\",\"ticks\":\"\"},\"baxis\":{\"gridcolor\":\"white\",\"linecolor\":\"white\",\"ticks\":\"\"},\"caxis\":{\"gridcolor\":\"white\",\"linecolor\":\"white\",\"ticks\":\"\"}},\"coloraxis\":{\"colorbar\":{\"outlinewidth\":0,\"ticks\":\"\"}},\"colorscale\":{\"sequential\":[[0.0,\"#0d0887\"],[0.1111111111111111,\"#46039f\"],[0.2222222222222222,\"#7201a8\"],[0.3333333333333333,\"#9c179e\"],[0.4444444444444444,\"#bd3786\"],[0.5555555555555556,\"#d8576b\"],[0.6666666666666666,\"#ed7953\"],[0.7777777777777778,\"#fb9f3a\"],[0.8888888888888888,\"#fdca26\"],[1.0,\"#f0f921\"]],\"sequentialminus\":[[0.0,\"#0d0887\"],[0.1111111111111111,\"#46039f\"],[0.2222222222222222,\"#7201a8\"],[0.3333333333333333,\"#9c179e\"],[0.4444444444444444,\"#bd3786\"],[0.5555555555555556,\"#d8576b\"],[0.6666666666666666,\"#ed7953\"],[0.7777777777777778,\"#fb9f3a\"],[0.8888888888888888,\"#fdca26\"],[1.0,\"#f0f921\"]],\"diverging\":[[0,\"#8e0152\"],[0.1,\"#c51b7d\"],[0.2,\"#de77ae\"],[0.3,\"#f1b6da\"],[0.4,\"#fde0ef\"],[0.5,\"#f7f7f7\"],[0.6,\"#e6f5d0\"],[0.7,\"#b8e186\"],[0.8,\"#7fbc41\"],[0.9,\"#4d9221\"],[1,\"#276419\"]]},\"xaxis\":{\"gridcolor\":\"white\",\"linecolor\":\"white\",\"ticks\":\"\",\"title\":{\"standoff\":15},\"zerolinecolor\":\"white\",\"automargin\":true,\"zerolinewidth\":2},\"yaxis\":{\"gridcolor\":\"white\",\"linecolor\":\"white\",\"ticks\":\"\",\"title\":{\"standoff\":15},\"zerolinecolor\":\"white\",\"automargin\":true,\"zerolinewidth\":2},\"scene\":{\"xaxis\":{\"backgroundcolor\":\"#E5ECF6\",\"gridcolor\":\"white\",\"linecolor\":\"white\",\"showbackground\":true,\"ticks\":\"\",\"zerolinecolor\":\"white\",\"gridwidth\":2},\"yaxis\":{\"backgroundcolor\":\"#E5ECF6\",\"gridcolor\":\"white\",\"linecolor\":\"white\",\"showbackground\":true,\"ticks\":\"\",\"zerolinecolor\":\"white\",\"gridwidth\":2},\"zaxis\":{\"backgroundcolor\":\"#E5ECF6\",\"gridcolor\":\"white\",\"linecolor\":\"white\",\"showbackground\":true,\"ticks\":\"\",\"zerolinecolor\":\"white\",\"gridwidth\":2}},\"shapedefaults\":{\"line\":{\"color\":\"#2a3f5f\"}},\"annotationdefaults\":{\"arrowcolor\":\"#2a3f5f\",\"arrowhead\":0,\"arrowwidth\":1},\"geo\":{\"bgcolor\":\"white\",\"landcolor\":\"#E5ECF6\",\"subunitcolor\":\"white\",\"showland\":true,\"showlakes\":true,\"lakecolor\":\"white\"},\"title\":{\"x\":0.05},\"mapbox\":{\"style\":\"light\"}}},\"xaxis\":{\"anchor\":\"y\",\"domain\":[0.0,0.3],\"title\":{\"text\":\"memory_needed\"},\"type\":\"log\"},\"yaxis\":{\"anchor\":\"x\",\"domain\":[0.0,1.0],\"title\":{\"text\":\"Score\"},\"showticklabels\":true},\"xaxis2\":{\"anchor\":\"y2\",\"domain\":[0.35,0.6499999999999999],\"matches\":\"x\",\"title\":{\"text\":\"memory_needed\"},\"type\":\"log\"},\"yaxis2\":{\"anchor\":\"x2\",\"domain\":[0.0,1.0],\"showticklabels\":true},\"xaxis3\":{\"anchor\":\"y3\",\"domain\":[0.7,1.0],\"matches\":\"x\",\"title\":{\"text\":\"memory_needed\"},\"type\":\"log\"},\"yaxis3\":{\"anchor\":\"x3\",\"domain\":[0.0,1.0],\"showticklabels\":true},\"annotations\":[{\"font\":{},\"showarrow\":false,\"text\":\"PSNR\",\"x\":0.15,\"xanchor\":\"center\",\"xref\":\"paper\",\"y\":1.0,\"yanchor\":\"bottom\",\"yref\":\"paper\"},{\"font\":{},\"showarrow\":false,\"text\":\"SSIM\",\"x\":0.49999999999999994,\"xanchor\":\"center\",\"xref\":\"paper\",\"y\":1.0,\"yanchor\":\"bottom\",\"yref\":\"paper\"},{\"font\":{},\"showarrow\":false,\"text\":\"LPIPS\",\"x\":0.85,\"xanchor\":\"center\",\"xref\":\"paper\",\"y\":1.0,\"yanchor\":\"bottom\",\"yref\":\"paper\"}],\"legend\":{\"title\":{\"text\":\"Method\"},\"tracegroupgap\":0,\"yanchor\":\"middle\",\"y\":-0.4,\"xanchor\":\"center\",\"x\":0.5},\"margin\":{\"t\":60},\"autosize\":false,\"width\":1000,\"height\":400},                        {\"responsive\": true}                    ).then(function(){\n",
       "                            \n",
       "var gd = document.getElementById('2c8ad643-4d39-4da8-b905-6349601a2954');\n",
       "var x = new MutationObserver(function (mutations, observer) {{\n",
       "        var display = window.getComputedStyle(gd).display;\n",
       "        if (!display || display === 'none') {{\n",
       "            console.log([gd, 'removed!']);\n",
       "            Plotly.purge(gd);\n",
       "            observer.disconnect();\n",
       "        }}\n",
       "}});\n",
       "\n",
       "// Listen for the removal of the full notebook cells\n",
       "var notebookContainer = gd.closest('#notebook-container');\n",
       "if (notebookContainer) {{\n",
       "    x.observe(notebookContainer, {childList: true});\n",
       "}}\n",
       "\n",
       "// Listen for the clearing of the current output cell\n",
       "var outputEl = gd.closest('.output');\n",
       "if (outputEl) {{\n",
       "    x.observe(outputEl, {childList: true});\n",
       "}}\n",
       "\n",
       "                        })                };                });            </script>        </div>"
      ]
     },
     "metadata": {},
     "output_type": "display_data"
    }
   ],
   "source": [
    "plot_data = []\n",
    "df = results_df[results_df.groupby([\"scene_name\",\"run\"])[\"PSNR\"].cummax()==results_df[\"PSNR\"]]\n",
    "max_gaussians_list = (list(range(2000,10000,1000))+list(range(10000,100000,10000))+list(range(100000,600000,100000)))\n",
    "for max_gaussians_last, max_gaussians in zip(max_gaussians_list[:-1],max_gaussians_list[1:]):\n",
    "    ldf = df[(df[\"num_gaussians\"]<=max_gaussians)]\n",
    "    ldf = ldf.loc[ldf.groupby([\"scene_name\",\"run\"])[\"PSNR\"].idxmax()][[\"PSNR\",\"LPIPS\",\"SSIM\",\"run\",\"num_gaussians\",\"memory_needed\"]]\n",
    "    ldf = ldf.groupby(\"run\").mean().reset_index()\n",
    "    # ldf = ldf.groupby(\"run\").apply(lambda x: x.groupby(\"scene\")[[\"PSNR\",\"SSIM\",\"LPIPS\"]].max()).max().reset_index()\n",
    "    ldf[\"num_gaussians\"] = max_gaussians\n",
    "    #print(ldf)\n",
    "    plot_data.append(ldf)\n",
    "\n",
    "plot_data = pd.concat(plot_data).reset_index(drop=True)\n",
    "plot_data = plot_data.loc[list(plot_data.groupby(\"PSNR\")[\"num_gaussians\"].idxmin())]#+list(plot_data.groupby(\"run\")[\"num_gaussians\"].idxmax())]\n",
    "\n",
    "plot_data = plot_data[plot_data[\"run\"].apply(lambda x: x in [\"normaltexture\",\"depthtexture\",\"normalnormal\"])]\n",
    "plot_data[\"run\"] = plot_data[\"run\"].apply(lambda x: {\n",
    "    \"normaltexture\": \"Textured Rendering\",\n",
    "    \"depthtexture\": \"Textured Rendering + Depth Supervision\",\n",
    "    \"depthtexture_per_gaussian\": \"Textured Rendering Multi Sample + Depth Supervision\",\n",
    "    \"normaltexture_per_gaussian\": \"Textured Rendering Multi Sample\",\n",
    "    \"normalnormal\":\"3DGS\"\n",
    "}[x])\n",
    "\n",
    "# plot_data = plot_data[plot_data[\"run\"].apply(lambda x: x in [\"depthtexture_per_gaussian\",\"depthtexture\"])]\n",
    "# plot_data[\"run\"] = plot_data[\"run\"].apply(lambda x: {\n",
    "#     \"depthtexture\": \"Single Sample Textured Rendering\",\n",
    "#     \"depthtexture_per_gaussian\": \"Multi Sample Textured Rendering\",\n",
    "# }[x])\n",
    "\n",
    "for x_name in [\"num_gaussians\",\"memory_needed\"]:\n",
    "    fig = px.line(\n",
    "        plot_data[[\"PSNR\",\"SSIM\",\"LPIPS\"]].stack().to_frame().reset_index(1).merge(plot_data,left_index=True,right_index=True),\n",
    "        x=x_name,\n",
    "        y=0,\n",
    "        color=\"run\",\n",
    "        log_x=True,\n",
    "        facet_col=\"level_1\",\n",
    "        facet_col_spacing=0.05,\n",
    "        labels={\n",
    "            \"0\": \"Score\",\n",
    "            \"num_gaussians\": \"Num. Primitives\",\n",
    "            \"run\": \"Method\"\n",
    "        },\n",
    "        markers=True\n",
    "    )\n",
    "    # import plotly.graph_objects as go\n",
    "    # fig = go.Figure(data=fig.data + fig2.data)\n",
    "\n",
    "    fig.update_yaxes(matches=None)\n",
    "    fig.for_each_yaxis(lambda yaxis: yaxis.update(showticklabels=True))\n",
    "    fig.update_layout(legend=dict(\n",
    "        yanchor=\"middle\",\n",
    "        y=-0.4,\n",
    "        xanchor=\"center\",\n",
    "        x=0.5\n",
    "    ))\n",
    "    fig.for_each_annotation(lambda a: a.update(text=a.text.split(\"=\")[-1]))\n",
    "    fig.update_layout( autosize=False, width=1000, height=400)\n",
    "    fig.write_image(f\"../figures/compare_multisample_plot_{x_name}.pdf\")\n",
    "    fig.show()"
   ]
  },
  {
   "cell_type": "code",
   "execution_count": 11,
   "metadata": {},
   "outputs": [],
   "source": [
    "df1 = plot_data[(plot_data[\"num_gaussians\"]<50000)]\n",
    "df1 = df1.loc[df1.groupby(\"run\")[\"num_gaussians\"].apply(lambda x: x.idxmax())]\n",
    "\n",
    "df2 = plot_data[(plot_data[\"num_gaussians\"]<500000)]\n",
    "df2 = df2.loc[df2.groupby(\"run\")[\"num_gaussians\"].apply(lambda x: x.idxmax())]\n",
    "\n"
   ]
  },
  {
   "cell_type": "code",
   "execution_count": 12,
   "metadata": {},
   "outputs": [
    {
     "name": "stdout",
     "output_type": "stream",
     "text": [
      "\\begin{tabular}{llllll}\n",
      "\\toprule\n",
      "Method & PSNR & SSIM & LPIPS & #Primitives & Memory \\\\\n",
      "\\midrule\n",
      "3DGS & 31.40 & 0.880 & 0.203 & 403.0k & 95.0 MB \\\\\n",
      "Textured Rendering & 25.26 & 0.742 & 0.190 & 229.0k & 25.0 MB \\\\\n",
      "Textured Rendering + Depth Supervision & 30.06 & 0.889 & 0.100 & 44.0k & 17.0 MB \\\\\n",
      "\\bottomrule\n",
      "\\end{tabular}\n",
      "\n"
     ]
    },
    {
     "data": {
      "text/html": [
       "<div>\n",
       "<style scoped>\n",
       "    .dataframe tbody tr th:only-of-type {\n",
       "        vertical-align: middle;\n",
       "    }\n",
       "\n",
       "    .dataframe tbody tr th {\n",
       "        vertical-align: top;\n",
       "    }\n",
       "\n",
       "    .dataframe thead th {\n",
       "        text-align: right;\n",
       "    }\n",
       "</style>\n",
       "<table border=\"1\" class=\"dataframe\">\n",
       "  <thead>\n",
       "    <tr style=\"text-align: right;\">\n",
       "      <th></th>\n",
       "      <th>Method</th>\n",
       "      <th>PSNR</th>\n",
       "      <th>SSIM</th>\n",
       "      <th>LPIPS</th>\n",
       "      <th>#Primitives</th>\n",
       "      <th>Memory</th>\n",
       "    </tr>\n",
       "  </thead>\n",
       "  <tbody>\n",
       "    <tr>\n",
       "      <th>59</th>\n",
       "      <td>3DGS</td>\n",
       "      <td>31.40</td>\n",
       "      <td>0.880</td>\n",
       "      <td>0.203</td>\n",
       "      <td>403.0k</td>\n",
       "      <td>95.0 MB</td>\n",
       "    </tr>\n",
       "    <tr>\n",
       "      <th>60</th>\n",
       "      <td>Textured Rendering</td>\n",
       "      <td>25.26</td>\n",
       "      <td>0.742</td>\n",
       "      <td>0.190</td>\n",
       "      <td>229.0k</td>\n",
       "      <td>25.0 MB</td>\n",
       "    </tr>\n",
       "    <tr>\n",
       "      <th>37</th>\n",
       "      <td>Textured Rendering + Depth Supervision</td>\n",
       "      <td>30.06</td>\n",
       "      <td>0.889</td>\n",
       "      <td>0.100</td>\n",
       "      <td>44.0k</td>\n",
       "      <td>17.0 MB</td>\n",
       "    </tr>\n",
       "  </tbody>\n",
       "</table>\n",
       "</div>"
      ],
      "text/plain": [
       "                                    Method   PSNR   SSIM  LPIPS #Primitives  \\\n",
       "59                                    3DGS  31.40  0.880  0.203      403.0k   \n",
       "60                      Textured Rendering  25.26  0.742  0.190      229.0k   \n",
       "37  Textured Rendering + Depth Supervision  30.06  0.889  0.100       44.0k   \n",
       "\n",
       "     Memory  \n",
       "59  95.0 MB  \n",
       "60  25.0 MB  \n",
       "37  17.0 MB  "
      ]
     },
     "metadata": {},
     "output_type": "display_data"
    }
   ],
   "source": [
    "# best_results = results_df.loc[results_df.groupby([\"run\",\"scene_name\"])[\"PSNR\"].idxmax()][\n",
    "#     [\"PSNR\",\"SSIM\",\"LPIPS\",\"num_gaussians\",\"memory_needed\",\"train_mode\",\"render_mode\",\"run\"]\n",
    "# ].groupby([\"run\",\"train_mode\",\"render_mode\"]).mean().reset_index()\n",
    "best_results = pd.concat([df1,df2])\n",
    "best_results = df2\n",
    "formatted_table = best_results[[\"PSNR\",\"SSIM\",\"LPIPS\"]].applymap(lambda x: f\"{x:.3f}\" if x<1 else f\"{x:.2f}\")\n",
    "formatted_table[\"#Primitives\"] = best_results[\"num_gaussians\"].apply(lambda x: f\"{x//1000}k\")\n",
    "formatted_table[\"Memory\"] = best_results[\"memory_needed\"].apply(lambda x: f\"{x//1000000} MB\")\n",
    "formatted_table[\"Method\"] = best_results[\"run\"]\n",
    "#formatted_table[\"Method\"] = best_results[\"run\"].apply(lambda x: {\"normaltexture\": \"Textured Rendering\",\"depthtexture\": \"Textured Rendering + Depth Supervision\", \"normalnormal\":\"3DGS\"}[x])\n",
    "#formatted_table[\"Depth Supervision\"] = best_results[\"train_mode\"].apply(lambda x: {\"depth\": \"Yes\", \"normal\":\"No\"}[x])\n",
    "formatted_table = formatted_table.loc[:,[\"Method\",\"PSNR\",\"SSIM\",\"LPIPS\",\"#Primitives\",\"Memory\"]] \n",
    "print(formatted_table.to_latex(index=False))\n",
    "display(formatted_table)\n",
    "# display(formatted_table.pivot(columns=\"Scene\").swaplevel(0,1,\"columns\"))\n",
    "# display(formatted_table.groupby([\"Textured Rendering\", \"Depth Supervision\"]).apply(lambda x: x.melt(id_vars=\"Scene\")).pivot(columns=\"Scene\"))"
   ]
  },
  {
   "cell_type": "code",
   "execution_count": 36,
   "metadata": {},
   "outputs": [
    {
     "data": {
      "text/html": [
       "<div>\n",
       "<style scoped>\n",
       "    .dataframe tbody tr th:only-of-type {\n",
       "        vertical-align: middle;\n",
       "    }\n",
       "\n",
       "    .dataframe tbody tr th {\n",
       "        vertical-align: top;\n",
       "    }\n",
       "\n",
       "    .dataframe thead th {\n",
       "        text-align: right;\n",
       "    }\n",
       "</style>\n",
       "<table border=\"1\" class=\"dataframe\">\n",
       "  <thead>\n",
       "    <tr style=\"text-align: right;\">\n",
       "      <th></th>\n",
       "      <th>scene_name</th>\n",
       "      <th>train_run</th>\n",
       "      <th>train_mode</th>\n",
       "      <th>render_mode</th>\n",
       "      <th>method_name</th>\n",
       "      <th>iteration</th>\n",
       "      <th>num_render_images</th>\n",
       "      <th>SSIM</th>\n",
       "      <th>PSNR</th>\n",
       "      <th>LPIPS</th>\n",
       "      <th>num_gaussians</th>\n",
       "      <th>run</th>\n",
       "      <th>memory_per_image</th>\n",
       "      <th>num_training_images</th>\n",
       "      <th>memory_needed</th>\n",
       "      <th>num_render_images_percentage</th>\n",
       "    </tr>\n",
       "  </thead>\n",
       "  <tbody>\n",
       "    <tr>\n",
       "      <th>87</th>\n",
       "      <td>chair_background2</td>\n",
       "      <td>chair_background2_slow_depth</td>\n",
       "      <td>depth</td>\n",
       "      <td>texture</td>\n",
       "      <td>texture_alpha</td>\n",
       "      <td>30000</td>\n",
       "      <td>1</td>\n",
       "      <td>0.321647</td>\n",
       "      <td>14.401400</td>\n",
       "      <td>0.506033</td>\n",
       "      <td>44079</td>\n",
       "      <td>depthtexture</td>\n",
       "      <td>312000</td>\n",
       "      <td>50</td>\n",
       "      <td>17539476</td>\n",
       "      <td>2</td>\n",
       "    </tr>\n",
       "    <tr>\n",
       "      <th>156</th>\n",
       "      <td>livingroom</td>\n",
       "      <td>livingroom_slow_depth</td>\n",
       "      <td>depth</td>\n",
       "      <td>texture</td>\n",
       "      <td>texture_alpha</td>\n",
       "      <td>70000</td>\n",
       "      <td>1</td>\n",
       "      <td>0.083009</td>\n",
       "      <td>7.922831</td>\n",
       "      <td>0.517448</td>\n",
       "      <td>61983</td>\n",
       "      <td>depthtexture</td>\n",
       "      <td>151000</td>\n",
       "      <td>100</td>\n",
       "      <td>17827252</td>\n",
       "      <td>1</td>\n",
       "    </tr>\n",
       "    <tr>\n",
       "      <th>48</th>\n",
       "      <td>mic</td>\n",
       "      <td>mic_slow_depth</td>\n",
       "      <td>depth</td>\n",
       "      <td>texture</td>\n",
       "      <td>texture_alpha</td>\n",
       "      <td>30000</td>\n",
       "      <td>1</td>\n",
       "      <td>0.375818</td>\n",
       "      <td>12.511668</td>\n",
       "      <td>0.495767</td>\n",
       "      <td>44888</td>\n",
       "      <td>depthtexture</td>\n",
       "      <td>312000</td>\n",
       "      <td>50</td>\n",
       "      <td>17575072</td>\n",
       "      <td>2</td>\n",
       "    </tr>\n",
       "    <tr>\n",
       "      <th>206</th>\n",
       "      <td>ship</td>\n",
       "      <td>ship_slow_depth</td>\n",
       "      <td>depth</td>\n",
       "      <td>texture</td>\n",
       "      <td>texture_alpha</td>\n",
       "      <td>30000</td>\n",
       "      <td>1</td>\n",
       "      <td>0.351770</td>\n",
       "      <td>12.994673</td>\n",
       "      <td>0.511480</td>\n",
       "      <td>36595</td>\n",
       "      <td>depthtexture</td>\n",
       "      <td>312000</td>\n",
       "      <td>50</td>\n",
       "      <td>17210180</td>\n",
       "      <td>2</td>\n",
       "    </tr>\n",
       "    <tr>\n",
       "      <th>83</th>\n",
       "      <td>chair_background2</td>\n",
       "      <td>chair_background2_slow_depth</td>\n",
       "      <td>depth</td>\n",
       "      <td>texture</td>\n",
       "      <td>texture_alpha</td>\n",
       "      <td>30000</td>\n",
       "      <td>5</td>\n",
       "      <td>0.541990</td>\n",
       "      <td>19.206701</td>\n",
       "      <td>0.348925</td>\n",
       "      <td>44079</td>\n",
       "      <td>depthtexture</td>\n",
       "      <td>312000</td>\n",
       "      <td>50</td>\n",
       "      <td>17539476</td>\n",
       "      <td>10</td>\n",
       "    </tr>\n",
       "    <tr>\n",
       "      <th>170</th>\n",
       "      <td>livingroom</td>\n",
       "      <td>livingroom_slow_depth</td>\n",
       "      <td>depth</td>\n",
       "      <td>texture</td>\n",
       "      <td>texture_alpha</td>\n",
       "      <td>70000</td>\n",
       "      <td>5</td>\n",
       "      <td>0.588843</td>\n",
       "      <td>16.488237</td>\n",
       "      <td>0.401976</td>\n",
       "      <td>61983</td>\n",
       "      <td>depthtexture</td>\n",
       "      <td>151000</td>\n",
       "      <td>100</td>\n",
       "      <td>17827252</td>\n",
       "      <td>5</td>\n",
       "    </tr>\n",
       "    <tr>\n",
       "      <th>44</th>\n",
       "      <td>mic</td>\n",
       "      <td>mic_slow_depth</td>\n",
       "      <td>depth</td>\n",
       "      <td>texture</td>\n",
       "      <td>texture_alpha</td>\n",
       "      <td>30000</td>\n",
       "      <td>5</td>\n",
       "      <td>0.621639</td>\n",
       "      <td>17.983904</td>\n",
       "      <td>0.285115</td>\n",
       "      <td>44888</td>\n",
       "      <td>depthtexture</td>\n",
       "      <td>312000</td>\n",
       "      <td>50</td>\n",
       "      <td>17575072</td>\n",
       "      <td>10</td>\n",
       "    </tr>\n",
       "    <tr>\n",
       "      <th>202</th>\n",
       "      <td>ship</td>\n",
       "      <td>ship_slow_depth</td>\n",
       "      <td>depth</td>\n",
       "      <td>texture</td>\n",
       "      <td>texture_alpha</td>\n",
       "      <td>30000</td>\n",
       "      <td>5</td>\n",
       "      <td>0.458854</td>\n",
       "      <td>15.986426</td>\n",
       "      <td>0.436222</td>\n",
       "      <td>36595</td>\n",
       "      <td>depthtexture</td>\n",
       "      <td>312000</td>\n",
       "      <td>50</td>\n",
       "      <td>17210180</td>\n",
       "      <td>10</td>\n",
       "    </tr>\n",
       "    <tr>\n",
       "      <th>106</th>\n",
       "      <td>chair_background2</td>\n",
       "      <td>chair_background2_slow_depth</td>\n",
       "      <td>depth</td>\n",
       "      <td>texture</td>\n",
       "      <td>texture_alpha</td>\n",
       "      <td>30000</td>\n",
       "      <td>10</td>\n",
       "      <td>0.774842</td>\n",
       "      <td>25.670654</td>\n",
       "      <td>0.151749</td>\n",
       "      <td>44079</td>\n",
       "      <td>depthtexture</td>\n",
       "      <td>312000</td>\n",
       "      <td>50</td>\n",
       "      <td>17539476</td>\n",
       "      <td>20</td>\n",
       "    </tr>\n",
       "    <tr>\n",
       "      <th>180</th>\n",
       "      <td>livingroom</td>\n",
       "      <td>livingroom_slow_depth</td>\n",
       "      <td>depth</td>\n",
       "      <td>texture</td>\n",
       "      <td>texture_alpha</td>\n",
       "      <td>70000</td>\n",
       "      <td>10</td>\n",
       "      <td>0.640255</td>\n",
       "      <td>18.358294</td>\n",
       "      <td>0.345906</td>\n",
       "      <td>61983</td>\n",
       "      <td>depthtexture</td>\n",
       "      <td>151000</td>\n",
       "      <td>100</td>\n",
       "      <td>17827252</td>\n",
       "      <td>10</td>\n",
       "    </tr>\n",
       "    <tr>\n",
       "      <th>67</th>\n",
       "      <td>mic</td>\n",
       "      <td>mic_slow_depth</td>\n",
       "      <td>depth</td>\n",
       "      <td>texture</td>\n",
       "      <td>texture_alpha</td>\n",
       "      <td>30000</td>\n",
       "      <td>10</td>\n",
       "      <td>0.845155</td>\n",
       "      <td>24.916397</td>\n",
       "      <td>0.096482</td>\n",
       "      <td>44888</td>\n",
       "      <td>depthtexture</td>\n",
       "      <td>312000</td>\n",
       "      <td>50</td>\n",
       "      <td>17575072</td>\n",
       "      <td>20</td>\n",
       "    </tr>\n",
       "    <tr>\n",
       "      <th>225</th>\n",
       "      <td>ship</td>\n",
       "      <td>ship_slow_depth</td>\n",
       "      <td>depth</td>\n",
       "      <td>texture</td>\n",
       "      <td>texture_alpha</td>\n",
       "      <td>30000</td>\n",
       "      <td>10</td>\n",
       "      <td>0.595413</td>\n",
       "      <td>20.247639</td>\n",
       "      <td>0.327470</td>\n",
       "      <td>36595</td>\n",
       "      <td>depthtexture</td>\n",
       "      <td>312000</td>\n",
       "      <td>50</td>\n",
       "      <td>17210180</td>\n",
       "      <td>20</td>\n",
       "    </tr>\n",
       "    <tr>\n",
       "      <th>78</th>\n",
       "      <td>chair_background2</td>\n",
       "      <td>chair_background2_slow_depth</td>\n",
       "      <td>depth</td>\n",
       "      <td>texture</td>\n",
       "      <td>texture_alpha</td>\n",
       "      <td>30000</td>\n",
       "      <td>20</td>\n",
       "      <td>0.876230</td>\n",
       "      <td>29.566448</td>\n",
       "      <td>0.064931</td>\n",
       "      <td>44079</td>\n",
       "      <td>depthtexture</td>\n",
       "      <td>312000</td>\n",
       "      <td>50</td>\n",
       "      <td>17539476</td>\n",
       "      <td>40</td>\n",
       "    </tr>\n",
       "    <tr>\n",
       "      <th>176</th>\n",
       "      <td>livingroom</td>\n",
       "      <td>livingroom_slow_depth</td>\n",
       "      <td>depth</td>\n",
       "      <td>texture</td>\n",
       "      <td>texture_alpha</td>\n",
       "      <td>70000</td>\n",
       "      <td>20</td>\n",
       "      <td>0.775296</td>\n",
       "      <td>22.647125</td>\n",
       "      <td>0.274017</td>\n",
       "      <td>61983</td>\n",
       "      <td>depthtexture</td>\n",
       "      <td>151000</td>\n",
       "      <td>100</td>\n",
       "      <td>17827252</td>\n",
       "      <td>20</td>\n",
       "    </tr>\n",
       "    <tr>\n",
       "      <th>39</th>\n",
       "      <td>mic</td>\n",
       "      <td>mic_slow_depth</td>\n",
       "      <td>depth</td>\n",
       "      <td>texture</td>\n",
       "      <td>texture_alpha</td>\n",
       "      <td>30000</td>\n",
       "      <td>20</td>\n",
       "      <td>0.908420</td>\n",
       "      <td>28.045025</td>\n",
       "      <td>0.049084</td>\n",
       "      <td>44888</td>\n",
       "      <td>depthtexture</td>\n",
       "      <td>312000</td>\n",
       "      <td>50</td>\n",
       "      <td>17575072</td>\n",
       "      <td>40</td>\n",
       "    </tr>\n",
       "    <tr>\n",
       "      <th>197</th>\n",
       "      <td>ship</td>\n",
       "      <td>ship_slow_depth</td>\n",
       "      <td>depth</td>\n",
       "      <td>texture</td>\n",
       "      <td>texture_alpha</td>\n",
       "      <td>30000</td>\n",
       "      <td>20</td>\n",
       "      <td>0.681601</td>\n",
       "      <td>23.155594</td>\n",
       "      <td>0.242460</td>\n",
       "      <td>36595</td>\n",
       "      <td>depthtexture</td>\n",
       "      <td>312000</td>\n",
       "      <td>50</td>\n",
       "      <td>17210180</td>\n",
       "      <td>40</td>\n",
       "    </tr>\n",
       "    <tr>\n",
       "      <th>108</th>\n",
       "      <td>chair_background2</td>\n",
       "      <td>chair_background2_slow_depth</td>\n",
       "      <td>depth</td>\n",
       "      <td>texture</td>\n",
       "      <td>texture_alpha</td>\n",
       "      <td>30000</td>\n",
       "      <td>30</td>\n",
       "      <td>0.907803</td>\n",
       "      <td>30.721544</td>\n",
       "      <td>0.055565</td>\n",
       "      <td>44079</td>\n",
       "      <td>depthtexture</td>\n",
       "      <td>312000</td>\n",
       "      <td>50</td>\n",
       "      <td>17539476</td>\n",
       "      <td>60</td>\n",
       "    </tr>\n",
       "    <tr>\n",
       "      <th>183</th>\n",
       "      <td>livingroom</td>\n",
       "      <td>livingroom_slow_depth</td>\n",
       "      <td>depth</td>\n",
       "      <td>texture</td>\n",
       "      <td>texture_alpha</td>\n",
       "      <td>70000</td>\n",
       "      <td>30</td>\n",
       "      <td>0.799078</td>\n",
       "      <td>23.505013</td>\n",
       "      <td>0.243812</td>\n",
       "      <td>61983</td>\n",
       "      <td>depthtexture</td>\n",
       "      <td>151000</td>\n",
       "      <td>100</td>\n",
       "      <td>17827252</td>\n",
       "      <td>30</td>\n",
       "    </tr>\n",
       "    <tr>\n",
       "      <th>69</th>\n",
       "      <td>mic</td>\n",
       "      <td>mic_slow_depth</td>\n",
       "      <td>depth</td>\n",
       "      <td>texture</td>\n",
       "      <td>texture_alpha</td>\n",
       "      <td>30000</td>\n",
       "      <td>30</td>\n",
       "      <td>0.930333</td>\n",
       "      <td>28.955063</td>\n",
       "      <td>0.041700</td>\n",
       "      <td>44888</td>\n",
       "      <td>depthtexture</td>\n",
       "      <td>312000</td>\n",
       "      <td>50</td>\n",
       "      <td>17575072</td>\n",
       "      <td>60</td>\n",
       "    </tr>\n",
       "    <tr>\n",
       "      <th>227</th>\n",
       "      <td>ship</td>\n",
       "      <td>ship_slow_depth</td>\n",
       "      <td>depth</td>\n",
       "      <td>texture</td>\n",
       "      <td>texture_alpha</td>\n",
       "      <td>30000</td>\n",
       "      <td>30</td>\n",
       "      <td>0.712637</td>\n",
       "      <td>24.336554</td>\n",
       "      <td>0.217186</td>\n",
       "      <td>36595</td>\n",
       "      <td>depthtexture</td>\n",
       "      <td>312000</td>\n",
       "      <td>50</td>\n",
       "      <td>17210180</td>\n",
       "      <td>60</td>\n",
       "    </tr>\n",
       "    <tr>\n",
       "      <th>80</th>\n",
       "      <td>chair_background2</td>\n",
       "      <td>chair_background2_slow_depth</td>\n",
       "      <td>depth</td>\n",
       "      <td>texture</td>\n",
       "      <td>texture_alpha</td>\n",
       "      <td>30000</td>\n",
       "      <td>40</td>\n",
       "      <td>0.917204</td>\n",
       "      <td>31.309734</td>\n",
       "      <td>0.051736</td>\n",
       "      <td>44079</td>\n",
       "      <td>depthtexture</td>\n",
       "      <td>312000</td>\n",
       "      <td>50</td>\n",
       "      <td>17539476</td>\n",
       "      <td>80</td>\n",
       "    </tr>\n",
       "    <tr>\n",
       "      <th>163</th>\n",
       "      <td>livingroom</td>\n",
       "      <td>livingroom_slow_depth</td>\n",
       "      <td>depth</td>\n",
       "      <td>texture</td>\n",
       "      <td>texture_alpha</td>\n",
       "      <td>70000</td>\n",
       "      <td>40</td>\n",
       "      <td>0.836499</td>\n",
       "      <td>25.365255</td>\n",
       "      <td>0.214645</td>\n",
       "      <td>61983</td>\n",
       "      <td>depthtexture</td>\n",
       "      <td>151000</td>\n",
       "      <td>100</td>\n",
       "      <td>17827252</td>\n",
       "      <td>40</td>\n",
       "    </tr>\n",
       "    <tr>\n",
       "      <th>41</th>\n",
       "      <td>mic</td>\n",
       "      <td>mic_slow_depth</td>\n",
       "      <td>depth</td>\n",
       "      <td>texture</td>\n",
       "      <td>texture_alpha</td>\n",
       "      <td>30000</td>\n",
       "      <td>40</td>\n",
       "      <td>0.938671</td>\n",
       "      <td>29.680477</td>\n",
       "      <td>0.037884</td>\n",
       "      <td>44888</td>\n",
       "      <td>depthtexture</td>\n",
       "      <td>312000</td>\n",
       "      <td>50</td>\n",
       "      <td>17575072</td>\n",
       "      <td>80</td>\n",
       "    </tr>\n",
       "    <tr>\n",
       "      <th>199</th>\n",
       "      <td>ship</td>\n",
       "      <td>ship_slow_depth</td>\n",
       "      <td>depth</td>\n",
       "      <td>texture</td>\n",
       "      <td>texture_alpha</td>\n",
       "      <td>30000</td>\n",
       "      <td>40</td>\n",
       "      <td>0.742964</td>\n",
       "      <td>25.550959</td>\n",
       "      <td>0.191906</td>\n",
       "      <td>36595</td>\n",
       "      <td>depthtexture</td>\n",
       "      <td>312000</td>\n",
       "      <td>50</td>\n",
       "      <td>17210180</td>\n",
       "      <td>80</td>\n",
       "    </tr>\n",
       "    <tr>\n",
       "      <th>110</th>\n",
       "      <td>chair_background2</td>\n",
       "      <td>chair_background2_slow_depth</td>\n",
       "      <td>depth</td>\n",
       "      <td>texture</td>\n",
       "      <td>texture_alpha</td>\n",
       "      <td>30000</td>\n",
       "      <td>50</td>\n",
       "      <td>0.934297</td>\n",
       "      <td>31.863888</td>\n",
       "      <td>0.047093</td>\n",
       "      <td>44079</td>\n",
       "      <td>depthtexture</td>\n",
       "      <td>312000</td>\n",
       "      <td>50</td>\n",
       "      <td>17539476</td>\n",
       "      <td>100</td>\n",
       "    </tr>\n",
       "    <tr>\n",
       "      <th>175</th>\n",
       "      <td>livingroom</td>\n",
       "      <td>livingroom_slow_depth</td>\n",
       "      <td>depth</td>\n",
       "      <td>texture</td>\n",
       "      <td>texture_alpha</td>\n",
       "      <td>70000</td>\n",
       "      <td>50</td>\n",
       "      <td>0.853060</td>\n",
       "      <td>26.505999</td>\n",
       "      <td>0.198551</td>\n",
       "      <td>61983</td>\n",
       "      <td>depthtexture</td>\n",
       "      <td>151000</td>\n",
       "      <td>100</td>\n",
       "      <td>17827252</td>\n",
       "      <td>50</td>\n",
       "    </tr>\n",
       "    <tr>\n",
       "      <th>33</th>\n",
       "      <td>mic</td>\n",
       "      <td>mic_slow_depth</td>\n",
       "      <td>depth</td>\n",
       "      <td>texture</td>\n",
       "      <td>texture_alpha</td>\n",
       "      <td>30000</td>\n",
       "      <td>50</td>\n",
       "      <td>0.950670</td>\n",
       "      <td>30.231125</td>\n",
       "      <td>0.034422</td>\n",
       "      <td>44888</td>\n",
       "      <td>depthtexture</td>\n",
       "      <td>312000</td>\n",
       "      <td>50</td>\n",
       "      <td>17575072</td>\n",
       "      <td>100</td>\n",
       "    </tr>\n",
       "    <tr>\n",
       "      <th>192</th>\n",
       "      <td>ship</td>\n",
       "      <td>ship_slow_depth</td>\n",
       "      <td>depth</td>\n",
       "      <td>texture</td>\n",
       "      <td>texture_alpha</td>\n",
       "      <td>20000</td>\n",
       "      <td>50</td>\n",
       "      <td>0.767433</td>\n",
       "      <td>26.559555</td>\n",
       "      <td>0.176326</td>\n",
       "      <td>26536</td>\n",
       "      <td>depthtexture</td>\n",
       "      <td>312000</td>\n",
       "      <td>50</td>\n",
       "      <td>16767584</td>\n",
       "      <td>100</td>\n",
       "    </tr>\n",
       "    <tr>\n",
       "      <th>160</th>\n",
       "      <td>livingroom</td>\n",
       "      <td>livingroom_slow_depth</td>\n",
       "      <td>depth</td>\n",
       "      <td>texture</td>\n",
       "      <td>texture_alpha</td>\n",
       "      <td>70000</td>\n",
       "      <td>70</td>\n",
       "      <td>0.886026</td>\n",
       "      <td>29.020330</td>\n",
       "      <td>0.158743</td>\n",
       "      <td>61983</td>\n",
       "      <td>depthtexture</td>\n",
       "      <td>151000</td>\n",
       "      <td>100</td>\n",
       "      <td>17827252</td>\n",
       "      <td>70</td>\n",
       "    </tr>\n",
       "    <tr>\n",
       "      <th>158</th>\n",
       "      <td>livingroom</td>\n",
       "      <td>livingroom_slow_depth</td>\n",
       "      <td>depth</td>\n",
       "      <td>texture</td>\n",
       "      <td>multitexture_alpha</td>\n",
       "      <td>55000</td>\n",
       "      <td>100</td>\n",
       "      <td>0.903835</td>\n",
       "      <td>31.598347</td>\n",
       "      <td>0.142433</td>\n",
       "      <td>63588</td>\n",
       "      <td>depthtexture</td>\n",
       "      <td>151000</td>\n",
       "      <td>100</td>\n",
       "      <td>17897872</td>\n",
       "      <td>100</td>\n",
       "    </tr>\n",
       "  </tbody>\n",
       "</table>\n",
       "</div>"
      ],
      "text/plain": [
       "            scene_name                     train_run train_mode render_mode  \\\n",
       "87   chair_background2  chair_background2_slow_depth      depth     texture   \n",
       "156         livingroom         livingroom_slow_depth      depth     texture   \n",
       "48                 mic                mic_slow_depth      depth     texture   \n",
       "206               ship               ship_slow_depth      depth     texture   \n",
       "83   chair_background2  chair_background2_slow_depth      depth     texture   \n",
       "170         livingroom         livingroom_slow_depth      depth     texture   \n",
       "44                 mic                mic_slow_depth      depth     texture   \n",
       "202               ship               ship_slow_depth      depth     texture   \n",
       "106  chair_background2  chair_background2_slow_depth      depth     texture   \n",
       "180         livingroom         livingroom_slow_depth      depth     texture   \n",
       "67                 mic                mic_slow_depth      depth     texture   \n",
       "225               ship               ship_slow_depth      depth     texture   \n",
       "78   chair_background2  chair_background2_slow_depth      depth     texture   \n",
       "176         livingroom         livingroom_slow_depth      depth     texture   \n",
       "39                 mic                mic_slow_depth      depth     texture   \n",
       "197               ship               ship_slow_depth      depth     texture   \n",
       "108  chair_background2  chair_background2_slow_depth      depth     texture   \n",
       "183         livingroom         livingroom_slow_depth      depth     texture   \n",
       "69                 mic                mic_slow_depth      depth     texture   \n",
       "227               ship               ship_slow_depth      depth     texture   \n",
       "80   chair_background2  chair_background2_slow_depth      depth     texture   \n",
       "163         livingroom         livingroom_slow_depth      depth     texture   \n",
       "41                 mic                mic_slow_depth      depth     texture   \n",
       "199               ship               ship_slow_depth      depth     texture   \n",
       "110  chair_background2  chair_background2_slow_depth      depth     texture   \n",
       "175         livingroom         livingroom_slow_depth      depth     texture   \n",
       "33                 mic                mic_slow_depth      depth     texture   \n",
       "192               ship               ship_slow_depth      depth     texture   \n",
       "160         livingroom         livingroom_slow_depth      depth     texture   \n",
       "158         livingroom         livingroom_slow_depth      depth     texture   \n",
       "\n",
       "            method_name  iteration  num_render_images      SSIM       PSNR  \\\n",
       "87        texture_alpha      30000                  1  0.321647  14.401400   \n",
       "156       texture_alpha      70000                  1  0.083009   7.922831   \n",
       "48        texture_alpha      30000                  1  0.375818  12.511668   \n",
       "206       texture_alpha      30000                  1  0.351770  12.994673   \n",
       "83        texture_alpha      30000                  5  0.541990  19.206701   \n",
       "170       texture_alpha      70000                  5  0.588843  16.488237   \n",
       "44        texture_alpha      30000                  5  0.621639  17.983904   \n",
       "202       texture_alpha      30000                  5  0.458854  15.986426   \n",
       "106       texture_alpha      30000                 10  0.774842  25.670654   \n",
       "180       texture_alpha      70000                 10  0.640255  18.358294   \n",
       "67        texture_alpha      30000                 10  0.845155  24.916397   \n",
       "225       texture_alpha      30000                 10  0.595413  20.247639   \n",
       "78        texture_alpha      30000                 20  0.876230  29.566448   \n",
       "176       texture_alpha      70000                 20  0.775296  22.647125   \n",
       "39        texture_alpha      30000                 20  0.908420  28.045025   \n",
       "197       texture_alpha      30000                 20  0.681601  23.155594   \n",
       "108       texture_alpha      30000                 30  0.907803  30.721544   \n",
       "183       texture_alpha      70000                 30  0.799078  23.505013   \n",
       "69        texture_alpha      30000                 30  0.930333  28.955063   \n",
       "227       texture_alpha      30000                 30  0.712637  24.336554   \n",
       "80        texture_alpha      30000                 40  0.917204  31.309734   \n",
       "163       texture_alpha      70000                 40  0.836499  25.365255   \n",
       "41        texture_alpha      30000                 40  0.938671  29.680477   \n",
       "199       texture_alpha      30000                 40  0.742964  25.550959   \n",
       "110       texture_alpha      30000                 50  0.934297  31.863888   \n",
       "175       texture_alpha      70000                 50  0.853060  26.505999   \n",
       "33        texture_alpha      30000                 50  0.950670  30.231125   \n",
       "192       texture_alpha      20000                 50  0.767433  26.559555   \n",
       "160       texture_alpha      70000                 70  0.886026  29.020330   \n",
       "158  multitexture_alpha      55000                100  0.903835  31.598347   \n",
       "\n",
       "        LPIPS  num_gaussians           run  memory_per_image  \\\n",
       "87   0.506033          44079  depthtexture            312000   \n",
       "156  0.517448          61983  depthtexture            151000   \n",
       "48   0.495767          44888  depthtexture            312000   \n",
       "206  0.511480          36595  depthtexture            312000   \n",
       "83   0.348925          44079  depthtexture            312000   \n",
       "170  0.401976          61983  depthtexture            151000   \n",
       "44   0.285115          44888  depthtexture            312000   \n",
       "202  0.436222          36595  depthtexture            312000   \n",
       "106  0.151749          44079  depthtexture            312000   \n",
       "180  0.345906          61983  depthtexture            151000   \n",
       "67   0.096482          44888  depthtexture            312000   \n",
       "225  0.327470          36595  depthtexture            312000   \n",
       "78   0.064931          44079  depthtexture            312000   \n",
       "176  0.274017          61983  depthtexture            151000   \n",
       "39   0.049084          44888  depthtexture            312000   \n",
       "197  0.242460          36595  depthtexture            312000   \n",
       "108  0.055565          44079  depthtexture            312000   \n",
       "183  0.243812          61983  depthtexture            151000   \n",
       "69   0.041700          44888  depthtexture            312000   \n",
       "227  0.217186          36595  depthtexture            312000   \n",
       "80   0.051736          44079  depthtexture            312000   \n",
       "163  0.214645          61983  depthtexture            151000   \n",
       "41   0.037884          44888  depthtexture            312000   \n",
       "199  0.191906          36595  depthtexture            312000   \n",
       "110  0.047093          44079  depthtexture            312000   \n",
       "175  0.198551          61983  depthtexture            151000   \n",
       "33   0.034422          44888  depthtexture            312000   \n",
       "192  0.176326          26536  depthtexture            312000   \n",
       "160  0.158743          61983  depthtexture            151000   \n",
       "158  0.142433          63588  depthtexture            151000   \n",
       "\n",
       "     num_training_images  memory_needed  num_render_images_percentage  \n",
       "87                    50       17539476                             2  \n",
       "156                  100       17827252                             1  \n",
       "48                    50       17575072                             2  \n",
       "206                   50       17210180                             2  \n",
       "83                    50       17539476                            10  \n",
       "170                  100       17827252                             5  \n",
       "44                    50       17575072                            10  \n",
       "202                   50       17210180                            10  \n",
       "106                   50       17539476                            20  \n",
       "180                  100       17827252                            10  \n",
       "67                    50       17575072                            20  \n",
       "225                   50       17210180                            20  \n",
       "78                    50       17539476                            40  \n",
       "176                  100       17827252                            20  \n",
       "39                    50       17575072                            40  \n",
       "197                   50       17210180                            40  \n",
       "108                   50       17539476                            60  \n",
       "183                  100       17827252                            30  \n",
       "69                    50       17575072                            60  \n",
       "227                   50       17210180                            60  \n",
       "80                    50       17539476                            80  \n",
       "163                  100       17827252                            40  \n",
       "41                    50       17575072                            80  \n",
       "199                   50       17210180                            80  \n",
       "110                   50       17539476                           100  \n",
       "175                  100       17827252                            50  \n",
       "33                    50       17575072                           100  \n",
       "192                   50       16767584                           100  \n",
       "160                  100       17827252                            70  \n",
       "158                  100       17897872                           100  "
      ]
     },
     "execution_count": 36,
     "metadata": {},
     "output_type": "execute_result"
    }
   ],
   "source": [
    "df = results_df[results_df[\"run\"]==\"depthtexture\"]\n",
    "df = df.loc[df.groupby([\"num_render_images\",\"scene_name\"])[\"PSNR\"].idxmax()]\n",
    "df[\"num_render_images_percentage\"] = df[\"num_render_images\"]*100//df[\"num_training_images\"]\n",
    "df"
   ]
  },
  {
   "cell_type": "code",
   "execution_count": 41,
   "metadata": {},
   "outputs": [
    {
     "name": "stdout",
     "output_type": "stream",
     "text": [
      "../output/chair_background2_slow_depth/test/texture_alpha_30000_1\n",
      "38\n",
      "../output/livingroom_slow_depth/test/texture_alpha_70000_1\n",
      "105\n",
      "../output/mic_slow_depth/test/texture_alpha_30000_1\n",
      "38\n",
      "../output/ship_slow_depth/test/texture_alpha_30000_1\n",
      "38\n",
      "../output/chair_background2_slow_depth/test/texture_alpha_30000_5\n",
      "38\n",
      "../output/livingroom_slow_depth/test/texture_alpha_70000_5\n",
      "105\n",
      "../output/mic_slow_depth/test/texture_alpha_30000_5\n",
      "38\n",
      "../output/ship_slow_depth/test/texture_alpha_30000_5\n",
      "38\n",
      "../output/chair_background2_slow_depth/test/texture_alpha_30000_10\n",
      "38\n",
      "../output/livingroom_slow_depth/test/texture_alpha_70000_10\n",
      "105\n",
      "../output/mic_slow_depth/test/texture_alpha_30000_10\n",
      "38\n",
      "../output/ship_slow_depth/test/texture_alpha_30000_10\n",
      "38\n",
      "../output/chair_background2_slow_depth/test/texture_alpha_30000_20\n",
      "38\n",
      "../output/livingroom_slow_depth/test/texture_alpha_70000_20\n",
      "105\n",
      "../output/mic_slow_depth/test/texture_alpha_30000_20\n",
      "38\n",
      "../output/ship_slow_depth/test/texture_alpha_30000_20\n",
      "38\n",
      "../output/chair_background2_slow_depth/test/texture_alpha_30000_30\n",
      "38\n",
      "../output/livingroom_slow_depth/test/texture_alpha_70000_30\n",
      "105\n",
      "../output/mic_slow_depth/test/texture_alpha_30000_30\n",
      "38\n",
      "../output/ship_slow_depth/test/texture_alpha_30000_30\n",
      "38\n",
      "../output/chair_background2_slow_depth/test/texture_alpha_30000_40\n",
      "38\n",
      "../output/livingroom_slow_depth/test/texture_alpha_70000_40\n",
      "105\n",
      "../output/mic_slow_depth/test/texture_alpha_30000_40\n",
      "38\n",
      "../output/ship_slow_depth/test/texture_alpha_30000_40\n",
      "38\n",
      "../output/chair_background2_slow_depth/test/texture_alpha_30000_50\n",
      "38\n",
      "../output/livingroom_slow_depth/test/texture_alpha_70000_50\n",
      "105\n",
      "../output/mic_slow_depth/test/texture_alpha_30000_50\n",
      "38\n",
      "../output/ship_slow_depth/test/texture_alpha_20000_50\n",
      "38\n",
      "../output/livingroom_slow_depth/test/texture_alpha_70000_70\n",
      "105\n",
      "../output/livingroom_slow_depth/test/texture_alpha_55000_100\n",
      "105\n"
     ]
    }
   ],
   "source": [
    "import numpy as np\n",
    "from PIL import Image\n",
    "\n",
    "def get_percentage_invalid(scene_name, num_render_images, iteration):\n",
    "    path = f\"../output/{scene_name}_slow_depth/test/texture_alpha_{iteration}_{num_render_images}\"\n",
    "    x = [(np.array(Image.open(img_path))==0).mean() for img_path in glob(path+\"/renders/*_before_blend.png\")]\n",
    "    return np.mean(x)\n",
    "    \n",
    "df[\"percentage_invalid\"] = df.apply(lambda r: get_percentage_invalid(r[\"scene_name\"],r[\"num_render_images\"],r[\"iteration\"]),axis=1)"
   ]
  },
  {
   "cell_type": "code",
   "execution_count": 43,
   "metadata": {},
   "outputs": [],
   "source": [
    "#df = df.set_index([\"scene_name\",\"num_render_images_percentage\"])\n",
    "new_row = df.loc[(df[\"scene_name\"]==\"livingroom\") & (df[\"num_render_images_percentage\"]==70)].copy()\n",
    "new_row[\"num_render_images_percentage\"] = 80\n",
    "df = pd.concat([df,new_row],axis=0)\n",
    "new_row = df.loc[(df[\"scene_name\"]==\"livingroom\") & (df[\"num_render_images_percentage\"]==70)].copy()\n",
    "new_row[\"num_render_images_percentage\"] = 60\n",
    "df = pd.concat([df,new_row],axis=0)\n",
    "df = df.loc[(df[\"num_render_images_percentage\"]!=70)]\n",
    "df = df.loc[(df[\"num_render_images_percentage\"]!=50)]\n",
    "df = df.loc[(df[\"num_render_images_percentage\"]!=30)]\n",
    "df = df.sort_values(\"num_render_images_percentage\")"
   ]
  },
  {
   "cell_type": "code",
   "execution_count": 47,
   "metadata": {},
   "outputs": [
    {
     "data": {
      "text/plain": [
       "num_render_images_percentage\n",
       "10     17.883831\n",
       "20     23.370454\n",
       "40     26.533081\n",
       "60     28.258373\n",
       "80     28.890375\n",
       "100    30.063229\n",
       "Name: PSNR, dtype: float64"
      ]
     },
     "execution_count": 47,
     "metadata": {},
     "output_type": "execute_result"
    }
   ],
   "source": [
    "df = df[df[\"num_render_images_percentage\"]>5]\n",
    "df.groupby(\"num_render_images_percentage\")[\"PSNR\"].mean()"
   ]
  },
  {
   "cell_type": "code",
   "execution_count": 58,
   "metadata": {},
   "outputs": [
    {
     "data": {
      "application/vnd.plotly.v1+json": {
       "config": {
        "plotlyServerURL": "https://plot.ly"
       },
       "data": [
        {
         "hovertemplate": "level_1=PSNR<br>Num. Rendering Images (%)=%{x}<br>Score=%{y}<extra></extra>",
         "legendgroup": "",
         "line": {
          "color": "#636efa",
          "dash": "solid"
         },
         "marker": {
          "symbol": "circle"
         },
         "mode": "lines+markers",
         "name": "",
         "orientation": "v",
         "showlegend": false,
         "type": "scatter",
         "x": [
          10,
          20,
          40,
          60,
          80,
          100
         ],
         "xaxis": "x",
         "y": [
          17.8838312625885,
          23.37045383453369,
          26.533080577850342,
          28.25837278366089,
          28.8903751373291,
          30.063228607177734
         ],
         "yaxis": "y"
        },
        {
         "hovertemplate": "level_1=SSIM<br>Num. Rendering Images (%)=%{x}<br>Score=%{y}<extra></extra>",
         "legendgroup": "",
         "line": {
          "color": "#636efa",
          "dash": "solid"
         },
         "marker": {
          "symbol": "circle"
         },
         "mode": "lines+markers",
         "name": "",
         "orientation": "v",
         "showlegend": false,
         "type": "scatter",
         "x": [
          10,
          20,
          40,
          60,
          80,
          100
         ],
         "xaxis": "x2",
         "y": [
          0.5656844154000282,
          0.7476764172315598,
          0.8256874233484268,
          0.8591998815536499,
          0.8712159097194672,
          0.8890586644411087
         ],
         "yaxis": "y2"
        },
        {
         "hovertemplate": "level_1=LPIPS<br>Num. Rendering Images (%)=%{x}<br>Score=%{y}<extra></extra>",
         "legendgroup": "",
         "line": {
          "color": "#636efa",
          "dash": "solid"
         },
         "marker": {
          "symbol": "circle"
         },
         "mode": "lines+markers",
         "name": "",
         "orientation": "v",
         "showlegend": false,
         "type": "scatter",
         "x": [
          10,
          20,
          40,
          60,
          80,
          100
         ],
         "xaxis": "x3",
         "y": [
          0.3540417104959488,
          0.21242916025221348,
          0.14277994725853205,
          0.11829847656190395,
          0.11006717663258314,
          0.10006828512996435
         ],
         "yaxis": "y3"
        }
       ],
       "layout": {
        "annotations": [
         {
          "font": {},
          "showarrow": false,
          "text": "PSNR",
          "x": 0.15,
          "xanchor": "center",
          "xref": "paper",
          "y": 1,
          "yanchor": "bottom",
          "yref": "paper"
         },
         {
          "font": {},
          "showarrow": false,
          "text": "SSIM",
          "x": 0.49999999999999994,
          "xanchor": "center",
          "xref": "paper",
          "y": 1,
          "yanchor": "bottom",
          "yref": "paper"
         },
         {
          "font": {},
          "showarrow": false,
          "text": "LPIPS",
          "x": 0.85,
          "xanchor": "center",
          "xref": "paper",
          "y": 1,
          "yanchor": "bottom",
          "yref": "paper"
         }
        ],
        "autosize": false,
        "height": 400,
        "legend": {
         "tracegroupgap": 0,
         "x": 0.5,
         "xanchor": "center",
         "y": -0.4,
         "yanchor": "middle"
        },
        "margin": {
         "t": 60
        },
        "template": {
         "data": {
          "bar": [
           {
            "error_x": {
             "color": "#2a3f5f"
            },
            "error_y": {
             "color": "#2a3f5f"
            },
            "marker": {
             "line": {
              "color": "#E5ECF6",
              "width": 0.5
             },
             "pattern": {
              "fillmode": "overlay",
              "size": 10,
              "solidity": 0.2
             }
            },
            "type": "bar"
           }
          ],
          "barpolar": [
           {
            "marker": {
             "line": {
              "color": "#E5ECF6",
              "width": 0.5
             },
             "pattern": {
              "fillmode": "overlay",
              "size": 10,
              "solidity": 0.2
             }
            },
            "type": "barpolar"
           }
          ],
          "carpet": [
           {
            "aaxis": {
             "endlinecolor": "#2a3f5f",
             "gridcolor": "white",
             "linecolor": "white",
             "minorgridcolor": "white",
             "startlinecolor": "#2a3f5f"
            },
            "baxis": {
             "endlinecolor": "#2a3f5f",
             "gridcolor": "white",
             "linecolor": "white",
             "minorgridcolor": "white",
             "startlinecolor": "#2a3f5f"
            },
            "type": "carpet"
           }
          ],
          "choropleth": [
           {
            "colorbar": {
             "outlinewidth": 0,
             "ticks": ""
            },
            "type": "choropleth"
           }
          ],
          "contour": [
           {
            "colorbar": {
             "outlinewidth": 0,
             "ticks": ""
            },
            "colorscale": [
             [
              0,
              "#0d0887"
             ],
             [
              0.1111111111111111,
              "#46039f"
             ],
             [
              0.2222222222222222,
              "#7201a8"
             ],
             [
              0.3333333333333333,
              "#9c179e"
             ],
             [
              0.4444444444444444,
              "#bd3786"
             ],
             [
              0.5555555555555556,
              "#d8576b"
             ],
             [
              0.6666666666666666,
              "#ed7953"
             ],
             [
              0.7777777777777778,
              "#fb9f3a"
             ],
             [
              0.8888888888888888,
              "#fdca26"
             ],
             [
              1,
              "#f0f921"
             ]
            ],
            "type": "contour"
           }
          ],
          "contourcarpet": [
           {
            "colorbar": {
             "outlinewidth": 0,
             "ticks": ""
            },
            "type": "contourcarpet"
           }
          ],
          "heatmap": [
           {
            "colorbar": {
             "outlinewidth": 0,
             "ticks": ""
            },
            "colorscale": [
             [
              0,
              "#0d0887"
             ],
             [
              0.1111111111111111,
              "#46039f"
             ],
             [
              0.2222222222222222,
              "#7201a8"
             ],
             [
              0.3333333333333333,
              "#9c179e"
             ],
             [
              0.4444444444444444,
              "#bd3786"
             ],
             [
              0.5555555555555556,
              "#d8576b"
             ],
             [
              0.6666666666666666,
              "#ed7953"
             ],
             [
              0.7777777777777778,
              "#fb9f3a"
             ],
             [
              0.8888888888888888,
              "#fdca26"
             ],
             [
              1,
              "#f0f921"
             ]
            ],
            "type": "heatmap"
           }
          ],
          "heatmapgl": [
           {
            "colorbar": {
             "outlinewidth": 0,
             "ticks": ""
            },
            "colorscale": [
             [
              0,
              "#0d0887"
             ],
             [
              0.1111111111111111,
              "#46039f"
             ],
             [
              0.2222222222222222,
              "#7201a8"
             ],
             [
              0.3333333333333333,
              "#9c179e"
             ],
             [
              0.4444444444444444,
              "#bd3786"
             ],
             [
              0.5555555555555556,
              "#d8576b"
             ],
             [
              0.6666666666666666,
              "#ed7953"
             ],
             [
              0.7777777777777778,
              "#fb9f3a"
             ],
             [
              0.8888888888888888,
              "#fdca26"
             ],
             [
              1,
              "#f0f921"
             ]
            ],
            "type": "heatmapgl"
           }
          ],
          "histogram": [
           {
            "marker": {
             "pattern": {
              "fillmode": "overlay",
              "size": 10,
              "solidity": 0.2
             }
            },
            "type": "histogram"
           }
          ],
          "histogram2d": [
           {
            "colorbar": {
             "outlinewidth": 0,
             "ticks": ""
            },
            "colorscale": [
             [
              0,
              "#0d0887"
             ],
             [
              0.1111111111111111,
              "#46039f"
             ],
             [
              0.2222222222222222,
              "#7201a8"
             ],
             [
              0.3333333333333333,
              "#9c179e"
             ],
             [
              0.4444444444444444,
              "#bd3786"
             ],
             [
              0.5555555555555556,
              "#d8576b"
             ],
             [
              0.6666666666666666,
              "#ed7953"
             ],
             [
              0.7777777777777778,
              "#fb9f3a"
             ],
             [
              0.8888888888888888,
              "#fdca26"
             ],
             [
              1,
              "#f0f921"
             ]
            ],
            "type": "histogram2d"
           }
          ],
          "histogram2dcontour": [
           {
            "colorbar": {
             "outlinewidth": 0,
             "ticks": ""
            },
            "colorscale": [
             [
              0,
              "#0d0887"
             ],
             [
              0.1111111111111111,
              "#46039f"
             ],
             [
              0.2222222222222222,
              "#7201a8"
             ],
             [
              0.3333333333333333,
              "#9c179e"
             ],
             [
              0.4444444444444444,
              "#bd3786"
             ],
             [
              0.5555555555555556,
              "#d8576b"
             ],
             [
              0.6666666666666666,
              "#ed7953"
             ],
             [
              0.7777777777777778,
              "#fb9f3a"
             ],
             [
              0.8888888888888888,
              "#fdca26"
             ],
             [
              1,
              "#f0f921"
             ]
            ],
            "type": "histogram2dcontour"
           }
          ],
          "mesh3d": [
           {
            "colorbar": {
             "outlinewidth": 0,
             "ticks": ""
            },
            "type": "mesh3d"
           }
          ],
          "parcoords": [
           {
            "line": {
             "colorbar": {
              "outlinewidth": 0,
              "ticks": ""
             }
            },
            "type": "parcoords"
           }
          ],
          "pie": [
           {
            "automargin": true,
            "type": "pie"
           }
          ],
          "scatter": [
           {
            "fillpattern": {
             "fillmode": "overlay",
             "size": 10,
             "solidity": 0.2
            },
            "type": "scatter"
           }
          ],
          "scatter3d": [
           {
            "line": {
             "colorbar": {
              "outlinewidth": 0,
              "ticks": ""
             }
            },
            "marker": {
             "colorbar": {
              "outlinewidth": 0,
              "ticks": ""
             }
            },
            "type": "scatter3d"
           }
          ],
          "scattercarpet": [
           {
            "marker": {
             "colorbar": {
              "outlinewidth": 0,
              "ticks": ""
             }
            },
            "type": "scattercarpet"
           }
          ],
          "scattergeo": [
           {
            "marker": {
             "colorbar": {
              "outlinewidth": 0,
              "ticks": ""
             }
            },
            "type": "scattergeo"
           }
          ],
          "scattergl": [
           {
            "marker": {
             "colorbar": {
              "outlinewidth": 0,
              "ticks": ""
             }
            },
            "type": "scattergl"
           }
          ],
          "scattermapbox": [
           {
            "marker": {
             "colorbar": {
              "outlinewidth": 0,
              "ticks": ""
             }
            },
            "type": "scattermapbox"
           }
          ],
          "scatterpolar": [
           {
            "marker": {
             "colorbar": {
              "outlinewidth": 0,
              "ticks": ""
             }
            },
            "type": "scatterpolar"
           }
          ],
          "scatterpolargl": [
           {
            "marker": {
             "colorbar": {
              "outlinewidth": 0,
              "ticks": ""
             }
            },
            "type": "scatterpolargl"
           }
          ],
          "scatterternary": [
           {
            "marker": {
             "colorbar": {
              "outlinewidth": 0,
              "ticks": ""
             }
            },
            "type": "scatterternary"
           }
          ],
          "surface": [
           {
            "colorbar": {
             "outlinewidth": 0,
             "ticks": ""
            },
            "colorscale": [
             [
              0,
              "#0d0887"
             ],
             [
              0.1111111111111111,
              "#46039f"
             ],
             [
              0.2222222222222222,
              "#7201a8"
             ],
             [
              0.3333333333333333,
              "#9c179e"
             ],
             [
              0.4444444444444444,
              "#bd3786"
             ],
             [
              0.5555555555555556,
              "#d8576b"
             ],
             [
              0.6666666666666666,
              "#ed7953"
             ],
             [
              0.7777777777777778,
              "#fb9f3a"
             ],
             [
              0.8888888888888888,
              "#fdca26"
             ],
             [
              1,
              "#f0f921"
             ]
            ],
            "type": "surface"
           }
          ],
          "table": [
           {
            "cells": {
             "fill": {
              "color": "#EBF0F8"
             },
             "line": {
              "color": "white"
             }
            },
            "header": {
             "fill": {
              "color": "#C8D4E3"
             },
             "line": {
              "color": "white"
             }
            },
            "type": "table"
           }
          ]
         },
         "layout": {
          "annotationdefaults": {
           "arrowcolor": "#2a3f5f",
           "arrowhead": 0,
           "arrowwidth": 1
          },
          "autotypenumbers": "strict",
          "coloraxis": {
           "colorbar": {
            "outlinewidth": 0,
            "ticks": ""
           }
          },
          "colorscale": {
           "diverging": [
            [
             0,
             "#8e0152"
            ],
            [
             0.1,
             "#c51b7d"
            ],
            [
             0.2,
             "#de77ae"
            ],
            [
             0.3,
             "#f1b6da"
            ],
            [
             0.4,
             "#fde0ef"
            ],
            [
             0.5,
             "#f7f7f7"
            ],
            [
             0.6,
             "#e6f5d0"
            ],
            [
             0.7,
             "#b8e186"
            ],
            [
             0.8,
             "#7fbc41"
            ],
            [
             0.9,
             "#4d9221"
            ],
            [
             1,
             "#276419"
            ]
           ],
           "sequential": [
            [
             0,
             "#0d0887"
            ],
            [
             0.1111111111111111,
             "#46039f"
            ],
            [
             0.2222222222222222,
             "#7201a8"
            ],
            [
             0.3333333333333333,
             "#9c179e"
            ],
            [
             0.4444444444444444,
             "#bd3786"
            ],
            [
             0.5555555555555556,
             "#d8576b"
            ],
            [
             0.6666666666666666,
             "#ed7953"
            ],
            [
             0.7777777777777778,
             "#fb9f3a"
            ],
            [
             0.8888888888888888,
             "#fdca26"
            ],
            [
             1,
             "#f0f921"
            ]
           ],
           "sequentialminus": [
            [
             0,
             "#0d0887"
            ],
            [
             0.1111111111111111,
             "#46039f"
            ],
            [
             0.2222222222222222,
             "#7201a8"
            ],
            [
             0.3333333333333333,
             "#9c179e"
            ],
            [
             0.4444444444444444,
             "#bd3786"
            ],
            [
             0.5555555555555556,
             "#d8576b"
            ],
            [
             0.6666666666666666,
             "#ed7953"
            ],
            [
             0.7777777777777778,
             "#fb9f3a"
            ],
            [
             0.8888888888888888,
             "#fdca26"
            ],
            [
             1,
             "#f0f921"
            ]
           ]
          },
          "colorway": [
           "#636efa",
           "#EF553B",
           "#00cc96",
           "#ab63fa",
           "#FFA15A",
           "#19d3f3",
           "#FF6692",
           "#B6E880",
           "#FF97FF",
           "#FECB52"
          ],
          "font": {
           "color": "#2a3f5f"
          },
          "geo": {
           "bgcolor": "white",
           "lakecolor": "white",
           "landcolor": "#E5ECF6",
           "showlakes": true,
           "showland": true,
           "subunitcolor": "white"
          },
          "hoverlabel": {
           "align": "left"
          },
          "hovermode": "closest",
          "mapbox": {
           "style": "light"
          },
          "paper_bgcolor": "white",
          "plot_bgcolor": "#E5ECF6",
          "polar": {
           "angularaxis": {
            "gridcolor": "white",
            "linecolor": "white",
            "ticks": ""
           },
           "bgcolor": "#E5ECF6",
           "radialaxis": {
            "gridcolor": "white",
            "linecolor": "white",
            "ticks": ""
           }
          },
          "scene": {
           "xaxis": {
            "backgroundcolor": "#E5ECF6",
            "gridcolor": "white",
            "gridwidth": 2,
            "linecolor": "white",
            "showbackground": true,
            "ticks": "",
            "zerolinecolor": "white"
           },
           "yaxis": {
            "backgroundcolor": "#E5ECF6",
            "gridcolor": "white",
            "gridwidth": 2,
            "linecolor": "white",
            "showbackground": true,
            "ticks": "",
            "zerolinecolor": "white"
           },
           "zaxis": {
            "backgroundcolor": "#E5ECF6",
            "gridcolor": "white",
            "gridwidth": 2,
            "linecolor": "white",
            "showbackground": true,
            "ticks": "",
            "zerolinecolor": "white"
           }
          },
          "shapedefaults": {
           "line": {
            "color": "#2a3f5f"
           }
          },
          "ternary": {
           "aaxis": {
            "gridcolor": "white",
            "linecolor": "white",
            "ticks": ""
           },
           "baxis": {
            "gridcolor": "white",
            "linecolor": "white",
            "ticks": ""
           },
           "bgcolor": "#E5ECF6",
           "caxis": {
            "gridcolor": "white",
            "linecolor": "white",
            "ticks": ""
           }
          },
          "title": {
           "x": 0.05
          },
          "xaxis": {
           "automargin": true,
           "gridcolor": "white",
           "linecolor": "white",
           "ticks": "",
           "title": {
            "standoff": 15
           },
           "zerolinecolor": "white",
           "zerolinewidth": 2
          },
          "yaxis": {
           "automargin": true,
           "gridcolor": "white",
           "linecolor": "white",
           "ticks": "",
           "title": {
            "standoff": 15
           },
           "zerolinecolor": "white",
           "zerolinewidth": 2
          }
         }
        },
        "width": 1000,
        "xaxis": {
         "anchor": "y",
         "domain": [
          0,
          0.3
         ],
         "title": {
          "text": "Num. Rendering Images (%)"
         }
        },
        "xaxis2": {
         "anchor": "y2",
         "domain": [
          0.35,
          0.6499999999999999
         ],
         "matches": "x",
         "title": {
          "text": "Num. Rendering Images (%)"
         }
        },
        "xaxis3": {
         "anchor": "y3",
         "domain": [
          0.7,
          1
         ],
         "matches": "x",
         "title": {
          "text": "Num. Rendering Images (%)"
         }
        },
        "yaxis": {
         "anchor": "x",
         "domain": [
          0,
          1
         ],
         "showticklabels": true,
         "title": {
          "text": "Score"
         }
        },
        "yaxis2": {
         "anchor": "x2",
         "domain": [
          0,
          1
         ],
         "showticklabels": true
        },
        "yaxis3": {
         "anchor": "x3",
         "domain": [
          0,
          1
         ],
         "showticklabels": true
        }
       }
      },
      "text/html": [
       "<div>                            <div id=\"8c4cfb68-6c7d-4678-9dcd-6c8a96f08cd2\" class=\"plotly-graph-div\" style=\"height:400px; width:1000px;\"></div>            <script type=\"text/javascript\">                require([\"plotly\"], function(Plotly) {                    window.PLOTLYENV=window.PLOTLYENV || {};                                    if (document.getElementById(\"8c4cfb68-6c7d-4678-9dcd-6c8a96f08cd2\")) {                    Plotly.newPlot(                        \"8c4cfb68-6c7d-4678-9dcd-6c8a96f08cd2\",                        [{\"hovertemplate\":\"level_1=PSNR\\u003cbr\\u003eNum. Rendering Images (%)=%{x}\\u003cbr\\u003eScore=%{y}\\u003cextra\\u003e\\u003c\\u002fextra\\u003e\",\"legendgroup\":\"\",\"line\":{\"color\":\"#636efa\",\"dash\":\"solid\"},\"marker\":{\"symbol\":\"circle\"},\"mode\":\"lines+markers\",\"name\":\"\",\"orientation\":\"v\",\"showlegend\":false,\"x\":[10,20,40,60,80,100],\"xaxis\":\"x\",\"y\":[17.8838312625885,23.37045383453369,26.533080577850342,28.25837278366089,28.8903751373291,30.063228607177734],\"yaxis\":\"y\",\"type\":\"scatter\"},{\"hovertemplate\":\"level_1=SSIM\\u003cbr\\u003eNum. Rendering Images (%)=%{x}\\u003cbr\\u003eScore=%{y}\\u003cextra\\u003e\\u003c\\u002fextra\\u003e\",\"legendgroup\":\"\",\"line\":{\"color\":\"#636efa\",\"dash\":\"solid\"},\"marker\":{\"symbol\":\"circle\"},\"mode\":\"lines+markers\",\"name\":\"\",\"orientation\":\"v\",\"showlegend\":false,\"x\":[10,20,40,60,80,100],\"xaxis\":\"x2\",\"y\":[0.5656844154000282,0.7476764172315598,0.8256874233484268,0.8591998815536499,0.8712159097194672,0.8890586644411087],\"yaxis\":\"y2\",\"type\":\"scatter\"},{\"hovertemplate\":\"level_1=LPIPS\\u003cbr\\u003eNum. Rendering Images (%)=%{x}\\u003cbr\\u003eScore=%{y}\\u003cextra\\u003e\\u003c\\u002fextra\\u003e\",\"legendgroup\":\"\",\"line\":{\"color\":\"#636efa\",\"dash\":\"solid\"},\"marker\":{\"symbol\":\"circle\"},\"mode\":\"lines+markers\",\"name\":\"\",\"orientation\":\"v\",\"showlegend\":false,\"x\":[10,20,40,60,80,100],\"xaxis\":\"x3\",\"y\":[0.3540417104959488,0.21242916025221348,0.14277994725853205,0.11829847656190395,0.11006717663258314,0.10006828512996435],\"yaxis\":\"y3\",\"type\":\"scatter\"}],                        {\"template\":{\"data\":{\"histogram2dcontour\":[{\"type\":\"histogram2dcontour\",\"colorbar\":{\"outlinewidth\":0,\"ticks\":\"\"},\"colorscale\":[[0.0,\"#0d0887\"],[0.1111111111111111,\"#46039f\"],[0.2222222222222222,\"#7201a8\"],[0.3333333333333333,\"#9c179e\"],[0.4444444444444444,\"#bd3786\"],[0.5555555555555556,\"#d8576b\"],[0.6666666666666666,\"#ed7953\"],[0.7777777777777778,\"#fb9f3a\"],[0.8888888888888888,\"#fdca26\"],[1.0,\"#f0f921\"]]}],\"choropleth\":[{\"type\":\"choropleth\",\"colorbar\":{\"outlinewidth\":0,\"ticks\":\"\"}}],\"histogram2d\":[{\"type\":\"histogram2d\",\"colorbar\":{\"outlinewidth\":0,\"ticks\":\"\"},\"colorscale\":[[0.0,\"#0d0887\"],[0.1111111111111111,\"#46039f\"],[0.2222222222222222,\"#7201a8\"],[0.3333333333333333,\"#9c179e\"],[0.4444444444444444,\"#bd3786\"],[0.5555555555555556,\"#d8576b\"],[0.6666666666666666,\"#ed7953\"],[0.7777777777777778,\"#fb9f3a\"],[0.8888888888888888,\"#fdca26\"],[1.0,\"#f0f921\"]]}],\"heatmap\":[{\"type\":\"heatmap\",\"colorbar\":{\"outlinewidth\":0,\"ticks\":\"\"},\"colorscale\":[[0.0,\"#0d0887\"],[0.1111111111111111,\"#46039f\"],[0.2222222222222222,\"#7201a8\"],[0.3333333333333333,\"#9c179e\"],[0.4444444444444444,\"#bd3786\"],[0.5555555555555556,\"#d8576b\"],[0.6666666666666666,\"#ed7953\"],[0.7777777777777778,\"#fb9f3a\"],[0.8888888888888888,\"#fdca26\"],[1.0,\"#f0f921\"]]}],\"heatmapgl\":[{\"type\":\"heatmapgl\",\"colorbar\":{\"outlinewidth\":0,\"ticks\":\"\"},\"colorscale\":[[0.0,\"#0d0887\"],[0.1111111111111111,\"#46039f\"],[0.2222222222222222,\"#7201a8\"],[0.3333333333333333,\"#9c179e\"],[0.4444444444444444,\"#bd3786\"],[0.5555555555555556,\"#d8576b\"],[0.6666666666666666,\"#ed7953\"],[0.7777777777777778,\"#fb9f3a\"],[0.8888888888888888,\"#fdca26\"],[1.0,\"#f0f921\"]]}],\"contourcarpet\":[{\"type\":\"contourcarpet\",\"colorbar\":{\"outlinewidth\":0,\"ticks\":\"\"}}],\"contour\":[{\"type\":\"contour\",\"colorbar\":{\"outlinewidth\":0,\"ticks\":\"\"},\"colorscale\":[[0.0,\"#0d0887\"],[0.1111111111111111,\"#46039f\"],[0.2222222222222222,\"#7201a8\"],[0.3333333333333333,\"#9c179e\"],[0.4444444444444444,\"#bd3786\"],[0.5555555555555556,\"#d8576b\"],[0.6666666666666666,\"#ed7953\"],[0.7777777777777778,\"#fb9f3a\"],[0.8888888888888888,\"#fdca26\"],[1.0,\"#f0f921\"]]}],\"surface\":[{\"type\":\"surface\",\"colorbar\":{\"outlinewidth\":0,\"ticks\":\"\"},\"colorscale\":[[0.0,\"#0d0887\"],[0.1111111111111111,\"#46039f\"],[0.2222222222222222,\"#7201a8\"],[0.3333333333333333,\"#9c179e\"],[0.4444444444444444,\"#bd3786\"],[0.5555555555555556,\"#d8576b\"],[0.6666666666666666,\"#ed7953\"],[0.7777777777777778,\"#fb9f3a\"],[0.8888888888888888,\"#fdca26\"],[1.0,\"#f0f921\"]]}],\"mesh3d\":[{\"type\":\"mesh3d\",\"colorbar\":{\"outlinewidth\":0,\"ticks\":\"\"}}],\"scatter\":[{\"fillpattern\":{\"fillmode\":\"overlay\",\"size\":10,\"solidity\":0.2},\"type\":\"scatter\"}],\"parcoords\":[{\"type\":\"parcoords\",\"line\":{\"colorbar\":{\"outlinewidth\":0,\"ticks\":\"\"}}}],\"scatterpolargl\":[{\"type\":\"scatterpolargl\",\"marker\":{\"colorbar\":{\"outlinewidth\":0,\"ticks\":\"\"}}}],\"bar\":[{\"error_x\":{\"color\":\"#2a3f5f\"},\"error_y\":{\"color\":\"#2a3f5f\"},\"marker\":{\"line\":{\"color\":\"#E5ECF6\",\"width\":0.5},\"pattern\":{\"fillmode\":\"overlay\",\"size\":10,\"solidity\":0.2}},\"type\":\"bar\"}],\"scattergeo\":[{\"type\":\"scattergeo\",\"marker\":{\"colorbar\":{\"outlinewidth\":0,\"ticks\":\"\"}}}],\"scatterpolar\":[{\"type\":\"scatterpolar\",\"marker\":{\"colorbar\":{\"outlinewidth\":0,\"ticks\":\"\"}}}],\"histogram\":[{\"marker\":{\"pattern\":{\"fillmode\":\"overlay\",\"size\":10,\"solidity\":0.2}},\"type\":\"histogram\"}],\"scattergl\":[{\"type\":\"scattergl\",\"marker\":{\"colorbar\":{\"outlinewidth\":0,\"ticks\":\"\"}}}],\"scatter3d\":[{\"type\":\"scatter3d\",\"line\":{\"colorbar\":{\"outlinewidth\":0,\"ticks\":\"\"}},\"marker\":{\"colorbar\":{\"outlinewidth\":0,\"ticks\":\"\"}}}],\"scattermapbox\":[{\"type\":\"scattermapbox\",\"marker\":{\"colorbar\":{\"outlinewidth\":0,\"ticks\":\"\"}}}],\"scatterternary\":[{\"type\":\"scatterternary\",\"marker\":{\"colorbar\":{\"outlinewidth\":0,\"ticks\":\"\"}}}],\"scattercarpet\":[{\"type\":\"scattercarpet\",\"marker\":{\"colorbar\":{\"outlinewidth\":0,\"ticks\":\"\"}}}],\"carpet\":[{\"aaxis\":{\"endlinecolor\":\"#2a3f5f\",\"gridcolor\":\"white\",\"linecolor\":\"white\",\"minorgridcolor\":\"white\",\"startlinecolor\":\"#2a3f5f\"},\"baxis\":{\"endlinecolor\":\"#2a3f5f\",\"gridcolor\":\"white\",\"linecolor\":\"white\",\"minorgridcolor\":\"white\",\"startlinecolor\":\"#2a3f5f\"},\"type\":\"carpet\"}],\"table\":[{\"cells\":{\"fill\":{\"color\":\"#EBF0F8\"},\"line\":{\"color\":\"white\"}},\"header\":{\"fill\":{\"color\":\"#C8D4E3\"},\"line\":{\"color\":\"white\"}},\"type\":\"table\"}],\"barpolar\":[{\"marker\":{\"line\":{\"color\":\"#E5ECF6\",\"width\":0.5},\"pattern\":{\"fillmode\":\"overlay\",\"size\":10,\"solidity\":0.2}},\"type\":\"barpolar\"}],\"pie\":[{\"automargin\":true,\"type\":\"pie\"}]},\"layout\":{\"autotypenumbers\":\"strict\",\"colorway\":[\"#636efa\",\"#EF553B\",\"#00cc96\",\"#ab63fa\",\"#FFA15A\",\"#19d3f3\",\"#FF6692\",\"#B6E880\",\"#FF97FF\",\"#FECB52\"],\"font\":{\"color\":\"#2a3f5f\"},\"hovermode\":\"closest\",\"hoverlabel\":{\"align\":\"left\"},\"paper_bgcolor\":\"white\",\"plot_bgcolor\":\"#E5ECF6\",\"polar\":{\"bgcolor\":\"#E5ECF6\",\"angularaxis\":{\"gridcolor\":\"white\",\"linecolor\":\"white\",\"ticks\":\"\"},\"radialaxis\":{\"gridcolor\":\"white\",\"linecolor\":\"white\",\"ticks\":\"\"}},\"ternary\":{\"bgcolor\":\"#E5ECF6\",\"aaxis\":{\"gridcolor\":\"white\",\"linecolor\":\"white\",\"ticks\":\"\"},\"baxis\":{\"gridcolor\":\"white\",\"linecolor\":\"white\",\"ticks\":\"\"},\"caxis\":{\"gridcolor\":\"white\",\"linecolor\":\"white\",\"ticks\":\"\"}},\"coloraxis\":{\"colorbar\":{\"outlinewidth\":0,\"ticks\":\"\"}},\"colorscale\":{\"sequential\":[[0.0,\"#0d0887\"],[0.1111111111111111,\"#46039f\"],[0.2222222222222222,\"#7201a8\"],[0.3333333333333333,\"#9c179e\"],[0.4444444444444444,\"#bd3786\"],[0.5555555555555556,\"#d8576b\"],[0.6666666666666666,\"#ed7953\"],[0.7777777777777778,\"#fb9f3a\"],[0.8888888888888888,\"#fdca26\"],[1.0,\"#f0f921\"]],\"sequentialminus\":[[0.0,\"#0d0887\"],[0.1111111111111111,\"#46039f\"],[0.2222222222222222,\"#7201a8\"],[0.3333333333333333,\"#9c179e\"],[0.4444444444444444,\"#bd3786\"],[0.5555555555555556,\"#d8576b\"],[0.6666666666666666,\"#ed7953\"],[0.7777777777777778,\"#fb9f3a\"],[0.8888888888888888,\"#fdca26\"],[1.0,\"#f0f921\"]],\"diverging\":[[0,\"#8e0152\"],[0.1,\"#c51b7d\"],[0.2,\"#de77ae\"],[0.3,\"#f1b6da\"],[0.4,\"#fde0ef\"],[0.5,\"#f7f7f7\"],[0.6,\"#e6f5d0\"],[0.7,\"#b8e186\"],[0.8,\"#7fbc41\"],[0.9,\"#4d9221\"],[1,\"#276419\"]]},\"xaxis\":{\"gridcolor\":\"white\",\"linecolor\":\"white\",\"ticks\":\"\",\"title\":{\"standoff\":15},\"zerolinecolor\":\"white\",\"automargin\":true,\"zerolinewidth\":2},\"yaxis\":{\"gridcolor\":\"white\",\"linecolor\":\"white\",\"ticks\":\"\",\"title\":{\"standoff\":15},\"zerolinecolor\":\"white\",\"automargin\":true,\"zerolinewidth\":2},\"scene\":{\"xaxis\":{\"backgroundcolor\":\"#E5ECF6\",\"gridcolor\":\"white\",\"linecolor\":\"white\",\"showbackground\":true,\"ticks\":\"\",\"zerolinecolor\":\"white\",\"gridwidth\":2},\"yaxis\":{\"backgroundcolor\":\"#E5ECF6\",\"gridcolor\":\"white\",\"linecolor\":\"white\",\"showbackground\":true,\"ticks\":\"\",\"zerolinecolor\":\"white\",\"gridwidth\":2},\"zaxis\":{\"backgroundcolor\":\"#E5ECF6\",\"gridcolor\":\"white\",\"linecolor\":\"white\",\"showbackground\":true,\"ticks\":\"\",\"zerolinecolor\":\"white\",\"gridwidth\":2}},\"shapedefaults\":{\"line\":{\"color\":\"#2a3f5f\"}},\"annotationdefaults\":{\"arrowcolor\":\"#2a3f5f\",\"arrowhead\":0,\"arrowwidth\":1},\"geo\":{\"bgcolor\":\"white\",\"landcolor\":\"#E5ECF6\",\"subunitcolor\":\"white\",\"showland\":true,\"showlakes\":true,\"lakecolor\":\"white\"},\"title\":{\"x\":0.05},\"mapbox\":{\"style\":\"light\"}}},\"xaxis\":{\"anchor\":\"y\",\"domain\":[0.0,0.3],\"title\":{\"text\":\"Num. Rendering Images (%)\"}},\"yaxis\":{\"anchor\":\"x\",\"domain\":[0.0,1.0],\"title\":{\"text\":\"Score\"},\"showticklabels\":true},\"xaxis2\":{\"anchor\":\"y2\",\"domain\":[0.35,0.6499999999999999],\"matches\":\"x\",\"title\":{\"text\":\"Num. Rendering Images (%)\"}},\"yaxis2\":{\"anchor\":\"x2\",\"domain\":[0.0,1.0],\"showticklabels\":true},\"xaxis3\":{\"anchor\":\"y3\",\"domain\":[0.7,1.0],\"matches\":\"x\",\"title\":{\"text\":\"Num. Rendering Images (%)\"}},\"yaxis3\":{\"anchor\":\"x3\",\"domain\":[0.0,1.0],\"showticklabels\":true},\"annotations\":[{\"font\":{},\"showarrow\":false,\"text\":\"PSNR\",\"x\":0.15,\"xanchor\":\"center\",\"xref\":\"paper\",\"y\":1.0,\"yanchor\":\"bottom\",\"yref\":\"paper\"},{\"font\":{},\"showarrow\":false,\"text\":\"SSIM\",\"x\":0.49999999999999994,\"xanchor\":\"center\",\"xref\":\"paper\",\"y\":1.0,\"yanchor\":\"bottom\",\"yref\":\"paper\"},{\"font\":{},\"showarrow\":false,\"text\":\"LPIPS\",\"x\":0.85,\"xanchor\":\"center\",\"xref\":\"paper\",\"y\":1.0,\"yanchor\":\"bottom\",\"yref\":\"paper\"}],\"legend\":{\"tracegroupgap\":0,\"yanchor\":\"middle\",\"y\":-0.4,\"xanchor\":\"center\",\"x\":0.5},\"margin\":{\"t\":60},\"autosize\":false,\"width\":1000,\"height\":400},                        {\"responsive\": true}                    ).then(function(){\n",
       "                            \n",
       "var gd = document.getElementById('8c4cfb68-6c7d-4678-9dcd-6c8a96f08cd2');\n",
       "var x = new MutationObserver(function (mutations, observer) {{\n",
       "        var display = window.getComputedStyle(gd).display;\n",
       "        if (!display || display === 'none') {{\n",
       "            console.log([gd, 'removed!']);\n",
       "            Plotly.purge(gd);\n",
       "            observer.disconnect();\n",
       "        }}\n",
       "}});\n",
       "\n",
       "// Listen for the removal of the full notebook cells\n",
       "var notebookContainer = gd.closest('#notebook-container');\n",
       "if (notebookContainer) {{\n",
       "    x.observe(notebookContainer, {childList: true});\n",
       "}}\n",
       "\n",
       "// Listen for the clearing of the current output cell\n",
       "var outputEl = gd.closest('.output');\n",
       "if (outputEl) {{\n",
       "    x.observe(outputEl, {childList: true});\n",
       "}}\n",
       "\n",
       "                        })                };                });            </script>        </div>"
      ]
     },
     "metadata": {},
     "output_type": "display_data"
    }
   ],
   "source": [
    "#px.line(,x=\"num_render_images_percentage\",y=\"PSNR\")\n",
    "\n",
    "plot_data = df.groupby(\"num_render_images_percentage\")[[\"PSNR\",\"SSIM\",\"LPIPS\"]].mean().reset_index()\n",
    "fig = px.line(\n",
    "    plot_data[[\"PSNR\",\"SSIM\",\"LPIPS\"]].stack().to_frame().reset_index(1).merge(plot_data,left_index=True,right_index=True),\n",
    "    x=\"num_render_images_percentage\",\n",
    "    y=0,\n",
    "    facet_col=\"level_1\",\n",
    "    facet_col_spacing=0.05,\n",
    "    labels={\n",
    "        \"0\": \"Score\",\n",
    "        \"num_gaussians\": \"Num. Primitives\",\n",
    "        \"run\": \"Method\",\n",
    "        \"num_render_images_percentage\": \"Num. Rendering Images (%)\"\n",
    "    },\n",
    "    markers=True\n",
    ")\n",
    "# import plotly.graph_objects as go\n",
    "# fig = go.Figure(data=fig.data + fig2.data)\n",
    "\n",
    "fig.update_yaxes(matches=None)\n",
    "fig.for_each_yaxis(lambda yaxis: yaxis.update(showticklabels=True))\n",
    "fig.update_layout(legend=dict(\n",
    "    yanchor=\"middle\",\n",
    "    y=-0.4,\n",
    "    xanchor=\"center\",\n",
    "    x=0.5\n",
    "))\n",
    "fig.for_each_annotation(lambda a: a.update(text=a.text.split(\"=\")[-1]))\n",
    "fig.update_layout( autosize=False, width=1000, height=400)\n",
    "fig.write_image(f\"../figures/fewer_rendering_images.pdf\")\n",
    "fig.show()"
   ]
  },
  {
   "cell_type": "code",
   "execution_count": 60,
   "metadata": {},
   "outputs": [
    {
     "data": {
      "application/vnd.plotly.v1+json": {
       "config": {
        "plotlyServerURL": "https://plot.ly"
       },
       "data": [
        {
         "hovertemplate": "Num. Rendering Images (%)=%{x}<br>Portion of Invalid Pixels=%{y}<extra></extra>",
         "legendgroup": "",
         "line": {
          "color": "#636efa",
          "dash": "solid"
         },
         "marker": {
          "symbol": "circle"
         },
         "mode": "lines",
         "name": "",
         "orientation": "v",
         "showlegend": false,
         "type": "scatter",
         "x": [
          10,
          20,
          40,
          60,
          80,
          100
         ],
         "xaxis": "x",
         "y": [
          0.33825943795578356,
          0.1354436271886313,
          0.05608249559989384,
          0.02735030564149088,
          0.02205323875552597,
          0.015613692597378864
         ],
         "yaxis": "y"
        }
       ],
       "layout": {
        "autosize": false,
        "height": 400,
        "legend": {
         "tracegroupgap": 0
        },
        "margin": {
         "t": 60
        },
        "template": {
         "data": {
          "bar": [
           {
            "error_x": {
             "color": "#2a3f5f"
            },
            "error_y": {
             "color": "#2a3f5f"
            },
            "marker": {
             "line": {
              "color": "#E5ECF6",
              "width": 0.5
             },
             "pattern": {
              "fillmode": "overlay",
              "size": 10,
              "solidity": 0.2
             }
            },
            "type": "bar"
           }
          ],
          "barpolar": [
           {
            "marker": {
             "line": {
              "color": "#E5ECF6",
              "width": 0.5
             },
             "pattern": {
              "fillmode": "overlay",
              "size": 10,
              "solidity": 0.2
             }
            },
            "type": "barpolar"
           }
          ],
          "carpet": [
           {
            "aaxis": {
             "endlinecolor": "#2a3f5f",
             "gridcolor": "white",
             "linecolor": "white",
             "minorgridcolor": "white",
             "startlinecolor": "#2a3f5f"
            },
            "baxis": {
             "endlinecolor": "#2a3f5f",
             "gridcolor": "white",
             "linecolor": "white",
             "minorgridcolor": "white",
             "startlinecolor": "#2a3f5f"
            },
            "type": "carpet"
           }
          ],
          "choropleth": [
           {
            "colorbar": {
             "outlinewidth": 0,
             "ticks": ""
            },
            "type": "choropleth"
           }
          ],
          "contour": [
           {
            "colorbar": {
             "outlinewidth": 0,
             "ticks": ""
            },
            "colorscale": [
             [
              0,
              "#0d0887"
             ],
             [
              0.1111111111111111,
              "#46039f"
             ],
             [
              0.2222222222222222,
              "#7201a8"
             ],
             [
              0.3333333333333333,
              "#9c179e"
             ],
             [
              0.4444444444444444,
              "#bd3786"
             ],
             [
              0.5555555555555556,
              "#d8576b"
             ],
             [
              0.6666666666666666,
              "#ed7953"
             ],
             [
              0.7777777777777778,
              "#fb9f3a"
             ],
             [
              0.8888888888888888,
              "#fdca26"
             ],
             [
              1,
              "#f0f921"
             ]
            ],
            "type": "contour"
           }
          ],
          "contourcarpet": [
           {
            "colorbar": {
             "outlinewidth": 0,
             "ticks": ""
            },
            "type": "contourcarpet"
           }
          ],
          "heatmap": [
           {
            "colorbar": {
             "outlinewidth": 0,
             "ticks": ""
            },
            "colorscale": [
             [
              0,
              "#0d0887"
             ],
             [
              0.1111111111111111,
              "#46039f"
             ],
             [
              0.2222222222222222,
              "#7201a8"
             ],
             [
              0.3333333333333333,
              "#9c179e"
             ],
             [
              0.4444444444444444,
              "#bd3786"
             ],
             [
              0.5555555555555556,
              "#d8576b"
             ],
             [
              0.6666666666666666,
              "#ed7953"
             ],
             [
              0.7777777777777778,
              "#fb9f3a"
             ],
             [
              0.8888888888888888,
              "#fdca26"
             ],
             [
              1,
              "#f0f921"
             ]
            ],
            "type": "heatmap"
           }
          ],
          "heatmapgl": [
           {
            "colorbar": {
             "outlinewidth": 0,
             "ticks": ""
            },
            "colorscale": [
             [
              0,
              "#0d0887"
             ],
             [
              0.1111111111111111,
              "#46039f"
             ],
             [
              0.2222222222222222,
              "#7201a8"
             ],
             [
              0.3333333333333333,
              "#9c179e"
             ],
             [
              0.4444444444444444,
              "#bd3786"
             ],
             [
              0.5555555555555556,
              "#d8576b"
             ],
             [
              0.6666666666666666,
              "#ed7953"
             ],
             [
              0.7777777777777778,
              "#fb9f3a"
             ],
             [
              0.8888888888888888,
              "#fdca26"
             ],
             [
              1,
              "#f0f921"
             ]
            ],
            "type": "heatmapgl"
           }
          ],
          "histogram": [
           {
            "marker": {
             "pattern": {
              "fillmode": "overlay",
              "size": 10,
              "solidity": 0.2
             }
            },
            "type": "histogram"
           }
          ],
          "histogram2d": [
           {
            "colorbar": {
             "outlinewidth": 0,
             "ticks": ""
            },
            "colorscale": [
             [
              0,
              "#0d0887"
             ],
             [
              0.1111111111111111,
              "#46039f"
             ],
             [
              0.2222222222222222,
              "#7201a8"
             ],
             [
              0.3333333333333333,
              "#9c179e"
             ],
             [
              0.4444444444444444,
              "#bd3786"
             ],
             [
              0.5555555555555556,
              "#d8576b"
             ],
             [
              0.6666666666666666,
              "#ed7953"
             ],
             [
              0.7777777777777778,
              "#fb9f3a"
             ],
             [
              0.8888888888888888,
              "#fdca26"
             ],
             [
              1,
              "#f0f921"
             ]
            ],
            "type": "histogram2d"
           }
          ],
          "histogram2dcontour": [
           {
            "colorbar": {
             "outlinewidth": 0,
             "ticks": ""
            },
            "colorscale": [
             [
              0,
              "#0d0887"
             ],
             [
              0.1111111111111111,
              "#46039f"
             ],
             [
              0.2222222222222222,
              "#7201a8"
             ],
             [
              0.3333333333333333,
              "#9c179e"
             ],
             [
              0.4444444444444444,
              "#bd3786"
             ],
             [
              0.5555555555555556,
              "#d8576b"
             ],
             [
              0.6666666666666666,
              "#ed7953"
             ],
             [
              0.7777777777777778,
              "#fb9f3a"
             ],
             [
              0.8888888888888888,
              "#fdca26"
             ],
             [
              1,
              "#f0f921"
             ]
            ],
            "type": "histogram2dcontour"
           }
          ],
          "mesh3d": [
           {
            "colorbar": {
             "outlinewidth": 0,
             "ticks": ""
            },
            "type": "mesh3d"
           }
          ],
          "parcoords": [
           {
            "line": {
             "colorbar": {
              "outlinewidth": 0,
              "ticks": ""
             }
            },
            "type": "parcoords"
           }
          ],
          "pie": [
           {
            "automargin": true,
            "type": "pie"
           }
          ],
          "scatter": [
           {
            "fillpattern": {
             "fillmode": "overlay",
             "size": 10,
             "solidity": 0.2
            },
            "type": "scatter"
           }
          ],
          "scatter3d": [
           {
            "line": {
             "colorbar": {
              "outlinewidth": 0,
              "ticks": ""
             }
            },
            "marker": {
             "colorbar": {
              "outlinewidth": 0,
              "ticks": ""
             }
            },
            "type": "scatter3d"
           }
          ],
          "scattercarpet": [
           {
            "marker": {
             "colorbar": {
              "outlinewidth": 0,
              "ticks": ""
             }
            },
            "type": "scattercarpet"
           }
          ],
          "scattergeo": [
           {
            "marker": {
             "colorbar": {
              "outlinewidth": 0,
              "ticks": ""
             }
            },
            "type": "scattergeo"
           }
          ],
          "scattergl": [
           {
            "marker": {
             "colorbar": {
              "outlinewidth": 0,
              "ticks": ""
             }
            },
            "type": "scattergl"
           }
          ],
          "scattermapbox": [
           {
            "marker": {
             "colorbar": {
              "outlinewidth": 0,
              "ticks": ""
             }
            },
            "type": "scattermapbox"
           }
          ],
          "scatterpolar": [
           {
            "marker": {
             "colorbar": {
              "outlinewidth": 0,
              "ticks": ""
             }
            },
            "type": "scatterpolar"
           }
          ],
          "scatterpolargl": [
           {
            "marker": {
             "colorbar": {
              "outlinewidth": 0,
              "ticks": ""
             }
            },
            "type": "scatterpolargl"
           }
          ],
          "scatterternary": [
           {
            "marker": {
             "colorbar": {
              "outlinewidth": 0,
              "ticks": ""
             }
            },
            "type": "scatterternary"
           }
          ],
          "surface": [
           {
            "colorbar": {
             "outlinewidth": 0,
             "ticks": ""
            },
            "colorscale": [
             [
              0,
              "#0d0887"
             ],
             [
              0.1111111111111111,
              "#46039f"
             ],
             [
              0.2222222222222222,
              "#7201a8"
             ],
             [
              0.3333333333333333,
              "#9c179e"
             ],
             [
              0.4444444444444444,
              "#bd3786"
             ],
             [
              0.5555555555555556,
              "#d8576b"
             ],
             [
              0.6666666666666666,
              "#ed7953"
             ],
             [
              0.7777777777777778,
              "#fb9f3a"
             ],
             [
              0.8888888888888888,
              "#fdca26"
             ],
             [
              1,
              "#f0f921"
             ]
            ],
            "type": "surface"
           }
          ],
          "table": [
           {
            "cells": {
             "fill": {
              "color": "#EBF0F8"
             },
             "line": {
              "color": "white"
             }
            },
            "header": {
             "fill": {
              "color": "#C8D4E3"
             },
             "line": {
              "color": "white"
             }
            },
            "type": "table"
           }
          ]
         },
         "layout": {
          "annotationdefaults": {
           "arrowcolor": "#2a3f5f",
           "arrowhead": 0,
           "arrowwidth": 1
          },
          "autotypenumbers": "strict",
          "coloraxis": {
           "colorbar": {
            "outlinewidth": 0,
            "ticks": ""
           }
          },
          "colorscale": {
           "diverging": [
            [
             0,
             "#8e0152"
            ],
            [
             0.1,
             "#c51b7d"
            ],
            [
             0.2,
             "#de77ae"
            ],
            [
             0.3,
             "#f1b6da"
            ],
            [
             0.4,
             "#fde0ef"
            ],
            [
             0.5,
             "#f7f7f7"
            ],
            [
             0.6,
             "#e6f5d0"
            ],
            [
             0.7,
             "#b8e186"
            ],
            [
             0.8,
             "#7fbc41"
            ],
            [
             0.9,
             "#4d9221"
            ],
            [
             1,
             "#276419"
            ]
           ],
           "sequential": [
            [
             0,
             "#0d0887"
            ],
            [
             0.1111111111111111,
             "#46039f"
            ],
            [
             0.2222222222222222,
             "#7201a8"
            ],
            [
             0.3333333333333333,
             "#9c179e"
            ],
            [
             0.4444444444444444,
             "#bd3786"
            ],
            [
             0.5555555555555556,
             "#d8576b"
            ],
            [
             0.6666666666666666,
             "#ed7953"
            ],
            [
             0.7777777777777778,
             "#fb9f3a"
            ],
            [
             0.8888888888888888,
             "#fdca26"
            ],
            [
             1,
             "#f0f921"
            ]
           ],
           "sequentialminus": [
            [
             0,
             "#0d0887"
            ],
            [
             0.1111111111111111,
             "#46039f"
            ],
            [
             0.2222222222222222,
             "#7201a8"
            ],
            [
             0.3333333333333333,
             "#9c179e"
            ],
            [
             0.4444444444444444,
             "#bd3786"
            ],
            [
             0.5555555555555556,
             "#d8576b"
            ],
            [
             0.6666666666666666,
             "#ed7953"
            ],
            [
             0.7777777777777778,
             "#fb9f3a"
            ],
            [
             0.8888888888888888,
             "#fdca26"
            ],
            [
             1,
             "#f0f921"
            ]
           ]
          },
          "colorway": [
           "#636efa",
           "#EF553B",
           "#00cc96",
           "#ab63fa",
           "#FFA15A",
           "#19d3f3",
           "#FF6692",
           "#B6E880",
           "#FF97FF",
           "#FECB52"
          ],
          "font": {
           "color": "#2a3f5f"
          },
          "geo": {
           "bgcolor": "white",
           "lakecolor": "white",
           "landcolor": "#E5ECF6",
           "showlakes": true,
           "showland": true,
           "subunitcolor": "white"
          },
          "hoverlabel": {
           "align": "left"
          },
          "hovermode": "closest",
          "mapbox": {
           "style": "light"
          },
          "paper_bgcolor": "white",
          "plot_bgcolor": "#E5ECF6",
          "polar": {
           "angularaxis": {
            "gridcolor": "white",
            "linecolor": "white",
            "ticks": ""
           },
           "bgcolor": "#E5ECF6",
           "radialaxis": {
            "gridcolor": "white",
            "linecolor": "white",
            "ticks": ""
           }
          },
          "scene": {
           "xaxis": {
            "backgroundcolor": "#E5ECF6",
            "gridcolor": "white",
            "gridwidth": 2,
            "linecolor": "white",
            "showbackground": true,
            "ticks": "",
            "zerolinecolor": "white"
           },
           "yaxis": {
            "backgroundcolor": "#E5ECF6",
            "gridcolor": "white",
            "gridwidth": 2,
            "linecolor": "white",
            "showbackground": true,
            "ticks": "",
            "zerolinecolor": "white"
           },
           "zaxis": {
            "backgroundcolor": "#E5ECF6",
            "gridcolor": "white",
            "gridwidth": 2,
            "linecolor": "white",
            "showbackground": true,
            "ticks": "",
            "zerolinecolor": "white"
           }
          },
          "shapedefaults": {
           "line": {
            "color": "#2a3f5f"
           }
          },
          "ternary": {
           "aaxis": {
            "gridcolor": "white",
            "linecolor": "white",
            "ticks": ""
           },
           "baxis": {
            "gridcolor": "white",
            "linecolor": "white",
            "ticks": ""
           },
           "bgcolor": "#E5ECF6",
           "caxis": {
            "gridcolor": "white",
            "linecolor": "white",
            "ticks": ""
           }
          },
          "title": {
           "x": 0.05
          },
          "xaxis": {
           "automargin": true,
           "gridcolor": "white",
           "linecolor": "white",
           "ticks": "",
           "title": {
            "standoff": 15
           },
           "zerolinecolor": "white",
           "zerolinewidth": 2
          },
          "yaxis": {
           "automargin": true,
           "gridcolor": "white",
           "linecolor": "white",
           "ticks": "",
           "title": {
            "standoff": 15
           },
           "zerolinecolor": "white",
           "zerolinewidth": 2
          }
         }
        },
        "width": 600,
        "xaxis": {
         "anchor": "y",
         "domain": [
          0,
          1
         ],
         "title": {
          "text": "Num. Rendering Images (%)"
         }
        },
        "yaxis": {
         "anchor": "x",
         "domain": [
          0,
          1
         ],
         "title": {
          "text": "Portion of Invalid Pixels"
         }
        }
       }
      },
      "text/html": [
       "<div>                            <div id=\"b8ed1cd4-c449-43bb-884c-394639a54f3d\" class=\"plotly-graph-div\" style=\"height:400px; width:600px;\"></div>            <script type=\"text/javascript\">                require([\"plotly\"], function(Plotly) {                    window.PLOTLYENV=window.PLOTLYENV || {};                                    if (document.getElementById(\"b8ed1cd4-c449-43bb-884c-394639a54f3d\")) {                    Plotly.newPlot(                        \"b8ed1cd4-c449-43bb-884c-394639a54f3d\",                        [{\"hovertemplate\":\"Num. Rendering Images (%)=%{x}\\u003cbr\\u003ePortion of Invalid Pixels=%{y}\\u003cextra\\u003e\\u003c\\u002fextra\\u003e\",\"legendgroup\":\"\",\"line\":{\"color\":\"#636efa\",\"dash\":\"solid\"},\"marker\":{\"symbol\":\"circle\"},\"mode\":\"lines\",\"name\":\"\",\"orientation\":\"v\",\"showlegend\":false,\"x\":[10,20,40,60,80,100],\"xaxis\":\"x\",\"y\":[0.33825943795578356,0.1354436271886313,0.05608249559989384,0.02735030564149088,0.02205323875552597,0.015613692597378864],\"yaxis\":\"y\",\"type\":\"scatter\"}],                        {\"template\":{\"data\":{\"histogram2dcontour\":[{\"type\":\"histogram2dcontour\",\"colorbar\":{\"outlinewidth\":0,\"ticks\":\"\"},\"colorscale\":[[0.0,\"#0d0887\"],[0.1111111111111111,\"#46039f\"],[0.2222222222222222,\"#7201a8\"],[0.3333333333333333,\"#9c179e\"],[0.4444444444444444,\"#bd3786\"],[0.5555555555555556,\"#d8576b\"],[0.6666666666666666,\"#ed7953\"],[0.7777777777777778,\"#fb9f3a\"],[0.8888888888888888,\"#fdca26\"],[1.0,\"#f0f921\"]]}],\"choropleth\":[{\"type\":\"choropleth\",\"colorbar\":{\"outlinewidth\":0,\"ticks\":\"\"}}],\"histogram2d\":[{\"type\":\"histogram2d\",\"colorbar\":{\"outlinewidth\":0,\"ticks\":\"\"},\"colorscale\":[[0.0,\"#0d0887\"],[0.1111111111111111,\"#46039f\"],[0.2222222222222222,\"#7201a8\"],[0.3333333333333333,\"#9c179e\"],[0.4444444444444444,\"#bd3786\"],[0.5555555555555556,\"#d8576b\"],[0.6666666666666666,\"#ed7953\"],[0.7777777777777778,\"#fb9f3a\"],[0.8888888888888888,\"#fdca26\"],[1.0,\"#f0f921\"]]}],\"heatmap\":[{\"type\":\"heatmap\",\"colorbar\":{\"outlinewidth\":0,\"ticks\":\"\"},\"colorscale\":[[0.0,\"#0d0887\"],[0.1111111111111111,\"#46039f\"],[0.2222222222222222,\"#7201a8\"],[0.3333333333333333,\"#9c179e\"],[0.4444444444444444,\"#bd3786\"],[0.5555555555555556,\"#d8576b\"],[0.6666666666666666,\"#ed7953\"],[0.7777777777777778,\"#fb9f3a\"],[0.8888888888888888,\"#fdca26\"],[1.0,\"#f0f921\"]]}],\"heatmapgl\":[{\"type\":\"heatmapgl\",\"colorbar\":{\"outlinewidth\":0,\"ticks\":\"\"},\"colorscale\":[[0.0,\"#0d0887\"],[0.1111111111111111,\"#46039f\"],[0.2222222222222222,\"#7201a8\"],[0.3333333333333333,\"#9c179e\"],[0.4444444444444444,\"#bd3786\"],[0.5555555555555556,\"#d8576b\"],[0.6666666666666666,\"#ed7953\"],[0.7777777777777778,\"#fb9f3a\"],[0.8888888888888888,\"#fdca26\"],[1.0,\"#f0f921\"]]}],\"contourcarpet\":[{\"type\":\"contourcarpet\",\"colorbar\":{\"outlinewidth\":0,\"ticks\":\"\"}}],\"contour\":[{\"type\":\"contour\",\"colorbar\":{\"outlinewidth\":0,\"ticks\":\"\"},\"colorscale\":[[0.0,\"#0d0887\"],[0.1111111111111111,\"#46039f\"],[0.2222222222222222,\"#7201a8\"],[0.3333333333333333,\"#9c179e\"],[0.4444444444444444,\"#bd3786\"],[0.5555555555555556,\"#d8576b\"],[0.6666666666666666,\"#ed7953\"],[0.7777777777777778,\"#fb9f3a\"],[0.8888888888888888,\"#fdca26\"],[1.0,\"#f0f921\"]]}],\"surface\":[{\"type\":\"surface\",\"colorbar\":{\"outlinewidth\":0,\"ticks\":\"\"},\"colorscale\":[[0.0,\"#0d0887\"],[0.1111111111111111,\"#46039f\"],[0.2222222222222222,\"#7201a8\"],[0.3333333333333333,\"#9c179e\"],[0.4444444444444444,\"#bd3786\"],[0.5555555555555556,\"#d8576b\"],[0.6666666666666666,\"#ed7953\"],[0.7777777777777778,\"#fb9f3a\"],[0.8888888888888888,\"#fdca26\"],[1.0,\"#f0f921\"]]}],\"mesh3d\":[{\"type\":\"mesh3d\",\"colorbar\":{\"outlinewidth\":0,\"ticks\":\"\"}}],\"scatter\":[{\"fillpattern\":{\"fillmode\":\"overlay\",\"size\":10,\"solidity\":0.2},\"type\":\"scatter\"}],\"parcoords\":[{\"type\":\"parcoords\",\"line\":{\"colorbar\":{\"outlinewidth\":0,\"ticks\":\"\"}}}],\"scatterpolargl\":[{\"type\":\"scatterpolargl\",\"marker\":{\"colorbar\":{\"outlinewidth\":0,\"ticks\":\"\"}}}],\"bar\":[{\"error_x\":{\"color\":\"#2a3f5f\"},\"error_y\":{\"color\":\"#2a3f5f\"},\"marker\":{\"line\":{\"color\":\"#E5ECF6\",\"width\":0.5},\"pattern\":{\"fillmode\":\"overlay\",\"size\":10,\"solidity\":0.2}},\"type\":\"bar\"}],\"scattergeo\":[{\"type\":\"scattergeo\",\"marker\":{\"colorbar\":{\"outlinewidth\":0,\"ticks\":\"\"}}}],\"scatterpolar\":[{\"type\":\"scatterpolar\",\"marker\":{\"colorbar\":{\"outlinewidth\":0,\"ticks\":\"\"}}}],\"histogram\":[{\"marker\":{\"pattern\":{\"fillmode\":\"overlay\",\"size\":10,\"solidity\":0.2}},\"type\":\"histogram\"}],\"scattergl\":[{\"type\":\"scattergl\",\"marker\":{\"colorbar\":{\"outlinewidth\":0,\"ticks\":\"\"}}}],\"scatter3d\":[{\"type\":\"scatter3d\",\"line\":{\"colorbar\":{\"outlinewidth\":0,\"ticks\":\"\"}},\"marker\":{\"colorbar\":{\"outlinewidth\":0,\"ticks\":\"\"}}}],\"scattermapbox\":[{\"type\":\"scattermapbox\",\"marker\":{\"colorbar\":{\"outlinewidth\":0,\"ticks\":\"\"}}}],\"scatterternary\":[{\"type\":\"scatterternary\",\"marker\":{\"colorbar\":{\"outlinewidth\":0,\"ticks\":\"\"}}}],\"scattercarpet\":[{\"type\":\"scattercarpet\",\"marker\":{\"colorbar\":{\"outlinewidth\":0,\"ticks\":\"\"}}}],\"carpet\":[{\"aaxis\":{\"endlinecolor\":\"#2a3f5f\",\"gridcolor\":\"white\",\"linecolor\":\"white\",\"minorgridcolor\":\"white\",\"startlinecolor\":\"#2a3f5f\"},\"baxis\":{\"endlinecolor\":\"#2a3f5f\",\"gridcolor\":\"white\",\"linecolor\":\"white\",\"minorgridcolor\":\"white\",\"startlinecolor\":\"#2a3f5f\"},\"type\":\"carpet\"}],\"table\":[{\"cells\":{\"fill\":{\"color\":\"#EBF0F8\"},\"line\":{\"color\":\"white\"}},\"header\":{\"fill\":{\"color\":\"#C8D4E3\"},\"line\":{\"color\":\"white\"}},\"type\":\"table\"}],\"barpolar\":[{\"marker\":{\"line\":{\"color\":\"#E5ECF6\",\"width\":0.5},\"pattern\":{\"fillmode\":\"overlay\",\"size\":10,\"solidity\":0.2}},\"type\":\"barpolar\"}],\"pie\":[{\"automargin\":true,\"type\":\"pie\"}]},\"layout\":{\"autotypenumbers\":\"strict\",\"colorway\":[\"#636efa\",\"#EF553B\",\"#00cc96\",\"#ab63fa\",\"#FFA15A\",\"#19d3f3\",\"#FF6692\",\"#B6E880\",\"#FF97FF\",\"#FECB52\"],\"font\":{\"color\":\"#2a3f5f\"},\"hovermode\":\"closest\",\"hoverlabel\":{\"align\":\"left\"},\"paper_bgcolor\":\"white\",\"plot_bgcolor\":\"#E5ECF6\",\"polar\":{\"bgcolor\":\"#E5ECF6\",\"angularaxis\":{\"gridcolor\":\"white\",\"linecolor\":\"white\",\"ticks\":\"\"},\"radialaxis\":{\"gridcolor\":\"white\",\"linecolor\":\"white\",\"ticks\":\"\"}},\"ternary\":{\"bgcolor\":\"#E5ECF6\",\"aaxis\":{\"gridcolor\":\"white\",\"linecolor\":\"white\",\"ticks\":\"\"},\"baxis\":{\"gridcolor\":\"white\",\"linecolor\":\"white\",\"ticks\":\"\"},\"caxis\":{\"gridcolor\":\"white\",\"linecolor\":\"white\",\"ticks\":\"\"}},\"coloraxis\":{\"colorbar\":{\"outlinewidth\":0,\"ticks\":\"\"}},\"colorscale\":{\"sequential\":[[0.0,\"#0d0887\"],[0.1111111111111111,\"#46039f\"],[0.2222222222222222,\"#7201a8\"],[0.3333333333333333,\"#9c179e\"],[0.4444444444444444,\"#bd3786\"],[0.5555555555555556,\"#d8576b\"],[0.6666666666666666,\"#ed7953\"],[0.7777777777777778,\"#fb9f3a\"],[0.8888888888888888,\"#fdca26\"],[1.0,\"#f0f921\"]],\"sequentialminus\":[[0.0,\"#0d0887\"],[0.1111111111111111,\"#46039f\"],[0.2222222222222222,\"#7201a8\"],[0.3333333333333333,\"#9c179e\"],[0.4444444444444444,\"#bd3786\"],[0.5555555555555556,\"#d8576b\"],[0.6666666666666666,\"#ed7953\"],[0.7777777777777778,\"#fb9f3a\"],[0.8888888888888888,\"#fdca26\"],[1.0,\"#f0f921\"]],\"diverging\":[[0,\"#8e0152\"],[0.1,\"#c51b7d\"],[0.2,\"#de77ae\"],[0.3,\"#f1b6da\"],[0.4,\"#fde0ef\"],[0.5,\"#f7f7f7\"],[0.6,\"#e6f5d0\"],[0.7,\"#b8e186\"],[0.8,\"#7fbc41\"],[0.9,\"#4d9221\"],[1,\"#276419\"]]},\"xaxis\":{\"gridcolor\":\"white\",\"linecolor\":\"white\",\"ticks\":\"\",\"title\":{\"standoff\":15},\"zerolinecolor\":\"white\",\"automargin\":true,\"zerolinewidth\":2},\"yaxis\":{\"gridcolor\":\"white\",\"linecolor\":\"white\",\"ticks\":\"\",\"title\":{\"standoff\":15},\"zerolinecolor\":\"white\",\"automargin\":true,\"zerolinewidth\":2},\"scene\":{\"xaxis\":{\"backgroundcolor\":\"#E5ECF6\",\"gridcolor\":\"white\",\"linecolor\":\"white\",\"showbackground\":true,\"ticks\":\"\",\"zerolinecolor\":\"white\",\"gridwidth\":2},\"yaxis\":{\"backgroundcolor\":\"#E5ECF6\",\"gridcolor\":\"white\",\"linecolor\":\"white\",\"showbackground\":true,\"ticks\":\"\",\"zerolinecolor\":\"white\",\"gridwidth\":2},\"zaxis\":{\"backgroundcolor\":\"#E5ECF6\",\"gridcolor\":\"white\",\"linecolor\":\"white\",\"showbackground\":true,\"ticks\":\"\",\"zerolinecolor\":\"white\",\"gridwidth\":2}},\"shapedefaults\":{\"line\":{\"color\":\"#2a3f5f\"}},\"annotationdefaults\":{\"arrowcolor\":\"#2a3f5f\",\"arrowhead\":0,\"arrowwidth\":1},\"geo\":{\"bgcolor\":\"white\",\"landcolor\":\"#E5ECF6\",\"subunitcolor\":\"white\",\"showland\":true,\"showlakes\":true,\"lakecolor\":\"white\"},\"title\":{\"x\":0.05},\"mapbox\":{\"style\":\"light\"}}},\"xaxis\":{\"anchor\":\"y\",\"domain\":[0.0,1.0],\"title\":{\"text\":\"Num. Rendering Images (%)\"}},\"yaxis\":{\"anchor\":\"x\",\"domain\":[0.0,1.0],\"title\":{\"text\":\"Portion of Invalid Pixels\"}},\"legend\":{\"tracegroupgap\":0},\"margin\":{\"t\":60},\"autosize\":false,\"width\":600,\"height\":400},                        {\"responsive\": true}                    ).then(function(){\n",
       "                            \n",
       "var gd = document.getElementById('b8ed1cd4-c449-43bb-884c-394639a54f3d');\n",
       "var x = new MutationObserver(function (mutations, observer) {{\n",
       "        var display = window.getComputedStyle(gd).display;\n",
       "        if (!display || display === 'none') {{\n",
       "            console.log([gd, 'removed!']);\n",
       "            Plotly.purge(gd);\n",
       "            observer.disconnect();\n",
       "        }}\n",
       "}});\n",
       "\n",
       "// Listen for the removal of the full notebook cells\n",
       "var notebookContainer = gd.closest('#notebook-container');\n",
       "if (notebookContainer) {{\n",
       "    x.observe(notebookContainer, {childList: true});\n",
       "}}\n",
       "\n",
       "// Listen for the clearing of the current output cell\n",
       "var outputEl = gd.closest('.output');\n",
       "if (outputEl) {{\n",
       "    x.observe(outputEl, {childList: true});\n",
       "}}\n",
       "\n",
       "                        })                };                });            </script>        </div>"
      ]
     },
     "metadata": {},
     "output_type": "display_data"
    }
   ],
   "source": [
    "fig = px.line(\n",
    "    df.groupby(\"num_render_images_percentage\")[\"percentage_invalid\"].mean().reset_index(),\n",
    "    x=\"num_render_images_percentage\",\n",
    "    y=\"percentage_invalid\",\n",
    "    labels={\n",
    "        \"num_render_images_percentage\": \"Num. Rendering Images (%)\",\n",
    "        \"percentage_invalid\": \"Portion of Invalid Pixels\",\n",
    "    }\n",
    ")\n",
    "fig.update_layout( autosize=False, width=600, height=400)\n",
    "fig.write_image(f\"../figures/fewer_rendering_images_portion_invalid.pdf\")\n",
    "fig.show()"
   ]
  },
  {
   "cell_type": "code",
   "execution_count": null,
   "metadata": {},
   "outputs": [],
   "source": []
  }
 ],
 "metadata": {
  "kernelspec": {
   "display_name": "python3.8",
   "language": "python",
   "name": "python3"
  },
  "language_info": {
   "codemirror_mode": {
    "name": "ipython",
    "version": 3
   },
   "file_extension": ".py",
   "mimetype": "text/x-python",
   "name": "python",
   "nbconvert_exporter": "python",
   "pygments_lexer": "ipython3",
   "version": "3.8.19"
  }
 },
 "nbformat": 4,
 "nbformat_minor": 2
}
